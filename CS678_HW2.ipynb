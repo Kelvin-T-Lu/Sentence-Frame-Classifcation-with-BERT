{
 "cells": [
  {
   "attachments": {},
   "cell_type": "markdown",
   "metadata": {
    "id": "SgNZTjrhcHa0"
   },
   "source": [
    "## Homework 2, CS678 Fall 2023\n",
    "\n",
    "### This is due on October 13th, 2023. \n",
    "\n",
    "Submit the report to Gradescope with the naming convention of\n",
    "**John_Doe_HW2_Report_CS678_F23.pdf** if your name is John Doe.\n",
    "Only the report should be submitted to Gradescope. The rest of the code and data files, \n",
    "including this notebook in its completion form,\n",
    "should be submitted to Blackboard in a single zipped folder.\n",
    "\n",
    "<!-- #### IMPORTANT: \n",
    "\n",
    "After copying this notebook to your Google Drive, please paste a link to it\n",
    "below. To get a publicly-accessible link, hit the *Share* button at the top\n",
    "right, then click \"Get shareable link\" and copy over the result.If you fail to\n",
    "do this, you will receive no credit for this homework!\n",
    "\n",
    "***LINK:***\n",
    "\n",
    "--- -->\n",
    "\n",
    "\n",
    "##### *How to submit this problem set:*\n",
    "- Write all the answers in this notebook. \n",
    "\n",
    "- When creating your final version of the notebook to hand in, \n",
    "  please do a fresh restart and execute every cell in order. \n",
    "  One handy way to do this is by clicking `Runtime -> Run All` in the notebook menu.\n",
    "\n",
    "##### *Policy regarding Google Colab:*\n",
    "- The instruction in this notebook assumes that you will use Colab.\n",
    "\n",
    "- However, using Colab is not required. You are free to run the code on your local machine, though in that case you may suffer from a slow runtime due to the lack of proper GPU resources.\n",
    "\n",
    "---\n",
    "\n",
    "##### *Academic honesty*\n",
    "\n",
    "- We will audit the notebooks from a set number of students, chosen at\n",
    "  random. The audits will check that the code you wrote actually generates the\n",
    "  answers in your report PDF. If you turn in correct answers on your PDF without code\n",
    "  that actually generates those answers, we will consider this a serious case of\n",
    "  cheating. See the course page for honesty policies.\n",
    "\n",
    "- We will also run automatic checks of notebooks for plagiarism. \n",
    "  Copying code from others is also considered a serious case of cheating.\n",
    "\n",
    "---"
   ]
  },
  {
   "attachments": {},
   "cell_type": "markdown",
   "metadata": {
    "id": "r2dYC4HbZL-j"
   },
   "source": [
    "# Part 1: Data Collection and Annotation\n",
    "\n",
    "In this homework, you will first collect a labeled dataset of **150** sentences for a text classification task of your choice. This process will include:\n",
    "\n",
    "1. *Data collection*: Collect 150 sentences from any source you find interesting (e.g., literature, Tweets, news articles, reviews, etc.)\n",
    "\n",
    "2. *Task design*: Come up with a multilabel sentence-level classification task that you would like to perform on your sentences. \n",
    "\n",
    "3. On your dataset, collect annotations from **two** classmates for your task on a **second, separate set** of a minimum of **150** sentences. Everyone in this class will need to both create their own dataset and also serve as an annotator for two other classmates. In order to get everything done on time, you need to complete the following steps:\n",
    "\n",
    "> *   Find two classmates willing to label 150 sentences each (use the Piazza \"search for teammates\" thread if you're having issues finding labelers).\n",
    "*   Collect the labeled data from each of the two annotators.\n",
    "*   Sanity check the data for basic cleanliness (are all examples annotated? are all labels allowable ones?)\n",
    "\n",
    "4. Collect feedback from annotators about the task including annotation time and obstacles encountered (e.g., maybe some sentences were particularly hard to annotate!)\n",
    "\n",
    "5. Calculate and report inter-annotator agreement.\n",
    "\n",
    "6. Aggregate output from both annotators to create final dataset (include your first 150 sentences too).\n",
    "\n",
    "7. Perform NLP experiments on your new dataset!"
   ]
  },
  {
   "attachments": {},
   "cell_type": "markdown",
   "metadata": {},
   "source": [
    "The mapping of label names and IDs in seed.tsv is as follows:\n",
    "\n",
    "```json\n",
    "{\n",
    "    'Economic': 1.0,\n",
    "    'Capacity and Resources': 2.0,\n",
    "    'Morality': 3.0,\n",
    "    'Fairness and Equality': 4.0,\n",
    "    'Legality, Constitutionality, Jurisdiction': 5.0,\n",
    "    'Policy Prescription and Evaluation': 6.0,\n",
    "    'Crime and Punishment': 7.0,\n",
    "    'Security and Defense': 8.0,\n",
    "    'Health and Safety': 9.0,\n",
    "    'Quality of Life': 10.0,\n",
    "    'Cultural Identity': 11.0,\n",
    "    'Public Sentiment': 12.0,\n",
    "    'Political': 13.0,\n",
    "    'External Regulation and Reputation': 14.0,\n",
    "    'Other': 15.0\n",
    "}\n",
    "```\n",
    "\n",
    "Make sure that this mapping is followed in all of your data files."
   ]
  },
  {
   "attachments": {},
   "cell_type": "markdown",
   "metadata": {
    "id": "4ltte0Z-vD0u"
   },
   "source": [
    "## Question 3 (8 points):\n",
    "Now, compute the inter-annotator agreement between your two annotators. Upload both .tsv files to your Colab session (click the folder icon in the sidebar to the left of the screen). In the code cell below, read the data from the two files and compute both the raw agreement (% of examples for which both annotators agreed on the label) and the [Cohen's Kappa](https://en.wikipedia.org/wiki/Cohen%27s_kappa). Feel free to use implementations in existing libraries (e.g., [sklearn](https://scikit-learn.org/stable/modules/generated/sklearn.metrics.cohen_kappa_score.html)). After you’re done, report the raw agreement and Cohen’s scores in your report.\n",
    "\n",
    "*If you're curious, Cohen suggested the Kappa result be interpreted as follows: values ≤ 0 as indicating no agreement and 0.01–0.20 as none to slight, 0.21–0.40 as fair, 0.41– 0.60 as moderate, 0.61–0.80 as substantial, and 0.81–1.00 as almost perfect agreement.*"
   ]
  },
  {
   "cell_type": "code",
   "execution_count": 66,
   "metadata": {
    "id": "UD7yvkwgy82S"
   },
   "outputs": [
    {
     "name": "stdout",
     "output_type": "stream",
     "text": [
      "Len Annotator1 - 150\n",
      "Len Annotator2 - 150\n",
      "--- Raw agreement between annotator1 and annotator2 ---\n",
      "0.44\n",
      "--- Cohen's kappa score between annotator1 and annotator2 ---\n",
      "0.3854258121158911\n"
     ]
    }
   ],
   "source": [
    "### WRITE CODE TO LOAD ANNOTATIONS AND \n",
    "### COMPUTE AGREEMENT + COHEN'S KAPPA HERE!\n",
    "import pandas as pd\n",
    "from sklearn.metrics import cohen_kappa_score\n",
    "\n",
    "def raw_agreement(annotator1_df, annotator2_df):\n",
    "    num_matches = annotator1_df[\"label_ID\"].eq(annotator2_df[\"label_ID\"]).sum()\n",
    "\n",
    "    raw_agreement = num_matches / len(annotator1_df)\n",
    "    \n",
    "    return raw_agreement\n",
    "\n",
    "def kohens_cappa(annotator1_df, annotator2_df):\n",
    "\n",
    "    kohens_cappa = cohen_kappa_score(annotator1_df[\"label_ID\"], annotator2_df[\"label_ID\"])\n",
    "\n",
    "    return kohens_cappa\n",
    "\n",
    "\n",
    "# TODO  Using CSV as subtitute format, TSV wasn't parsing correctly. \n",
    "annotator1_df = pd.read_csv('./data/cleung5_annotations.csv')\n",
    "annotator2_df = pd.read_csv('./data/ichen6_annotations.csv')\n",
    "\n",
    "print(f\"Len Annotator1 - {len(annotator1_df)}\")\n",
    "print(f\"Len Annotator2 - {len(annotator2_df)}\")\n",
    "\n",
    "\n",
    "print(\"--- Raw agreement between annotator1 and annotator2 ---\")\n",
    "print(raw_agreement(annotator1_df, annotator2_df))\n",
    "\n",
    "print(\"--- Cohen's kappa score between annotator1 and annotator2 ---\")\n",
    "print(kohens_cappa(annotator1_df, annotator2_df))\n"
   ]
  },
  {
   "attachments": {},
   "cell_type": "markdown",
   "metadata": {
    "id": "Qd7Xq4SKzF5U"
   },
   "source": [
    "\n",
    "\n",
    "### *RAW AGREEMENT*: 0.44\n",
    "\n",
    "### *COHEN'S KAPPA*: 0.3854258121158911"
   ]
  },
  {
   "attachments": {},
   "cell_type": "markdown",
   "metadata": {
    "id": "d23zfO_ALKeB"
   },
   "source": [
    "# Part 2: Model Training and Testing"
   ]
  },
  {
   "attachments": {},
   "cell_type": "markdown",
   "metadata": {
    "id": "N25dvF4jvYoy"
   },
   "source": [
    "Now we'll move onto fine-tuning  pretrained language models specifically on your dataset. This part of the homework is meant to be an introduction to the HuggingFace library, and it contains code that will potentially be useful for your final projects. Since we're dealing with large models, the first step is to change to a GPU runtime.\n",
    "\n",
    "## Adding a hardware accelerator\n",
    "\n",
    "Please go to the menu and add a GPU as follows:\n",
    "\n",
    "`Edit > Notebook Settings > Hardware accelerator > (GPU)`\n",
    "\n",
    "Run the following cell to confirm that the GPU is detected."
   ]
  },
  {
   "cell_type": "code",
   "execution_count": 67,
   "metadata": {
    "colab": {
     "base_uri": "https://localhost:8080/"
    },
    "id": "edOh9ooiIW1B",
    "outputId": "3fcf6d88-277a-46fb-fb04-446d7a60bf6c"
   },
   "outputs": [
    {
     "name": "stdout",
     "output_type": "stream",
     "text": [
      "Found device: NVIDIA GeForce RTX 2060, n_gpu: 1\n"
     ]
    }
   ],
   "source": [
    "import torch\n",
    "torch.cuda.empty_cache()\n",
    "\n",
    "# Confirm that the GPU is detected\n",
    "\n",
    "assert torch.cuda.is_available()\n",
    "\n",
    "# Get the GPU device name.\n",
    "device_name = torch.cuda.get_device_name()\n",
    "n_gpu = torch.cuda.device_count()\n",
    "print(f\"Found device: {device_name}, n_gpu: {n_gpu}\")\n",
    "device = torch.device(\"cuda\")"
   ]
  },
  {
   "cell_type": "code",
   "execution_count": 68,
   "metadata": {},
   "outputs": [],
   "source": [
    "import random\n",
    "import numpy as np\n",
    "\n",
    "def seed_everything(seed=42):\n",
    "    random.seed(seed)\n",
    "    np.random.seed(seed)\n",
    "    torch.manual_seed(seed)\n",
    "    torch.cuda.manual_seed(seed)\n",
    "    torch.cuda.manual_seed_all(seed)\n",
    "    torch.backends.cudnn.benchmark = False\n",
    "    torch.backends.cudnn.deterministic = True\n",
    "\n",
    "seed_everything()"
   ]
  },
  {
   "attachments": {},
   "cell_type": "markdown",
   "metadata": {
    "id": "xrvH7xx9LnMC"
   },
   "source": [
    "## Installing Hugging Face's Transformers library\n",
    "We will use Hugging Face's Transformers (https://github.com/huggingface/transformers), an open-source library that provides general-purpose architectures for natural language understanding and generation with a collection of various pretrained models made by the NLP community. This library will allow us to easily use pretrained models like `BERT` and perform experiments on top of them. We can use these models to solve downstream target tasks, such as text classification, question answering, and sequence labeling.\n",
    "\n",
    "Run the following cell to install Hugging Face's Transformers library and download a sample data file called seed.tsv that contains 250 sentences in English, annotated with their frame."
   ]
  },
  {
   "cell_type": "code",
   "execution_count": 7,
   "metadata": {
    "colab": {
     "base_uri": "https://localhost:8080/"
    },
    "id": "gtqS2e5fxpqa",
    "outputId": "c4d0d449-c908-4976-ff0d-1becf8fcf8a7"
   },
   "outputs": [],
   "source": [
    "# !pip install transformers\n",
    "# !pip install -U -q PyDrive"
   ]
  },
  {
   "attachments": {},
   "cell_type": "markdown",
   "metadata": {
    "id": "-8XIL7wPovVX"
   },
   "source": [
    "The cell below imports some helper functions we wrote to demonstrate the task on\n",
    "the sample seed dataset.\n",
    "\n",
    "#### *IMPORTANT NOTE*:\n",
    "\n",
    "The tokenize_and_format function in helpers.py uses bert-base-uncased as the\n",
    "model for the tokenizer. If you are using a different model for training in this\n",
    "notebook or for running predictions in a different notebook or python file, you\n",
    "need to change the model name as well in the tokenizer, otherwise you will get\n",
    "arbitrarily incorrect results down the line.\n",
    "\n",
    "If you update the model name for the tokenizer, you would need to reload the\n",
    "file which can be done simply by re-running the cell below."
   ]
  },
  {
   "cell_type": "code",
   "execution_count": 8,
   "metadata": {
    "id": "Taseb33Sovg0"
   },
   "outputs": [],
   "source": [
    "from helpers import tokenize_and_format, flat_accuracy"
   ]
  },
  {
   "attachments": {},
   "cell_type": "markdown",
   "metadata": {
    "id": "gKc0xYh-MAbc"
   },
   "source": [
    "# Part 1: Data Prep and Model Specifications\n",
    "\n",
    "Upload your data using the file explorer to the left. We have provided a\n",
    "function below to tokenize and format your data as BERT requires. Make sure that\n",
    "your tsv file, titled final_data.tsv, has one column \"sentence\" and another\n",
    "column \"label_ID\" containing integers/float. (basically the same format as\n",
    "seed.tsv should be maintained for the sentence and label columns)\n",
    "\n",
    "If you run the cell below without modifications, it will run on the seed.tsv\n",
    "example data we have provided. It imports some helper functions we wrote to\n",
    "demonstrate the task on the sample dataset. You should first run all of the\n",
    "following cells with seed.tsv just to see how everything works. Then, once you\n",
    "understand the whole preprocessing / fine-tuning process, change the tsv in the\n",
    "below cell to your final_data.tsv file, add any extra preprocessing code you\n",
    "wish, and then run the cells again on your own data.\n",
    "\n",
    "\n",
    "#### Important Note :\n",
    "\n",
    "The code below expects the data to be in a tsv file  with the columns as \"sentence\"\n",
    "and \"label_ID\" (other columns are not that relevant here). But this is different\n",
    "from the instructions in the report where you are expected to create data with\n",
    "\"text\" and \"label\" columns for all of the annotation steps. \n",
    "\n",
    "Modify the code below to suitably handle this."
   ]
  },
  {
   "cell_type": "code",
   "execution_count": 69,
   "metadata": {
    "colab": {
     "base_uri": "https://localhost:8080/"
    },
    "id": "YGhkeLQlNNr8",
    "outputId": "a60dd03f-c067-49de-c08e-29659bc4bcd8"
   },
   "outputs": [
    {
     "name": "stdout",
     "output_type": "stream",
     "text": [
      "34200\n",
      "Original:  \"If someone is gay and he searches for God and has good will, who am I to judge?\"\n",
      "Token IDs: tensor([  101,   107, 11526, 25839, 10127, 16013, 10110, 10191, 17047, 10165,\n",
      "        10139, 13131, 10110, 10438, 12050, 11229,   117, 10488, 10345,   151,\n",
      "        10114, 20290,   136,   107,   102,     0,     0,     0,     0,     0,\n",
      "            0,     0,     0,     0,     0,     0,     0,     0,     0,     0,\n",
      "            0,     0,     0,     0,     0,     0,     0,     0,     0,     0,\n",
      "            0,     0,     0,     0,     0,     0,     0,     0,     0,     0,\n",
      "            0,     0,     0,     0])\n"
     ]
    }
   ],
   "source": [
    "from helpers import tokenize_and_format, flat_accuracy\n",
    "import pandas as pd\n",
    "import numpy as np\n",
    "\n",
    "seed_everything()\n",
    "\n",
    "# df = pd.read_csv('./data/final_data_v2.csv') # TODO : Uncomment this line to use the full dataset\n",
    "# df = pd.read_csv('seed.tsv', delimiter=\"\\t\")\n",
    "# df = pd.read_csv('./data/para_data.csv') # TODO : Uncomment this line to use the full dataset\n",
    "df = pd.read_csv('./data/augmented_df_v1.csv') # TODO : Uncomment this line to use the full dataset\n",
    "\n",
    "df = df.sample(frac=1).reset_index(drop=True)\n",
    "\n",
    "print(len(df))\n",
    "\n",
    "texts = df.sentence.values # this assumes that the column containing the text is called \"sentence\"\n",
    "labels = df.label_ID.values # this assumes that the column containing the labels is called \"label_ID\"\n",
    "\n",
    "### tokenize_and_format() is a helper function provided in helpers.py ###\n",
    "### Male sure you use the correct model name for your tokenizer! ###\n",
    "input_ids, attention_masks = tokenize_and_format(texts)\n",
    "\n",
    "# print(texts)\n",
    "# print(labels)\n",
    "label_list = []\n",
    "for l in labels:\n",
    "  label_array = np.zeros(len(set(labels)))\n",
    "  label_array[int(l)-1] = 1\n",
    "  label_list.append(label_array)\n",
    "\n",
    "# Convert the lists into tensors.\n",
    "input_ids = torch.cat(input_ids, dim=0)\n",
    "attention_masks = torch.cat(attention_masks, dim=0)\n",
    "labels = torch.tensor(np.array(label_list))\n",
    "\n",
    "# Print sentence 0, now as a list of IDs.\n",
    "print('Original: ', texts[0])\n",
    "print('Token IDs:', input_ids[0])"
   ]
  },
  {
   "attachments": {},
   "cell_type": "markdown",
   "metadata": {
    "id": "H3D-CzQEUXYz"
   },
   "source": [
    "## Create train/test/validation splits\n",
    "\n",
    "Here we split your dataset into 3 parts: a training set, a validation set, and a testing set. Each item in your dataset will be a 3-tuple containing an input_id tensor, an attention_mask tensor, and a label tensor.\n",
    "\n"
   ]
  },
  {
   "cell_type": "code",
   "execution_count": 71,
   "metadata": {
    "id": "kGgeZ3M0UWs0"
   },
   "outputs": [],
   "source": [
    "seed_everything()\n",
    "\n",
    "total = len(df)\n",
    "\n",
    "num_train = int(total * .8)\n",
    "num_val = int(total * .1)\n",
    "num_test = total - num_train - num_val\n",
    "\n",
    "# make lists of 3-tuples (already shuffled the dataframe in cell above)\n",
    "train_set = [(input_ids[i], attention_masks[i], labels[i]) for i in range(num_train)]\n",
    "val_set = [(input_ids[i], attention_masks[i], labels[i]) for i in range(num_train, num_val+num_train)]\n",
    "test_set = [(input_ids[i], attention_masks[i], labels[i]) for i in range(num_val + num_train, total)]\n",
    "\n",
    "train_text = [texts[i] for i in range(num_train)]\n",
    "val_text = [texts[i] for i in range(num_train, num_val+num_train)]\n",
    "test_text = [texts[i] for i in range(num_val + num_train, total)]\n"
   ]
  },
  {
   "attachments": {},
   "cell_type": "markdown",
   "metadata": {
    "id": "QCr006iTkqwM"
   },
   "source": [
    "Here we choose the model we want to finetune from https://huggingface.co/transformers/pretrained_models.html. Because the task requires us to label sentences, we wil be using BertForSequenceClassification below. You may see a warning that states that `some weights of the model checkpoint at [model name] were not used when initializing. . .` This warning is expected and means that you should fine-tune your pre-trained model before using it on your downstream task. See [here](https://github.com/huggingface/transformers/issues/5421#issuecomment-652582854) for more info."
   ]
  },
  {
   "cell_type": "code",
   "execution_count": 13,
   "metadata": {
    "colab": {
     "base_uri": "https://localhost:8080/",
     "height": 1000,
     "referenced_widgets": [
      "f84338bb2e9d444eb7733efdb63bb487",
      "d7bb05e9fd0f4481b4f31f23592c81bb",
      "fe84965ca2dc4121aadd69ba7f70fc58",
      "08dd1578798a455b987ea8b97a006e1b",
      "c9e7226f646849789fbab6a9fbab4acd",
      "773ef9da4400420ba043853a1070a283",
      "a8b54d415fad4c08a2fd092ede957007",
      "6656d28a9ab045e39e9c02011ea46a55",
      "59edfe839ac84e4499b1442a8d4da766",
      "84b32485e3ef43ce80ff4923e24402e9",
      "6d454a2fd3bb4b5ab1d58f73c0e36740"
     ]
    },
    "id": "lPo640_ZlEPK",
    "outputId": "b42aeece-7a36-4043-9a43-f0489a7e5d77"
   },
   "outputs": [
    {
     "name": "stderr",
     "output_type": "stream",
     "text": [
      "Some weights of BertForSequenceClassification were not initialized from the model checkpoint at bert-base-multilingual-uncased and are newly initialized: ['classifier.bias', 'classifier.weight']\n",
      "You should probably TRAIN this model on a down-stream task to be able to use it for predictions and inference.\n"
     ]
    },
    {
     "data": {
      "text/plain": [
       "BertForSequenceClassification(\n",
       "  (bert): BertModel(\n",
       "    (embeddings): BertEmbeddings(\n",
       "      (word_embeddings): Embedding(105879, 768, padding_idx=0)\n",
       "      (position_embeddings): Embedding(512, 768)\n",
       "      (token_type_embeddings): Embedding(2, 768)\n",
       "      (LayerNorm): LayerNorm((768,), eps=1e-12, elementwise_affine=True)\n",
       "      (dropout): Dropout(p=0.1, inplace=False)\n",
       "    )\n",
       "    (encoder): BertEncoder(\n",
       "      (layer): ModuleList(\n",
       "        (0-11): 12 x BertLayer(\n",
       "          (attention): BertAttention(\n",
       "            (self): BertSelfAttention(\n",
       "              (query): Linear(in_features=768, out_features=768, bias=True)\n",
       "              (key): Linear(in_features=768, out_features=768, bias=True)\n",
       "              (value): Linear(in_features=768, out_features=768, bias=True)\n",
       "              (dropout): Dropout(p=0.1, inplace=False)\n",
       "            )\n",
       "            (output): BertSelfOutput(\n",
       "              (dense): Linear(in_features=768, out_features=768, bias=True)\n",
       "              (LayerNorm): LayerNorm((768,), eps=1e-12, elementwise_affine=True)\n",
       "              (dropout): Dropout(p=0.1, inplace=False)\n",
       "            )\n",
       "          )\n",
       "          (intermediate): BertIntermediate(\n",
       "            (dense): Linear(in_features=768, out_features=3072, bias=True)\n",
       "            (intermediate_act_fn): GELUActivation()\n",
       "          )\n",
       "          (output): BertOutput(\n",
       "            (dense): Linear(in_features=3072, out_features=768, bias=True)\n",
       "            (LayerNorm): LayerNorm((768,), eps=1e-12, elementwise_affine=True)\n",
       "            (dropout): Dropout(p=0.1, inplace=False)\n",
       "          )\n",
       "        )\n",
       "      )\n",
       "    )\n",
       "    (pooler): BertPooler(\n",
       "      (dense): Linear(in_features=768, out_features=768, bias=True)\n",
       "      (activation): Tanh()\n",
       "    )\n",
       "  )\n",
       "  (dropout): Dropout(p=0.1, inplace=False)\n",
       "  (classifier): Linear(in_features=768, out_features=15, bias=True)\n",
       ")"
      ]
     },
     "execution_count": 13,
     "metadata": {},
     "output_type": "execute_result"
    }
   ],
   "source": [
    "from transformers import BertForSequenceClassification, AutoModelForSequenceClassification, BertConfig\n",
    "from torch.optim import AdamW\n",
    "\n",
    "# model_name = \"bert-base-uncased\"\n",
    "model_name = \"bert-base-multilingual-uncased\"\n",
    "# model = BertForSequenceClassification.from_pretrained(\n",
    "    # Use the 12-layer English BERT model, with an uncased vocab.\n",
    "    # model_name,\n",
    "    # num_labels = 15, # The number of output labels.   \n",
    "    # output_attentions = False, # Whether the model returns attentions weights.\n",
    "    # output_hidden_states = False, # Whether the model returns all hidden-states.\n",
    "# )\n",
    "model = AutoModelForSequenceClassification.from_pretrained(\n",
    "    model_name,\n",
    "    num_labels = 15, \n",
    ")\n",
    "# Tell pytorch to run this model on the GPU.\n",
    "model.cuda()\n"
   ]
  },
  {
   "attachments": {},
   "cell_type": "markdown",
   "metadata": {
    "id": "i3lLdoW_le3M"
   },
   "source": [
    "# TODO: ACTION REQUIRED #\n",
    "\n",
    "Define your fine-tuning hyperparameters in the cell below (we have randomly picked some values to start with). We want you to experiment with different configurations to find the one that works best (i.e., highest accuracy) on your validation set. Feel free to also change pretrained models to others available in the HuggingFace library (you'll have to modify the cell above to do this). You might find papers on BERT fine-tuning stability (e.g., [Mosbach et al., ICLR 2021](https://openreview.net/pdf?id=nzpLWnVAyah)) to be of interest."
   ]
  },
  {
   "cell_type": "code",
   "execution_count": 14,
   "metadata": {
    "colab": {
     "base_uri": "https://localhost:8080/"
    },
    "id": "Dd2JdC6IletV",
    "outputId": "0c254d63-1d6d-4f5d-ebf9-afe362c68ff1"
   },
   "outputs": [],
   "source": [
    "batch_size = 50\n",
    "# you can change lr and eps values in the AdamW call if you like\n",
    "lr = 1e-4\n",
    "optimizer = AdamW(model.parameters(), lr = lr) #with default values of learning rate and epsilon value\n",
    "epochs = 10"
   ]
  },
  {
   "attachments": {},
   "cell_type": "markdown",
   "metadata": {
    "id": "Pd4fwn_el1ge"
   },
   "source": [
    "# Fine-tune your model\n",
    "Here we provide code for fine-tuning your model, monitoring the loss, and checking your validation accuracy. Rerun both of the below cells when you change your hyperparameters above."
   ]
  },
  {
   "cell_type": "code",
   "execution_count": 74,
   "metadata": {
    "id": "O_Mzr-kd5RaY"
   },
   "outputs": [],
   "source": [
    "# function to get validation accuracy\n",
    "def get_validation_performance(val_set):\n",
    "    # Put the model in evaluation mode\n",
    "    model.eval()\n",
    "\n",
    "    # Tracking variables \n",
    "    total_eval_accuracy = 0\n",
    "    total_eval_loss = 0\n",
    "\n",
    "    num_batches = int(len(val_set)/batch_size) + 1\n",
    "\n",
    "    total_correct = 0\n",
    "\n",
    "    for i in range(num_batches):\n",
    "\n",
    "      end_index = min(batch_size * (i+1), len(val_set))\n",
    "\n",
    "      batch = val_set[i*batch_size:end_index]\n",
    "      \n",
    "      if len(batch) == 0: continue\n",
    "\n",
    "      input_id_tensors = torch.stack([data[0] for data in batch])\n",
    "      input_mask_tensors = torch.stack([data[1] for data in batch])\n",
    "      label_tensors = torch.stack([data[2] for data in batch])\n",
    "      \n",
    "      # Move tensors to the GPU\n",
    "      b_input_ids = input_id_tensors.to(device)\n",
    "      b_input_mask = input_mask_tensors.to(device)\n",
    "      b_labels = label_tensors.to(device)\n",
    "        \n",
    "      # Tell pytorch not to bother with constructing the compute graph during\n",
    "      # the forward pass, since this is only needed for backprop (training).\n",
    "      with torch.no_grad():        \n",
    "\n",
    "        # Forward pass, calculate logit predictions.\n",
    "        # Note: this line of code might need to change depending on the model\n",
    "        # the current line will work for bert-base-uncased\n",
    "        # please refer to huggingface documentation for other models\n",
    "        outputs = model(b_input_ids, \n",
    "                                attention_mask=b_input_mask,\n",
    "                                labels=b_labels)\n",
    "                                # token_type_ids=None, \n",
    "        loss = outputs.loss\n",
    "        logits = outputs.logits\n",
    "            \n",
    "        # Accumulate the validation loss.\n",
    "        total_eval_loss += loss.item()\n",
    "        \n",
    "        # Move logits and labels to CPU\n",
    "        logits = (logits).detach().cpu().numpy()\n",
    "        label_ids = b_labels.to('cpu').numpy()\n",
    "\n",
    "\n",
    "        # Calculate the number of correctly labeled examples in batch\n",
    "        pred_flat = np.argmax(logits, axis=1).flatten()\n",
    "        labels_flat = np.argmax(label_ids, axis=1).flatten()\n",
    "\n",
    "        num_correct = np.sum(pred_flat == labels_flat)\n",
    "        total_correct += num_correct\n",
    "        \n",
    "    # Report the final accuracy for this validation run.\n",
    "    print(\"Num of correct predictions =\", total_correct)\n",
    "    avg_val_accuracy = total_correct / len(val_set)\n",
    "    return avg_val_accuracy, pred_flat, labels_flat\n",
    "\n"
   ]
  },
  {
   "cell_type": "code",
   "execution_count": 16,
   "metadata": {
    "colab": {
     "base_uri": "https://localhost:8080/"
    },
    "id": "HTf_ipbjWNoV",
    "outputId": "3af94a67-ad4a-4e75-f9b7-3043cca9dde7"
   },
   "outputs": [
    {
     "name": "stdout",
     "output_type": "stream",
     "text": [
      "\n",
      "======== Epoch 1 / 10 ========\n",
      "Training...\n",
      "Total loss: 74.63601944548239\n",
      "Num of correct predictions = 2827\n",
      "Validation accuracy: 0.8266081871345029\n",
      "\n",
      "======== Epoch 2 / 10 ========\n",
      "Training...\n",
      "Total loss: 27.559611477300372\n",
      "Num of correct predictions = 2902\n",
      "Validation accuracy: 0.8485380116959065\n",
      "\n",
      "======== Epoch 3 / 10 ========\n",
      "Training...\n",
      "Total loss: 22.36485901166143\n",
      "Num of correct predictions = 2861\n",
      "Validation accuracy: 0.8365497076023392\n",
      "\n",
      "======== Epoch 4 / 10 ========\n",
      "Training...\n",
      "Total loss: 20.90613511565004\n",
      "Num of correct predictions = 2898\n",
      "Validation accuracy: 0.8473684210526315\n",
      "\n",
      "======== Epoch 5 / 10 ========\n",
      "Training...\n",
      "Total loss: 20.13559644352039\n",
      "Num of correct predictions = 2896\n",
      "Validation accuracy: 0.8467836257309942\n",
      "\n",
      "======== Epoch 6 / 10 ========\n",
      "Training...\n",
      "Total loss: 19.638587995649402\n",
      "Num of correct predictions = 2894\n",
      "Validation accuracy: 0.8461988304093567\n",
      "\n",
      "======== Epoch 7 / 10 ========\n",
      "Training...\n",
      "Total loss: 19.108792634117407\n",
      "Num of correct predictions = 2900\n",
      "Validation accuracy: 0.847953216374269\n",
      "\n",
      "======== Epoch 8 / 10 ========\n",
      "Training...\n",
      "Total loss: 18.68482497637267\n",
      "Num of correct predictions = 2901\n",
      "Validation accuracy: 0.8482456140350877\n",
      "\n",
      "======== Epoch 9 / 10 ========\n",
      "Training...\n",
      "Total loss: 18.448451487382023\n",
      "Num of correct predictions = 2872\n",
      "Validation accuracy: 0.839766081871345\n",
      "\n",
      "======== Epoch 10 / 10 ========\n",
      "Training...\n",
      "Total loss: 19.71212285570346\n",
      "Num of correct predictions = 2885\n",
      "Validation accuracy: 0.8435672514619883\n",
      "\n",
      "Training complete!\n"
     ]
    }
   ],
   "source": [
    "import random\n",
    "seed_everything()\n",
    "\n",
    "# training loop\n",
    "\n",
    "# For each epoch...\n",
    "for epoch_i in range(0, epochs):\n",
    "    # Perform one full pass over the training set.\n",
    "\n",
    "    print(\"\")\n",
    "    print('======== Epoch {:} / {:} ========'.format(epoch_i + 1, epochs))\n",
    "    print('Training...')\n",
    "\n",
    "    # Reset the total loss for this epoch.\n",
    "    total_train_loss = 0\n",
    "\n",
    "    # Put the model into training mode.\n",
    "    model.train()\n",
    "\n",
    "    # For each batch of training data...\n",
    "    num_batches = int(len(train_set)/batch_size) + 1\n",
    "\n",
    "    for i in range(num_batches):\n",
    "      end_index = min(batch_size * (i+1), len(train_set))\n",
    "\n",
    "      batch = train_set[i*batch_size:end_index]\n",
    "\n",
    "      if len(batch) == 0: continue\n",
    "\n",
    "      input_id_tensors = torch.stack([data[0] for data in batch])\n",
    "      input_mask_tensors = torch.stack([data[1] for data in batch])\n",
    "      label_tensors = torch.stack([data[2] for data in batch])\n",
    "\n",
    "      # Move tensors to the GPU\n",
    "      b_input_ids = input_id_tensors.to(device)\n",
    "      b_input_mask = input_mask_tensors.to(device)\n",
    "      b_labels = label_tensors.to(device) \n",
    "\n",
    "      optimizer.zero_grad()\n",
    "\n",
    "      # Perform a forward pass (evaluate the model on this training batch).\n",
    "      # this line of code might need to change depending on the model\n",
    "      # outputs = model(b_input_ids, token_type_ids=None, attention_mask=b_input_mask, labels=b_labels)\n",
    "      outputs = model(b_input_ids, attention_mask=b_input_mask, labels=b_labels)\n",
    "      \n",
    "      loss = outputs.loss\n",
    "      logits = outputs.logits\n",
    "\n",
    "      total_train_loss += loss.item() \n",
    "\n",
    "      # Perform a backward pass to calculate the gradients.\n",
    "      loss.backward()\n",
    "\n",
    "      # Update parameters and take a step using the computed gradient.\n",
    "      optimizer.step()\n",
    "        \n",
    "    # ========================================\n",
    "    #               Validation\n",
    "    # ========================================\n",
    "    # After the completion of each training epoch, measure our performance on\n",
    "    # our validation set. Implement this function in the cell above.\n",
    "    print(f\"Total loss: {total_train_loss}\")\n",
    "    val_acc, _, _ = get_validation_performance(val_set)\n",
    "    print(f\"Validation accuracy: {val_acc}\")\n",
    "    \n",
    "print(\"\")\n",
    "print(\"Training complete!\")\n",
    "\n",
    "# TODO: SAVE YOUR MODEL HERE... (Refer PyTorch documentation for how to save models)\n",
    "import datetime \n",
    "datetime_str = datetime.datetime.now().strftime('%d%m%y_%H%M')\n",
    "# torch.save(model.state_dict(), f\"./model_chkpts/{model_name}_{lr}-{datetime_str}\")\n",
    "# torch.save(model.state_dict(), f\"./model_chkpts/{model_name}_{lr}-{datetime_str}\")\n",
    "\n",
    "model.save_pretrained(f\"./model_chkpts/datetime_str\")"
   ]
  },
  {
   "attachments": {},
   "cell_type": "markdown",
   "metadata": {
    "id": "J9DpRJE5mHkO"
   },
   "source": [
    "# Evaluate your model on the test set\n",
    "After you're satisfied with your hyperparameters (i.e., you're unable to achieve higher validation accuracy by modifying them further), it's time to evaluate your model on the test set! Run the below cell to compute test set accuracy.\n"
   ]
  },
  {
   "cell_type": "code",
   "execution_count": 75,
   "metadata": {
    "colab": {
     "base_uri": "https://localhost:8080/"
    },
    "id": "msvZ78ii3cZZ",
    "outputId": "e57efd5c-bae0-4a99-c960-900bba9e50d0"
   },
   "outputs": [
    {
     "name": "stdout",
     "output_type": "stream",
     "text": [
      "Num of correct predictions = 2867\n",
      "3420\n"
     ]
    }
   ],
   "source": [
    "seed_everything()\n",
    "\n",
    "# If your notebook disconnects during training, then here, first load the best\n",
    "# model you saved (refer PyTorch docs), then check validation performance\n",
    "\n",
    "test_acc, test_pred, test_labels = get_validation_performance(test_set)\n",
    "print(len(test_set))"
   ]
  },
  {
   "attachments": {},
   "cell_type": "markdown",
   "metadata": {
    "id": "NBbdMwt79fIs"
   },
   "source": [
    "## Question 8 (10 points):\n",
    "Finally, perform an *error analysis* on your model. This is good practice for your final project. Write some code in the below code cell to print out the text of up to five test set examples that your model gets **wrong**. If your model gets more than five test examples wrong, randomly choose five of them to analyze. If your model gets fewer than five examples wrong, please design five test examples that fool your model (i.e., *adversarial examples*). Then, in the following text cell, perform a qualitative analysis of these examples. See if you can figure out any reasons for errors that you observe, or if you have any informed guesses (e.g., common linguistic properties of these particular examples). Does this analysis suggest any possible future steps to improve your classifier?"
   ]
  },
  {
   "cell_type": "code",
   "execution_count": 18,
   "metadata": {
    "id": "X72mumhI9WdR"
   },
   "outputs": [
    {
     "name": "stdout",
     "output_type": "stream",
     "text": [
      "(Pred,Lbl) - (13, 4) Text - It is clear that the results of the interaction and integration of people from different cultures have brought many benefits and cultural enrichment.\n",
      "(Pred,Lbl) - (3, 2) Text - ফেডারেল পদক্ষেপের অনুপস্থিতিতে, কিছু রাজ্য অভিবাসীদের জন্য কভারেজের ফাঁক পূরণ করছে।\n",
      "(Pred,Lbl) - (13, 4) Text - It is clear that the results of the interaction and integration of people from different cultures have brought many benefits and cultural enrichment.\n",
      "(Pred,Lbl) - (13, 4) Text - It is clear that the results of the interaction and integration of people from different cultures have brought many benefits and cultural enrichment.\n",
      "(Pred,Lbl) - (3, 2) Text - ফেডারেল পদক্ষেপের অনুপস্থিতিতে, কিছু রাজ্য অভিবাসীদের জন্য কভারেজের ফাঁক পূরণ করছে।\n"
     ]
    }
   ],
   "source": [
    "seed_everything()\n",
    "torch.cuda.empty_cache()\n",
    "\n",
    "\n",
    "## print out up to 5 test set examples (or adversarial examples) that your model gets wrong\n",
    "## YOUR ERROR ANALYSIS CODE HERE\n",
    "\n",
    "# Get index of all wrong labels. \n",
    "wrong_labels_mask = (test_pred != test_labels)\n",
    "wrong_labels_idx = np.argwhere(wrong_labels_mask).flatten()\n",
    "\n",
    "# Labels of wrong idx.\n",
    "wrong_pred_array = test_pred[wrong_labels_idx]\n",
    "wrong_label_array = test_labels[wrong_labels_idx]\n",
    "\n",
    "# Select 5 random wrong labels\n",
    "random_wrong_idx = np.random.choice(wrong_labels_idx, 5)\n",
    "\n",
    "for wrong_idx in random_wrong_idx:\n",
    "    wrong_pred = test_pred[wrong_idx]\n",
    "    wrong_lbl = test_labels[wrong_idx]\n",
    "    print(f\"(Pred,Lbl) - ({wrong_pred}, {wrong_lbl}) Text - {test_text[wrong_idx]}\")"
   ]
  },
  {
   "cell_type": "markdown",
   "metadata": {},
   "source": [
    "# *Unlabeled Data Section*\n"
   ]
  },
  {
   "cell_type": "code",
   "execution_count": 23,
   "metadata": {},
   "outputs": [
    {
     "name": "stdout",
     "output_type": "stream",
     "text": [
      "Original:  గత 15 సంవత్సరాలుగా ఆర్లింగ్టన్ కౌంటీ బోర్డ్ సభ్యుడిగా ఉన్న ఫిసెట్ (D) వివాహం చేసుకున్నారు.\n",
      "Token IDs: tensor([[  101,   848, 12584, 10217,   879, 12573, 47717, 47442, 12688, 12706,\n",
      "           834, 32385, 16837, 48589, 22668,   868, 52079,   879, 44447, 13354,\n",
      "         92233, 12706, 19043,   867, 51904,   113,   146,   114,   876, 14800,\n",
      "         59389, 47012, 48190, 83692,   119,   102,     0,     0,     0,     0,\n",
      "             0,     0,     0,     0,     0,     0,     0,     0,     0,     0,\n",
      "             0,     0,     0,     0,     0,     0,     0,     0,     0,     0,\n",
      "             0,     0,     0,     0]])\n",
      "38100\n",
      "   id                                           sentence predicted_label  \\\n",
      "0   1  గత 15 సంవత్సరాలుగా ఆర్లింగ్టన్ కౌంటీ బోర్డ్ సభ...            XXXX   \n",
      "1   2  Soll illegalen Einwanderern der Führerschein v...            XXXX   \n",
      "2   3  由 D-San Francisco 议员 Mark Leno 赞助。大会司法委员会于 4 月...            XXXX   \n",
      "3   4  एक वरिष्ठ प्रशासनिक अधिकारीले भने कि रेनो घोषण...            XXXX   \n",
      "4   5  The panel Wednesday approved the resolution in...            XXXX   \n",
      "\n",
      "  label_ID language  \n",
      "0      XXX       te  \n",
      "1      XXX       de  \n",
      "2      XXX    zh-CN  \n",
      "3      XXX       ne  \n",
      "4      XXX       en  \n"
     ]
    }
   ],
   "source": [
    "# *Working with unlabled data\n",
    "\n",
    "unlabelled_test_df = pd.read_json(\"./data/HW2_unlabeled_test_set.json\")\n",
    "\n",
    "# this assumes that the column containing the text is called \"sentence\"\n",
    "texts = unlabelled_test_df.sentence.values\n",
    "\n",
    "### tokenize_and_format() is a helper function provided in helpers.py ###\n",
    "### Male sure you use the correct model name for your tokenizer! ###\n",
    "input_ids, attention_masks = tokenize_and_format(texts)\n",
    "\n",
    "# print(texts)\n",
    "# print(labels)\n",
    "\n",
    "# Convert the lists into tensors.\n",
    "output_input_ids = torch.cat(input_ids, dim=0)\n",
    "output_attention_masks = torch.cat(attention_masks, dim=0)\n",
    "\n",
    "# Print sentence 0, now as a list of IDs.\n",
    "print('Original: ', texts[0])\n",
    "print('Token IDs:', input_ids[0])\n",
    "\n",
    "print(len(unlabelled_test_df))\n",
    "print(unlabelled_test_df.head())"
   ]
  },
  {
   "cell_type": "code",
   "execution_count": 56,
   "metadata": {},
   "outputs": [
    {
     "name": "stdout",
     "output_type": "stream",
     "text": [
      "38100\n"
     ]
    }
   ],
   "source": [
    "test_set = [(input_ids[i], attention_masks[i])\n",
    "                       for i in range(len(output_input_ids))]\n",
    "\n",
    "print(len(test_set))\n"
   ]
  },
  {
   "cell_type": "code",
   "execution_count": 21,
   "metadata": {},
   "outputs": [],
   "source": [
    "model_test = AutoModelForSequenceClassification.from_pretrained(\n",
    "    r\"./model_chkpts\", local_files_only=True,\n",
    "    num_labels=15,\n",
    ")\n",
    "# Tell pytorch to run this model on the GPU.\n",
    "model_test.cuda()\n"
   ]
  },
  {
   "cell_type": "code",
   "execution_count": 22,
   "metadata": {},
   "outputs": [
    {
     "name": "stdout",
     "output_type": "stream",
     "text": [
      "Political\n"
     ]
    }
   ],
   "source": [
    "labels_dict = {\n",
    "    0: 'Economic' ,\n",
    "    1: 'Capacity and Resources',\n",
    "    2: 'Morality',\n",
    "    3: 'Fairness and Equality',\n",
    "    4: 'Legality, Constitutionality, Jurisdiction',\n",
    "    5: 'Policy Prescription and Evaluation',\n",
    "    6: 'Crime and Punishment',\n",
    "    7: 'Security and Defense',\n",
    "    8: 'Health and Safety',\n",
    "    9: 'Quality of Life',\n",
    "    10: 'Cultural Identity',\n",
    "    11: 'Public Sentiment',\n",
    "    12: 'Political',\n",
    "    13: 'External Regulation and Reputation',\n",
    "    14: 'Other'\n",
    "}\n",
    "\n",
    "print(labels_dict[12.0])\n"
   ]
  },
  {
   "cell_type": "code",
   "execution_count": 52,
   "metadata": {},
   "outputs": [],
   "source": [
    "def get_prediction_labels(model, test_set):\n",
    "\n",
    "  model.eval()\n",
    "  \n",
    "  # Tracking variables\n",
    "\n",
    "  num_batches = int(len(test_set)/batch_size) + 1\n",
    "\n",
    "\n",
    "  label_preds = []\n",
    "  for i in range(num_batches):\n",
    "\n",
    "    end_index = min(batch_size * (i+1), len(test_set))\n",
    "\n",
    "    batch = test_set[i*batch_size:end_index]\n",
    "\n",
    "    if len(batch) == 0:\n",
    "        continue\n",
    "\n",
    "    input_id_tensors = torch.stack([data[0] for data in batch]).squeeze(1)\n",
    "    input_mask_tensors = torch.stack([data[1] for data in batch])\n",
    "\n",
    "    # Move tensors to the GPU\n",
    "    b_input_ids = input_id_tensors.to(device)\n",
    "    b_input_mask = input_mask_tensors.to(device)\n",
    "\n",
    "    # Tell pytorch not to bother with constructing the compute graph during\n",
    "      # the forward pass, since this is only needed for backprop (training).\n",
    "    with torch.no_grad():\n",
    "\n",
    "      # Forward pass, calculate logit predictions.\n",
    "      # Note: this line of code might need to change depending on the model\n",
    "      # the current line will work for bert-base-uncased\n",
    "      # please refer to huggingface documentation for other models\n",
    "      outputs = model(b_input_ids,\n",
    "                      attention_mask=b_input_mask)\n",
    "                      # token_type_ids=None,\n",
    "      # print(outputs)\n",
    "      logits = outputs.logits\n",
    "\n",
    "      # Accumulate the validation loss.\n",
    "      # total_eval_loss += loss.item()\n",
    "\n",
    "      # Move logits and labels to CPU\n",
    "      logits = (logits).detach().cpu().numpy()\n",
    "      # label_ids = b_labels.to('cpu').numpy()\n",
    "\n",
    "        # Calculate the number of correctly labeled examples in batch\n",
    "      pred_flat = np.argmax(logits, axis=1).flatten()\n",
    "      label_preds.extend(pred_flat)\n",
    "      # labels_flat = np.argmax(label_ids, axis=1).flatten()\n",
    "  return label_preds\n"
   ]
  },
  {
   "cell_type": "code",
   "execution_count": 57,
   "metadata": {},
   "outputs": [
    {
     "name": "stdout",
     "output_type": "stream",
     "text": [
      "[9, 2, 5, 12, 12, 14, 9, 14, 14, 12, 5, 11, 11, 12, 5, 9, 12, 12, 5, 12, 12, 9, 9, 11, 1, 5, 12, 5, 12, 12, 5, 9, 9, 9, 5, 12, 12, 2, 14, 2, 14, 4, 3, 11, 9, 4, 7, 12, 2, 5, 1, 12, 3, 12, 10, 12, 12, 7, 0, 0, 12, 4, 11, 5, 0, 12, 11, 5, 2, 5, 4, 5, 12, 5, 5, 12, 9, 12, 12, 12, 2, 10, 2, 11, 7, 5, 11, 12, 5, 12, 11, 12, 13, 14, 11, 12, 9, 5, 12, 9, 11, 12, 2, 9, 9, 2, 2, 3, 12, 9, 14, 2, 12, 5, 14, 11, 5, 5, 9, 9, 13, 13, 5, 12, 1, 0, 10, 12, 12, 4, 12, 12, 4, 9, 10, 12, 2, 5, 5, 4, 12, 12, 12, 5, 9, 10, 5, 5, 12, 7, 14, 9, 2, 12, 14, 12, 13, 11, 11, 12, 5, 5, 3, 7, 12, 11, 12, 2, 2, 3, 0, 9, 2, 12, 5, 12, 12, 11, 5, 5, 4, 5, 4, 3, 0, 9, 12, 9, 3, 9, 2, 7, 5, 12, 9, 12, 11, 3, 4, 13, 12, 12, 12, 12, 11, 2, 5, 12, 3, 9, 2, 0, 2, 1, 0, 5, 12, 2, 5, 12, 4, 3, 12, 5, 2, 9, 3, 9, 2, 11, 12, 5, 12, 12, 0, 11, 5, 5, 12, 8, 2, 7, 11, 11, 0, 2, 4, 0, 13, 13, 12, 12, 12, 11, 11, 6, 2, 12, 6, 12, 2, 4, 13, 12, 9, 9, 10, 2, 12, 9, 11, 2, 12, 12, 4, 2, 12, 10, 2, 0, 2, 2, 2, 0, 8, 12, 11, 4, 12, 12, 0, 5, 5, 12, 9, 9, 0, 0, 12, 0, 3, 12, 5, 14, 1, 12, 12, 12, 12, 3, 0, 11, 11, 2, 12, 3, 4, 5, 9, 12, 12, 5, 2, 2, 13, 0, 4, 11, 5, 2, 0, 1, 11, 2, 12, 5, 5, 11, 5, 12, 12, 9, 11, 2, 4, 12, 12, 12, 12, 5, 12, 11, 0, 5, 13, 12, 2, 12, 2, 13, 12, 4, 11, 5, 2, 12, 4, 12, 12, 11, 2, 12, 12, 4, 4, 14, 0, 11, 12, 11, 12, 12, 13, 12, 11, 5, 0, 12, 9, 12, 13, 12, 9, 9, 2, 9, 4, 2, 12, 11, 5, 5, 0, 3, 2, 12, 5, 4, 14, 3, 0, 1, 12, 1, 5, 9, 9, 5, 5, 2, 3, 12, 12, 5, 3, 2, 9, 12, 4, 13, 9, 12, 12, 2, 5, 12, 11, 11, 3, 2, 14, 2, 2, 4, 11, 9, 4, 11, 2, 9, 1, 9, 5, 12, 12, 8, 11, 8, 3, 12, 12, 11, 4, 12, 2, 11, 12, 5, 10, 12, 0, 12, 7, 12, 9, 3, 4, 4, 12, 1, 12, 2, 12, 8, 12, 12, 12, 12, 11, 3, 9, 12, 3, 9, 9, 5, 3, 12, 12, 5, 2, 9, 12, 9, 11, 12, 12, 14, 4, 4, 12, 9, 1, 14, 4, 12, 12, 12, 2, 2, 5, 5, 11, 2, 3, 12, 10, 12, 4, 5, 5, 12, 1, 12, 4, 12, 9, 2, 11, 11, 5, 12, 0, 11, 12, 4, 13, 4, 3, 13, 11, 8, 12, 2, 13, 8, 0, 12, 5, 12, 11, 9, 12, 14, 12, 9, 14, 11, 12, 5, 0, 9, 12, 9, 0, 9, 12, 9, 12, 11, 11, 9, 4, 3, 12, 11, 12, 9, 0, 5, 11, 0, 1, 3, 3, 14, 12, 5, 2, 5, 2, 12, 12, 12, 3, 5, 12, 5, 0, 5, 12, 3, 5, 11, 12, 11, 2, 0, 9, 2, 12, 3, 0, 9, 5, 4, 11, 1, 12, 5, 2, 11, 12, 9, 9, 9, 5, 12, 0, 0, 9, 12, 5, 2, 12, 0, 12, 5, 12, 12, 11, 12, 7, 9, 2, 0, 12, 14, 3, 10, 7, 0, 1, 2, 2, 14, 12, 11, 12, 12, 12, 12, 12, 5, 12, 10, 2, 12, 9, 1, 0, 3, 12, 5, 13, 5, 4, 2, 5, 12, 14, 12, 12, 12, 11, 12, 2, 9, 0, 9, 3, 3, 3, 3, 9, 12, 5, 5, 12, 12, 12, 12, 0, 2, 12, 3, 2, 11, 11, 2, 11, 9, 4, 11, 5, 11, 4, 12, 12, 11, 12, 11, 0, 9, 11, 14, 4, 9, 9, 12, 12, 0, 11, 13, 11, 0, 5, 9, 11, 5, 12, 2, 12, 2, 12, 8, 12, 2, 5, 1, 0, 4, 12, 12, 11, 12, 9, 12, 5, 12, 1, 4, 2, 13, 12, 2, 12, 5, 12, 12, 14, 3, 9, 3, 12, 9, 0, 5, 11, 12, 4, 0, 12, 5, 2, 5, 12, 5, 11, 12, 9, 14, 2, 12, 5, 5, 1, 8, 9, 3, 2, 11, 12, 11, 3, 2, 12, 3, 12, 11, 9, 12, 5, 5, 3, 5, 11, 2, 3, 9, 3, 4, 0, 12, 12, 11, 3, 5, 12, 4, 3, 2, 12, 12, 9, 14, 5, 11, 0, 5, 0, 5, 4, 4, 3, 3, 0, 5, 11, 12, 9, 0, 12, 11, 14, 12, 5, 2, 9, 3, 2, 0, 8, 9, 3, 12, 0, 3, 9, 13, 9, 12, 0, 12, 0, 12, 3, 2, 9, 12, 5, 11, 11, 0, 14, 1, 2, 5, 2, 12, 3, 2, 2, 9, 11, 12, 0, 12, 3, 3, 1, 5, 5, 10, 5, 0, 11, 8, 3, 2, 9, 12, 12, 12, 3, 2, 11, 12, 3, 14, 11, 4, 12, 2, 3, 5, 12, 13, 0, 0, 12, 12, 0, 4, 12, 12, 2, 5, 3, 9, 2, 2, 5, 4, 0, 9, 8, 11, 12, 9, 12, 0, 1, 12, 3, 12, 12, 14, 9, 2, 12, 3, 11, 5, 9, 12, 12, 9, 12, 5, 13, 9, 4, 3, 1, 12, 9, 0, 9, 12, 4, 2, 4, 11, 0, 12, 2, 9, 0, 12, 12, 9, 12, 5, 14, 9, 12, 12, 9, 5, 12, 5, 5, 12, 12, 12, 5, 0, 0, 12, 9, 12, 9, 11, 5, 3, 9, 12, 10, 13, 4, 2, 2, 2, 11, 4, 5, 0, 2, 11, 12, 12, 2, 3, 12, 3, 2, 9, 12, 0, 5, 3, 12, 8, 11, 12, 0, 2, 9, 11, 9, 12, 7, 12, 5, 12, 12, 2, 12, 10, 4, 11, 12, 5, 11, 2, 2, 0, 9, 12, 5, 12, 3, 2, 13, 12, 5, 12, 2, 12, 4, 5, 5, 0, 5, 9, 12, 12, 11, 11, 2, 12, 3, 4, 12, 12, 2, 3, 9, 9, 4, 2, 2, 11, 9, 12, 5, 12, 0, 2, 4, 9, 9, 4, 9, 5, 12, 1, 12, 5, 12, 12, 8, 3, 12, 12, 3, 12, 10, 2, 12, 12, 9, 11, 14, 4, 12, 12, 13, 12, 5, 3, 2, 11, 2, 9, 5, 12, 0, 8, 12, 2, 12, 11, 5, 5, 4, 11, 12, 7, 3, 5, 9, 12, 0, 2, 12, 9, 2, 3, 5, 2, 11, 9, 11, 9, 11, 12, 9, 12, 12, 13, 8, 11, 5, 11, 5, 12, 5, 2, 14, 11, 3, 5, 5, 12, 9, 12, 5, 9, 12, 0, 12, 12, 5, 12, 14, 3, 14, 12, 9, 5, 12, 13, 5, 11, 2, 5, 3, 12, 4, 12, 9, 9, 1, 5, 2, 11, 4, 9, 12, 2, 12, 0, 5, 5, 1, 6, 0, 11, 9, 2, 12, 2, 11, 11, 5, 2, 2, 4, 12, 12, 11, 0, 4, 9, 5, 1, 14, 12, 3, 5, 3, 3, 13, 12, 12, 3, 14, 12, 5, 2, 2, 12, 12, 5, 12, 12, 12, 9, 9, 12, 2, 4, 12, 9, 2, 11, 3, 4, 2, 0, 0, 9, 9, 14, 12, 9, 2, 9, 11, 12, 0, 8, 2, 14, 5, 8, 0, 3, 14, 8, 4, 12, 12, 12, 5, 12, 0, 5, 12, 5, 3, 5, 12, 12, 2, 12, 12, 0, 0, 12, 12, 9, 3, 2, 12, 2, 9, 0, 0, 4, 11, 11, 13, 4, 14, 5, 12, 4, 2, 12, 2, 12, 3, 11, 5, 11, 3, 2, 4, 9, 12, 2, 12, 9, 5, 12, 3, 12, 12, 11, 12, 12, 9, 12, 11, 11, 14, 12, 12, 12, 0, 11, 11, 12, 12, 2, 0, 12, 5, 2, 5, 8, 5, 12, 11, 12, 2, 11, 12, 12, 5, 3, 5, 12, 9, 2, 5, 9, 12, 14, 12, 1, 2, 8, 12, 12, 0, 11, 14, 12, 9, 12, 12, 5, 12, 5, 0, 9, 12, 12, 12, 9, 12, 4, 9, 2, 12, 0, 2, 5, 4, 5, 14, 12, 3, 9, 13, 12, 0, 12, 5, 12, 12, 3, 9, 5, 12, 9, 12, 2, 9, 2, 5, 9, 9, 11, 5, 3, 2, 3, 14, 12, 9, 0, 11, 3, 1, 12, 9, 12, 12, 12, 0, 12, 0, 0, 9, 12, 12, 0, 9, 0, 11, 12, 5, 11, 0, 8, 2, 0, 5, 12, 13, 12, 9, 1, 3, 9, 9, 11, 2, 12, 12, 12, 0, 4, 10, 12, 3, 12, 12, 12, 3, 12, 9, 12, 2, 2, 14, 2, 4, 14, 12, 9, 12, 4, 4, 5, 9, 12, 9, 12, 2, 0, 5, 11, 5, 0, 12, 4, 12, 12, 12, 11, 3, 0, 9, 3, 5, 4, 12, 12, 0, 12, 12, 11, 11, 2, 0, 12, 12, 2, 5, 11, 12, 9, 11, 11, 11, 9, 11, 0, 14, 0, 2, 12, 12, 5, 5, 2, 14, 12, 12, 12, 3, 12, 8, 9, 9, 14, 12, 2, 2, 11, 9, 12, 11, 5, 12, 4, 5, 9, 2, 11, 12, 11, 2, 2, 0, 12, 2, 11, 12, 9, 12, 2, 14, 9, 5, 12, 0, 12, 9, 12, 2, 2, 0, 3, 12, 12, 11, 2, 4, 5, 12, 12, 10, 3, 5, 2, 11, 13, 12, 12, 12, 9, 0, 0, 3, 8, 12, 4, 1, 9, 5, 12, 0, 12, 12, 2, 2, 8, 12, 3, 5, 0, 12, 3, 14, 3, 2, 13, 9, 9, 12, 9, 2, 12, 12, 5, 3, 3, 10, 12, 4, 5, 0, 5, 3, 12, 12, 9, 12, 4, 14, 2, 12, 0, 12, 11, 9, 2, 4, 3, 9, 12, 3, 4, 12, 12, 5, 3, 5, 14, 0, 9, 12, 12, 0, 13, 14, 3, 11, 11, 11, 7, 12, 12, 5, 14, 12, 12, 9, 0, 2, 12, 11, 8, 12, 4, 3, 12, 12, 12, 14, 9, 1, 8, 2, 5, 2, 5, 5, 12, 0, 12, 12, 2, 5, 2, 5, 12, 10, 12, 9, 12, 9, 12, 13, 11, 5, 0, 9, 1, 12, 12, 14, 4, 12, 12, 4, 0, 5, 5, 12, 9, 5, 12, 13, 5, 14, 12, 0, 1, 2, 2, 12, 12, 0, 2, 1, 0, 12, 12, 11, 3, 2, 9, 0, 2, 13, 11, 0, 2, 10, 5, 4, 5, 2, 1, 12, 4, 12, 5, 13, 2, 2, 0, 9, 13, 3, 12, 5, 5, 5, 7, 2, 12, 5, 5, 9, 2, 10, 9, 2, 11, 1, 9, 5, 9, 0, 5, 3, 8, 12, 12, 9, 5, 5, 12, 12, 4, 5, 2, 5, 2, 12, 0, 4, 12, 11, 13, 7, 2, 12, 12, 7, 11, 5, 9, 9, 9, 9, 0, 1, 12, 12, 1, 12, 12, 11, 12, 12, 11, 9, 0, 11, 2, 12, 8, 5, 9, 6, 12, 9, 12, 2, 2, 12, 11, 12, 4, 11, 12, 0, 14, 9, 12, 2, 2, 2, 5, 2, 9, 3, 12, 5, 12, 9, 11, 12, 12, 3, 0, 2, 9, 0, 9, 12, 2, 12, 12, 0, 12, 1, 12, 2, 5, 5, 3, 11, 12, 12, 13, 3, 13, 9, 12, 2, 12, 9, 5, 12, 5, 2, 10, 9, 9, 1, 5, 9, 12, 10, 0, 5, 12, 0, 0, 11, 2, 12, 11, 5, 5, 9, 5, 12, 12, 12, 9, 0, 12, 12, 9, 1, 11, 13, 5, 9, 5, 5, 11, 14, 3, 12, 11, 12, 11, 3, 1, 12, 11, 3, 0, 12, 12, 11, 12, 12, 2, 12, 14, 5, 0, 3, 12, 13, 12, 12, 12, 9, 4, 13, 9, 11, 12, 3, 11, 5, 0, 11, 2, 12, 12, 12, 12, 0, 8, 1, 2, 11, 12, 3, 5, 3, 12, 0, 12, 11, 12, 2, 14, 0, 14, 0, 2, 2, 12, 8, 9, 14, 9, 12, 12, 5, 12, 4, 7, 5, 12, 8, 12, 2, 12, 11, 9, 5, 5, 11, 7, 12, 12, 5, 0, 4, 12, 11, 12, 12, 12, 2, 12, 9, 2, 9, 12, 3, 5, 3, 11, 4, 12, 12, 9, 8, 5, 9, 5, 12, 9, 5, 3, 9, 4, 12, 2, 1, 5, 13, 12, 13, 11, 4, 8, 14, 5, 12, 2, 9, 12, 9, 11, 9, 5, 5, 2, 12, 12, 2, 12, 12, 5, 13, 12, 12, 12, 12, 3, 12, 0, 11, 3, 2, 12, 5, 2, 9, 13, 13, 9, 5, 8, 12, 12, 3, 7, 4, 4, 12, 5, 12, 9, 12, 12, 11, 5, 3, 12, 9, 14, 14, 2, 13, 5, 0, 4, 5, 2, 11, 0, 5, 11, 11, 11, 3, 12, 3, 2, 5, 12, 5, 12, 5, 12, 13, 5, 4, 12, 5, 1, 5, 4, 12, 11, 12, 13, 4, 10, 12, 12, 12, 11, 5, 12, 2, 14, 5, 4, 14, 13, 12, 14, 9, 12, 2, 9, 14, 9, 5, 12, 0, 0, 14, 12, 12, 5, 12, 0, 10, 14, 2, 4, 2, 12, 12, 0, 12, 2, 13, 12, 11, 9, 2, 12, 2, 8, 12, 12, 3, 0, 12, 12, 12, 2, 12, 5, 12, 12, 1, 12, 12, 3, 2, 5, 11, 2, 11, 12, 2, 12, 12, 11, 0, 0, 9, 12, 5, 3, 2, 11, 12, 13, 2, 12, 12, 2, 11, 12, 0, 12, 4, 1, 13, 5, 2, 2, 9, 11, 5, 12, 12, 0, 5, 3, 12, 12, 5, 4, 11, 2, 9, 4, 5, 8, 0, 9, 5, 9, 0, 2, 2, 7, 0, 12, 11, 11, 9, 5, 3, 12, 9, 12, 9, 3, 12, 14, 12, 0, 3, 12, 12, 2, 14, 9, 3, 0, 12, 4, 5, 2, 12, 13, 12, 12, 9, 12, 12, 4, 0, 2, 12, 5, 12, 2, 12, 2, 12, 5, 12, 12, 0, 5, 2, 0, 12, 2, 9, 12, 11, 12, 11, 9, 5, 12, 9, 8, 11, 9, 12, 12, 5, 0, 5, 9, 5, 14, 4, 13, 12, 4, 9, 9, 5, 11, 0, 9, 12, 12, 9, 3, 0, 12, 12, 2, 9, 5, 0, 2, 12, 12, 4, 5, 12, 5, 2, 5, 12, 13, 12, 0, 11, 12, 0, 12, 5, 0, 5, 9, 4, 12, 3, 4, 14, 5, 12, 9, 0, 2, 4, 5, 12, 13, 12, 9, 12, 12, 11, 2, 12, 9, 5, 12, 2, 12, 12, 12, 5, 0, 2, 0, 11, 2, 0, 9, 2, 11, 5, 12, 11, 12, 11, 5, 4, 0, 11, 12, 9, 0, 12, 5, 2, 9, 2, 0, 9, 5, 12, 5, 9, 9, 12, 9, 0, 9, 3, 9, 8, 11, 12, 13, 13, 0, 4, 3, 5, 12, 11, 9, 12, 2, 11, 12, 12, 5, 12, 2, 5, 9, 12, 5, 12, 0, 14, 12, 0, 11, 9, 12, 0, 11, 5, 0, 9, 11, 10, 12, 12, 13, 12, 12, 3, 0, 4, 12, 9, 5, 5, 12, 12, 13, 5, 12, 9, 12, 3, 0, 9, 10, 12, 11, 12, 12, 12, 11, 12, 11, 12, 12, 12, 10, 11, 11, 12, 0, 1, 4, 5, 0, 9, 14, 0, 5, 12, 12, 12, 1, 12, 5, 2, 4, 12, 11, 2, 14, 11, 5, 3, 9, 9, 12, 3, 0, 14, 14, 12, 3, 11, 4, 12, 11, 9, 12, 3, 9, 12, 9, 2, 2, 0, 14, 5, 14, 12, 9, 0, 4, 4, 12, 14, 13, 8, 12, 3, 12, 11, 9, 12, 11, 4, 12, 12, 14, 9, 5, 2, 4, 0, 0, 12, 0, 2, 5, 13, 9, 12, 12, 5, 11, 12, 0, 0, 12, 9, 0, 5, 2, 12, 4, 3, 12, 12, 12, 2, 2, 12, 12, 11, 12, 12, 5, 12, 12, 3, 12, 9, 4, 3, 2, 12, 12, 13, 4, 9, 0, 5, 3, 14, 2, 1, 9, 10, 3, 2, 9, 11, 12, 5, 9, 12, 12, 0, 12, 12, 12, 11, 12, 12, 3, 12, 0, 12, 12, 11, 12, 9, 9, 5, 12, 9, 5, 14, 14, 4, 11, 2, 2, 9, 5, 3, 5, 11, 12, 4, 11, 4, 2, 12, 12, 5, 12, 2, 13, 9, 2, 5, 12, 1, 5, 12, 12, 3, 9, 2, 1, 12, 2, 2, 12, 12, 2, 12, 12, 9, 12, 2, 2, 5, 0, 2, 9, 9, 11, 13, 5, 0, 12, 12, 12, 0, 0, 11, 9, 9, 12, 9, 14, 9, 12, 9, 9, 9, 9, 12, 5, 10, 3, 0, 5, 7, 12, 5, 5, 14, 12, 11, 5, 12, 14, 12, 5, 12, 5, 2, 2, 5, 12, 12, 2, 5, 12, 3, 1, 9, 0, 0, 5, 5, 5, 9, 12, 0, 12, 0, 14, 2, 0, 11, 2, 5, 9, 8, 12, 12, 9, 3, 11, 2, 11, 12, 11, 12, 2, 2, 12, 12, 4, 14, 7, 0, 12, 12, 12, 12, 12, 12, 12, 12, 12, 12, 12, 2, 9, 2, 11, 5, 5, 5, 12, 3, 11, 12, 14, 4, 12, 12, 2, 11, 3, 12, 12, 12, 9, 11, 0, 11, 5, 1, 2, 2, 11, 5, 2, 9, 3, 14, 12, 12, 13, 12, 4, 9, 2, 5, 11, 12, 11, 13, 13, 9, 12, 2, 11, 11, 9, 12, 5, 4, 12, 12, 11, 9, 12, 1, 2, 1, 0, 14, 5, 5, 12, 11, 13, 2, 5, 12, 5, 13, 10, 5, 11, 5, 4, 0, 0, 3, 9, 9, 5, 12, 0, 9, 2, 2, 3, 2, 5, 3, 3, 3, 9, 13, 12, 2, 12, 11, 12, 12, 12, 9, 5, 0, 11, 2, 2, 12, 11, 9, 12, 12, 11, 12, 9, 11, 12, 5, 5, 4, 2, 4, 12, 3, 2, 12, 4, 2, 9, 3, 0, 13, 11, 11, 2, 0, 5, 9, 2, 12, 11, 1, 5, 12, 12, 0, 2, 9, 9, 12, 9, 2, 9, 12, 1, 5, 5, 4, 7, 12, 12, 12, 0, 5, 12, 12, 12, 3, 2, 12, 5, 5, 11, 12, 4, 12, 4, 5, 2, 3, 4, 10, 2, 12, 9, 2, 4, 12, 11, 0, 5, 12, 12, 0, 12, 2, 11, 11, 12, 12, 5, 12, 12, 3, 0, 12, 12, 4, 4, 5, 12, 12, 5, 0, 5, 9, 0, 12, 5, 11, 11, 4, 13, 0, 12, 5, 5, 5, 9, 12, 3, 12, 2, 9, 11, 9, 4, 11, 12, 12, 12, 5, 12, 5, 5, 12, 5, 2, 1, 13, 2, 2, 11, 12, 1, 11, 1, 12, 11, 0, 3, 3, 12, 5, 5, 5, 5, 12, 2, 13, 12, 12, 9, 2, 12, 5, 0, 2, 9, 14, 1, 0, 12, 11, 8, 11, 0, 13, 5, 4, 4, 2, 5, 1, 12, 11, 8, 9, 2, 10, 11, 12, 2, 13, 12, 5, 5, 9, 13, 11, 9, 12, 14, 5, 2, 12, 3, 12, 7, 4, 9, 11, 9, 12, 9, 4, 14, 12, 2, 12, 11, 5, 2, 12, 12, 11, 12, 2, 14, 9, 0, 11, 9, 13, 12, 5, 10, 12, 2, 12, 0, 9, 4, 13, 14, 0, 9, 0, 11, 5, 1, 2, 12, 11, 12, 12, 1, 12, 12, 12, 12, 9, 2, 12, 11, 0, 5, 9, 12, 12, 13, 11, 12, 12, 5, 14, 2, 12, 12, 12, 9, 12, 12, 0, 5, 2, 12, 12, 12, 14, 12, 11, 5, 4, 9, 9, 12, 1, 0, 1, 11, 12, 2, 10, 12, 0, 5, 2, 2, 5, 11, 2, 11, 12, 12, 5, 2, 9, 12, 12, 2, 9, 14, 12, 0, 3, 5, 2, 2, 3, 2, 7, 9, 9, 12, 9, 3, 0, 12, 11, 5, 3, 9, 4, 2, 12, 13, 12, 5, 14, 9, 4, 9, 2, 3, 5, 4, 9, 12, 12, 2, 0, 12, 9, 3, 2, 11, 12, 12, 12, 5, 12, 0, 12, 12, 12, 9, 12, 11, 5, 1, 0, 12, 4, 2, 11, 3, 10, 12, 13, 9, 12, 14, 11, 11, 2, 12, 12, 12, 4, 5, 2, 12, 12, 1, 12, 12, 12, 12, 2, 12, 5, 5, 12, 5, 12, 9, 14, 12, 9, 12, 12, 12, 2, 3, 12, 12, 12, 13, 12, 12, 0, 14, 0, 11, 14, 12, 2, 13, 11, 3, 9, 0, 9, 5, 0, 12, 5, 9, 12, 12, 0, 2, 9, 5, 12, 12, 5, 4, 3, 11, 11, 12, 5, 0, 5, 9, 2, 12, 2, 5, 10, 0, 9, 11, 5, 9, 11, 12, 13, 5, 12, 12, 2, 4, 3, 3, 12, 3, 9, 12, 5, 12, 12, 2, 2, 5, 2, 12, 12, 12, 4, 10, 11, 0, 1, 12, 10, 10, 4, 0, 8, 11, 12, 7, 11, 3, 12, 5, 12, 12, 0, 12, 9, 4, 5, 0, 14, 12, 8, 5, 2, 5, 11, 7, 3, 1, 9, 14, 5, 0, 3, 12, 2, 9, 5, 3, 12, 13, 5, 12, 0, 1, 4, 5, 9, 12, 5, 12, 4, 12, 9, 2, 12, 13, 5, 0, 12, 2, 10, 12, 9, 4, 0, 12, 12, 12, 2, 4, 5, 12, 11, 1, 14, 12, 12, 2, 9, 12, 7, 9, 13, 14, 11, 12, 13, 11, 11, 10, 12, 11, 12, 12, 1, 12, 5, 12, 5, 11, 5, 12, 12, 2, 12, 12, 12, 11, 12, 0, 12, 2, 5, 12, 5, 12, 13, 4, 5, 12, 3, 2, 3, 11, 7, 4, 1, 11, 12, 0, 12, 11, 12, 1, 12, 14, 14, 11, 12, 0, 9, 0, 9, 13, 1, 12, 7, 12, 3, 11, 12, 12, 12, 12, 11, 12, 12, 2, 0, 8, 2, 11, 12, 12, 11, 12, 5, 14, 12, 2, 5, 9, 0, 12, 9, 2, 0, 2, 12, 12, 12, 0, 9, 0, 5, 9, 0, 9, 9, 12, 2, 0, 12, 11, 9, 5, 1, 3, 9, 12, 12, 11, 11, 5, 5, 11, 2, 5, 13, 2, 3, 5, 1, 12, 5, 11, 11, 9, 0, 12, 12, 14, 11, 5, 0, 0, 0, 12, 0, 4, 12, 4, 5, 12, 2, 1, 12, 5, 12, 2, 2, 12, 9, 2, 2, 11, 5, 2, 1, 5, 0, 5, 5, 0, 5, 12, 5, 12, 11, 2, 10, 2, 12, 3, 12, 2, 12, 9, 12, 5, 5, 7, 5, 12, 5, 9, 4, 10, 12, 5, 9, 2, 11, 2, 12, 14, 5, 3, 12, 12, 2, 5, 0, 9, 0, 3, 8, 11, 1, 12, 12, 9, 12, 5, 5, 0, 5, 5, 5, 11, 3, 4, 11, 12, 12, 0, 0, 13, 10, 11, 1, 12, 12, 12, 3, 5, 13, 12, 3, 4, 3, 0, 9, 12, 12, 12, 14, 3, 5, 3, 12, 10, 12, 5, 4, 12, 2, 2, 3, 9, 12, 12, 5, 12, 14, 3, 3, 4, 12, 2, 9, 12, 5, 4, 12, 2, 4, 12, 5, 11, 12, 2, 4, 5, 0, 5, 4, 12, 11, 11, 8, 12, 5, 2, 0, 11, 11, 0, 9, 11, 3, 9, 12, 9, 1, 12, 12, 9, 9, 12, 12, 12, 9, 13, 0, 9, 5, 5, 12, 9, 0, 2, 12, 11, 12, 4, 12, 9, 12, 0, 12, 0, 0, 9, 12, 11, 13, 1, 9, 12, 9, 9, 11, 5, 14, 9, 11, 7, 11, 12, 9, 12, 12, 0, 13, 3, 12, 12, 12, 5, 2, 0, 9, 12, 9, 2, 11, 5, 9, 4, 12, 5, 12, 11, 0, 9, 13, 5, 3, 11, 2, 0, 12, 12, 12, 12, 12, 2, 0, 12, 5, 9, 12, 11, 14, 12, 4, 5, 14, 12, 12, 12, 5, 2, 12, 9, 11, 2, 4, 13, 12, 0, 3, 0, 4, 12, 9, 9, 9, 11, 0, 8, 0, 9, 12, 12, 12, 12, 12, 11, 9, 12, 11, 12, 1, 12, 2, 9, 8, 3, 12, 12, 2, 5, 12, 11, 2, 5, 5, 12, 13, 2, 12, 9, 12, 12, 2, 4, 11, 5, 12, 3, 11, 13, 9, 9, 12, 12, 12, 4, 9, 2, 4, 11, 5, 4, 2, 9, 12, 11, 12, 0, 12, 9, 0, 12, 2, 9, 4, 9, 2, 12, 14, 2, 4, 9, 12, 3, 11, 2, 2, 5, 0, 2, 4, 8, 9, 2, 5, 4, 12, 11, 4, 5, 5, 9, 11, 9, 11, 2, 12, 12, 12, 12, 12, 2, 12, 13, 12, 5, 9, 12, 5, 9, 0, 14, 5, 3, 12, 14, 11, 12, 12, 3, 12, 4, 9, 2, 5, 2, 12, 12, 2, 8, 14, 2, 2, 12, 12, 2, 1, 5, 12, 2, 5, 12, 2, 4, 9, 5, 9, 3, 12, 1, 12, 9, 11, 12, 4, 12, 11, 3, 0, 0, 9, 12, 2, 12, 5, 8, 2, 12, 5, 12, 12, 2, 5, 8, 5, 5, 0, 4, 2, 12, 0, 4, 0, 2, 14, 9, 13, 2, 12, 12, 12, 2, 2, 2, 12, 5, 5, 4, 2, 5, 2, 12, 12, 4, 12, 8, 9, 13, 12, 4, 9, 12, 5, 4, 5, 12, 11, 14, 11, 14, 2, 12, 3, 12, 12, 9, 4, 5, 9, 0, 12, 9, 12, 3, 12, 12, 4, 12, 12, 5, 2, 3, 10, 11, 14, 12, 4, 12, 0, 4, 5, 0, 14, 11, 9, 3, 12, 0, 5, 3, 14, 3, 3, 12, 12, 12, 0, 4, 11, 2, 5, 12, 7, 11, 10, 5, 12, 9, 12, 12, 5, 0, 11, 12, 0, 12, 2, 12, 7, 11, 11, 4, 12, 12, 11, 5, 9, 0, 12, 0, 5, 5, 8, 13, 9, 13, 1, 13, 3, 11, 9, 12, 2, 9, 12, 12, 12, 1, 9, 0, 12, 5, 12, 12, 2, 12, 12, 12, 5, 12, 2, 5, 5, 5, 5, 9, 12, 2, 13, 2, 3, 0, 13, 10, 9, 14, 12, 12, 3, 9, 11, 1, 2, 0, 12, 12, 2, 14, 9, 12, 9, 3, 13, 12, 11, 12, 1, 11, 12, 2, 5, 7, 11, 0, 12, 13, 11, 12, 12, 9, 2, 12, 11, 5, 12, 3, 0, 2, 0, 12, 9, 1, 12, 2, 9, 2, 5, 12, 11, 11, 5, 0, 12, 0, 12, 12, 5, 0, 11, 12, 13, 5, 13, 0, 12, 12, 11, 5, 12, 2, 3, 11, 11, 12, 9, 14, 2, 4, 12, 2, 12, 1, 4, 12, 4, 12, 12, 12, 1, 3, 5, 2, 12, 0, 12, 11, 12, 11, 9, 12, 0, 7, 3, 9, 5, 12, 5, 12, 12, 5, 11, 0, 5, 11, 4, 10, 11, 0, 14, 2, 12, 9, 5, 2, 2, 3, 12, 11, 5, 9, 12, 11, 11, 5, 12, 0, 12, 12, 2, 4, 13, 14, 12, 10, 5, 2, 12, 5, 12, 5, 12, 5, 12, 1, 12, 0, 9, 2, 12, 0, 12, 12, 5, 11, 11, 9, 0, 12, 5, 12, 12, 12, 12, 13, 2, 8, 9, 3, 12, 5, 11, 3, 8, 2, 5, 12, 13, 5, 3, 0, 4, 5, 11, 11, 3, 10, 9, 4, 12, 11, 12, 13, 9, 12, 12, 0, 4, 2, 5, 3, 11, 9, 8, 12, 12, 5, 2, 5, 3, 12, 9, 11, 12, 12, 12, 10, 9, 5, 11, 9, 11, 12, 0, 0, 5, 9, 14, 2, 9, 4, 11, 2, 2, 5, 11, 8, 9, 12, 12, 5, 8, 0, 0, 5, 12, 5, 12, 12, 12, 2, 2, 5, 11, 9, 12, 12, 10, 5, 12, 9, 12, 5, 12, 14, 11, 3, 0, 5, 12, 0, 0, 5, 0, 12, 12, 5, 12, 9, 10, 0, 2, 12, 5, 9, 2, 0, 9, 9, 11, 0, 12, 0, 2, 12, 2, 4, 0, 12, 0, 12, 5, 2, 2, 13, 5, 4, 12, 12, 0, 5, 2, 4, 12, 1, 12, 9, 11, 12, 12, 5, 0, 3, 12, 2, 12, 0, 4, 0, 2, 12, 12, 3, 12, 11, 0, 2, 11, 12, 12, 12, 12, 2, 2, 11, 12, 5, 1, 12, 5, 9, 12, 11, 11, 12, 4, 11, 14, 5, 12, 12, 5, 12, 14, 2, 10, 3, 11, 5, 4, 12, 9, 9, 12, 14, 11, 12, 12, 2, 12, 2, 13, 9, 3, 12, 3, 2, 5, 5, 12, 12, 11, 0, 0, 9, 12, 11, 13, 14, 13, 9, 9, 0, 3, 2, 5, 3, 11, 5, 5, 4, 11, 11, 1, 3, 12, 2, 12, 12, 0, 12, 3, 5, 11, 5, 11, 5, 14, 2, 11, 9, 3, 2, 0, 0, 2, 12, 12, 12, 0, 2, 5, 12, 9, 14, 11, 12, 5, 11, 12, 9, 11, 11, 3, 12, 3, 14, 12, 14, 8, 2, 4, 12, 14, 11, 12, 12, 3, 2, 9, 13, 12, 5, 2, 14, 2, 9, 12, 4, 9, 0, 12, 2, 5, 11, 0, 11, 11, 11, 0, 13, 12, 11, 11, 3, 11, 11, 3, 12, 0, 4, 0, 12, 12, 11, 14, 2, 5, 12, 2, 5, 8, 11, 5, 12, 9, 3, 3, 12, 12, 8, 2, 1, 12, 5, 5, 2, 0, 3, 13, 12, 4, 13, 5, 12, 5, 7, 4, 9, 0, 12, 12, 0, 4, 9, 3, 4, 9, 0, 0, 13, 5, 13, 0, 12, 4, 9, 12, 12, 5, 9, 13, 12, 14, 0, 12, 12, 12, 2, 4, 11, 12, 4, 5, 0, 2, 12, 12, 11, 12, 9, 5, 5, 5, 5, 12, 1, 2, 12, 9, 12, 12, 2, 9, 4, 2, 12, 5, 12, 9, 8, 4, 11, 11, 0, 0, 12, 5, 5, 2, 11, 12, 2, 9, 12, 14, 9, 12, 9, 10, 14, 12, 9, 9, 5, 5, 2, 14, 12, 5, 0, 2, 4, 2, 12, 14, 12, 1, 11, 11, 9, 12, 13, 14, 12, 12, 5, 12, 11, 5, 10, 11, 9, 14, 11, 12, 9, 5, 9, 2, 12, 11, 12, 14, 4, 12, 12, 11, 12, 3, 2, 12, 11, 12, 9, 4, 9, 14, 11, 5, 11, 12, 5, 2, 14, 13, 5, 9, 12, 4, 2, 12, 10, 2, 11, 12, 0, 12, 5, 0, 12, 11, 12, 13, 4, 4, 5, 2, 9, 13, 0, 12, 12, 0, 2, 12, 12, 11, 0, 1, 9, 0, 2, 12, 9, 12, 12, 5, 11, 5, 12, 5, 12, 5, 2, 11, 3, 12, 5, 0, 2, 3, 12, 2, 2, 11, 5, 5, 12, 0, 14, 5, 12, 3, 9, 11, 2, 0, 2, 0, 3, 0, 2, 9, 5, 0, 3, 2, 5, 4, 12, 1, 1, 12, 9, 12, 12, 0, 2, 12, 11, 9, 12, 2, 5, 11, 12, 5, 9, 5, 13, 12, 5, 12, 5, 4, 12, 4, 0, 12, 2, 4, 5, 11, 12, 9, 12, 12, 3, 0, 4, 14, 2, 12, 9, 12, 2, 9, 12, 12, 11, 5, 14, 0, 4, 12, 11, 5, 12, 1, 2, 12, 12, 2, 12, 0, 13, 4, 5, 5, 5, 0, 5, 2, 7, 2, 12, 14, 11, 2, 9, 8, 12, 9, 14, 5, 11, 5, 3, 11, 2, 9, 1, 3, 5, 12, 12, 9, 5, 13, 12, 12, 11, 12, 14, 12, 0, 9, 0, 0, 12, 9, 5, 11, 4, 5, 14, 5, 12, 3, 12, 12, 13, 12, 12, 11, 5, 12, 8, 9, 12, 5, 1, 2, 4, 5, 0, 5, 12, 12, 12, 9, 4, 12, 2, 0, 9, 12, 0, 0, 12, 13, 9, 12, 2, 7, 2, 9, 12, 11, 12, 5, 5, 5, 2, 5, 3, 5, 12, 9, 12, 5, 4, 14, 4, 12, 12, 5, 9, 5, 10, 9, 11, 3, 12, 12, 5, 12, 12, 4, 10, 12, 5, 9, 12, 1, 5, 12, 12, 2, 1, 11, 11, 5, 5, 0, 9, 1, 5, 3, 9, 9, 12, 9, 2, 9, 8, 3, 11, 12, 2, 0, 9, 3, 2, 11, 4, 11, 12, 5, 6, 11, 10, 9, 5, 0, 5, 12, 12, 14, 5, 5, 12, 12, 12, 12, 0, 0, 11, 5, 5, 11, 5, 2, 12, 2, 1, 9, 13, 9, 9, 12, 9, 5, 3, 1, 11, 2, 2, 0, 5, 2, 12, 2, 4, 4, 11, 12, 1, 12, 5, 12, 12, 12, 5, 12, 12, 12, 12, 1, 2, 0, 12, 4, 4, 9, 2, 4, 5, 8, 12, 12, 12, 11, 9, 12, 0, 5, 12, 5, 4, 0, 4, 2, 12, 12, 11, 11, 13, 9, 9, 2, 12, 14, 13, 12, 13, 9, 5, 5, 2, 0, 9, 12, 3, 11, 0, 2, 12, 12, 0, 5, 14, 9, 13, 1, 12, 11, 12, 2, 1, 0, 12, 12, 7, 13, 12, 12, 13, 12, 12, 4, 3, 11, 12, 12, 12, 12, 12, 12, 0, 12, 11, 2, 11, 5, 11, 0, 5, 2, 13, 3, 12, 12, 3, 12, 2, 13, 3, 13, 12, 12, 11, 12, 2, 11, 14, 12, 12, 4, 0, 0, 12, 12, 9, 2, 3, 2, 14, 11, 4, 5, 9, 2, 12, 11, 11, 12, 13, 5, 5, 0, 8, 12, 4, 3, 9, 0, 2, 2, 2, 0, 2, 5, 11, 5, 0, 12, 12, 0, 14, 12, 1, 12, 2, 2, 9, 13, 2, 11, 7, 2, 12, 12, 13, 4, 12, 12, 2, 7, 1, 11, 9, 0, 11, 12, 4, 12, 9, 5, 9, 4, 1, 5, 2, 11, 5, 9, 3, 9, 5, 12, 9, 0, 1, 13, 2, 4, 12, 12, 5, 2, 12, 12, 11, 0, 0, 9, 11, 5, 12, 14, 3, 3, 11, 11, 5, 5, 2, 3, 2, 2, 2, 12, 4, 12, 2, 9, 11, 5, 11, 2, 2, 12, 12, 9, 9, 12, 2, 11, 12, 12, 10, 9, 12, 9, 5, 0, 13, 12, 10, 12, 0, 12, 9, 12, 0, 5, 2, 0, 5, 10, 14, 5, 12, 11, 5, 12, 12, 12, 12, 12, 9, 0, 12, 3, 4, 11, 4, 2, 11, 2, 10, 11, 0, 0, 12, 12, 4, 12, 2, 12, 5, 2, 11, 0, 12, 2, 12, 3, 12, 12, 12, 2, 5, 2, 2, 11, 0, 5, 14, 9, 5, 12, 13, 3, 4, 2, 7, 5, 2, 3, 0, 2, 11, 12, 9, 12, 2, 5, 2, 12, 12, 5, 11, 13, 12, 2, 12, 9, 12, 2, 0, 9, 12, 12, 9, 5, 0, 12, 2, 12, 10, 12, 9, 5, 9, 2, 4, 1, 3, 12, 11, 9, 2, 11, 12, 2, 12, 12, 11, 9, 12, 9, 5, 12, 9, 4, 12, 9, 12, 12, 1, 9, 0, 7, 9, 5, 11, 11, 3, 12, 14, 11, 3, 5, 14, 11, 2, 11, 11, 5, 12, 5, 11, 11, 12, 5, 0, 9, 9, 14, 12, 0, 13, 9, 12, 0, 3, 12, 8, 1, 14, 0, 9, 12, 12, 12, 3, 12, 13, 9, 12, 12, 11, 1, 14, 9, 8, 3, 3, 11, 4, 5, 12, 12, 11, 4, 13, 12, 11, 12, 5, 12, 3, 9, 12, 5, 13, 2, 12, 9, 12, 12, 3, 2, 2, 5, 0, 11, 9, 12, 13, 11, 12, 12, 12, 3, 11, 12, 12, 13, 10, 2, 11, 2, 14, 12, 12, 0, 12, 12, 11, 2, 12, 5, 5, 12, 2, 5, 5, 12, 12, 9, 12, 9, 9, 9, 4, 9, 4, 2, 9, 12, 12, 11, 12, 12, 5, 7, 12, 12, 9, 0, 3, 2, 12, 12, 11, 12, 11, 12, 5, 1, 2, 9, 12, 12, 5, 9, 2, 4, 0, 12, 11, 11, 9, 4, 11, 12, 3, 4, 4, 12, 12, 11, 2, 5, 9, 11, 5, 12, 13, 0, 12, 0, 2, 4, 14, 11, 9, 13, 4, 9, 11, 9, 9, 5, 11, 10, 2, 12, 2, 1, 8, 5, 0, 12, 12, 8, 9, 1, 12, 2, 9, 12, 12, 9, 3, 12, 5, 2, 5, 12, 5, 5, 2, 11, 12, 9, 0, 12, 1, 2, 8, 2, 1, 14, 12, 11, 2, 14, 9, 0, 12, 10, 1, 4, 4, 2, 12, 12, 9, 3, 5, 5, 2, 5, 0, 5, 4, 0, 3, 9, 12, 3, 5, 2, 13, 12, 5, 12, 12, 11, 11, 5, 2, 1, 9, 5, 0, 2, 4, 12, 2, 13, 12, 12, 9, 12, 0, 0, 12, 2, 12, 12, 5, 12, 4, 9, 13, 1, 12, 9, 11, 11, 14, 12, 12, 12, 12, 11, 0, 5, 9, 3, 12, 0, 0, 9, 12, 10, 4, 9, 5, 4, 4, 9, 9, 0, 12, 12, 12, 5, 12, 14, 12, 5, 11, 12, 11, 0, 2, 5, 5, 12, 11, 9, 9, 12, 12, 9, 13, 14, 10, 12, 14, 4, 9, 2, 7, 8, 12, 3, 7, 11, 9, 12, 3, 2, 8, 12, 5, 11, 11, 5, 12, 12, 5, 12, 9, 12, 11, 9, 13, 3, 12, 12, 12, 5, 12, 2, 5, 12, 0, 12, 12, 5, 11, 2, 12, 11, 4, 5, 12, 12, 12, 12, 0, 12, 12, 14, 8, 11, 9, 12, 9, 12, 0, 12, 9, 0, 1, 11, 2, 12, 9, 0, 11, 8, 12, 12, 12, 13, 1, 12, 2, 12, 12, 12, 11, 12, 12, 12, 11, 11, 0, 12, 12, 12, 12, 12, 8, 9, 9, 13, 0, 1, 0, 5, 3, 9, 5, 3, 12, 5, 12, 3, 9, 13, 2, 12, 12, 2, 4, 0, 12, 12, 3, 12, 5, 14, 12, 2, 5, 12, 5, 2, 3, 11, 5, 3, 3, 10, 9, 0, 12, 12, 11, 0, 11, 13, 12, 5, 2, 5, 11, 12, 12, 3, 4, 11, 4, 2, 11, 12, 12, 9, 12, 4, 9, 2, 1, 5, 3, 1, 0, 9, 5, 3, 5, 12, 3, 0, 2, 12, 4, 9, 4, 2, 12, 9, 11, 12, 12, 12, 0, 5, 1, 12, 0, 9, 12, 12, 12, 0, 11, 11, 14, 9, 3, 12, 5, 9, 2, 14, 2, 0, 0, 12, 12, 12, 5, 12, 12, 9, 12, 5, 10, 5, 5, 0, 12, 5, 0, 0, 9, 9, 7, 2, 9, 12, 2, 2, 0, 5, 5, 11, 12, 14, 12, 12, 4, 8, 13, 1, 12, 13, 0, 11, 2, 4, 2, 2, 2, 2, 2, 9, 5, 5, 0, 8, 2, 12, 12, 5, 9, 2, 11, 5, 5, 11, 7, 0, 12, 12, 5, 9, 11, 2, 14, 12, 5, 12, 9, 12, 5, 3, 12, 12, 0, 13, 14, 0, 4, 12, 9, 12, 1, 3, 13, 5, 3, 12, 4, 11, 12, 0, 12, 0, 0, 1, 11, 5, 12, 5, 12, 12, 12, 14, 4, 0, 12, 3, 12, 12, 2, 5, 9, 4, 12, 0, 2, 9, 9, 10, 9, 3, 12, 2, 2, 7, 5, 12, 11, 2, 5, 5, 10, 9, 2, 12, 0, 9, 12, 2, 0, 0, 11, 2, 12, 12, 2, 0, 9, 12, 12, 12, 5, 13, 9, 12, 12, 5, 12, 12, 12, 0, 0, 5, 11, 2, 14, 13, 12, 12, 12, 11, 3, 12, 13, 4, 6, 12, 8, 3, 5, 5, 9, 5, 9, 3, 9, 12, 13, 4, 12, 9, 9, 12, 9, 0, 3, 3, 12, 12, 2, 12, 12, 1, 9, 4, 12, 9, 0, 4, 11, 8, 2, 12, 4, 2, 3, 2, 4, 2, 12, 5, 5, 9, 5, 9, 2, 12, 5, 12, 9, 5, 12, 12, 5, 9, 5, 0, 3, 11, 5, 0, 12, 9, 2, 0, 9, 12, 14, 3, 9, 2, 0, 5, 14, 12, 12, 13, 9, 12, 12, 12, 5, 4, 5, 9, 11, 12, 12, 12, 12, 3, 12, 0, 5, 0, 2, 1, 13, 12, 12, 12, 5, 5, 12, 12, 12, 3, 12, 12, 12, 3, 11, 5, 2, 12, 8, 12, 14, 12, 12, 12, 12, 2, 5, 2, 5, 1, 3, 4, 3, 12, 11, 11, 5, 3, 11, 5, 9, 12, 11, 12, 11, 3, 5, 5, 12, 5, 2, 13, 3, 0, 9, 2, 4, 2, 12, 12, 3, 12, 12, 5, 12, 12, 2, 2, 1, 1, 12, 12, 5, 3, 5, 1, 12, 9, 5, 0, 8, 4, 3, 3, 12, 12, 2, 2, 13, 0, 10, 12, 1, 0, 12, 11, 11, 13, 2, 12, 12, 11, 13, 12, 11, 12, 12, 0, 9, 5, 9, 8, 5, 2, 9, 0, 3, 14, 12, 12, 5, 14, 11, 3, 11, 10, 9, 12, 12, 2, 2, 12, 2, 11, 1, 12, 12, 5, 5, 5, 3, 3, 12, 9, 2, 11, 11, 12, 12, 1, 9, 12, 9, 9, 9, 11, 9, 3, 2, 0, 3, 14, 5, 5, 5, 5, 5, 5, 5, 12, 11, 11, 12, 13, 9, 4, 12, 12, 11, 9, 0, 12, 0, 5, 2, 5, 11, 11, 4, 2, 12, 11, 2, 1, 9, 9, 3, 12, 3, 12, 2, 12, 12, 5, 12, 11, 5, 9, 11, 12, 0, 12, 12, 3, 13, 12, 12, 0, 11, 3, 5, 4, 11, 4, 12, 13, 5, 2, 5, 3, 3, 4, 5, 11, 2, 5, 12, 12, 5, 9, 0, 12, 4, 0, 9, 12, 2, 10, 2, 9, 9, 9, 8, 5, 2, 8, 2, 5, 14, 11, 8, 12, 5, 9, 5, 9, 12, 4, 5, 4, 3, 2, 0, 3, 3, 12, 2, 12, 4, 0, 12, 9, 5, 2, 9, 12, 11, 8, 2, 3, 11, 4, 12, 5, 5, 11, 5, 12, 3, 12, 12, 2, 4, 0, 2, 12, 12, 12, 12, 11, 5, 11, 11, 5, 12, 10, 0, 14, 12, 5, 5, 14, 9, 5, 12, 11, 9, 9, 12, 12, 1, 14, 11, 2, 3, 5, 11, 2, 12, 12, 5, 4, 3, 11, 11, 12, 9, 0, 5, 4, 14, 4, 11, 5, 3, 12, 4, 12, 12, 1, 9, 12, 2, 13, 2, 11, 4, 12, 12, 9, 12, 8, 12, 0, 12, 12, 4, 5, 9, 12, 3, 12, 13, 10, 2, 4, 9, 12, 9, 5, 12, 11, 11, 8, 11, 5, 12, 11, 1, 12, 12, 14, 12, 5, 0, 7, 9, 11, 2, 12, 5, 9, 2, 3, 12, 9, 12, 4, 4, 12, 5, 2, 12, 12, 9, 11, 1, 0, 4, 12, 2, 9, 5, 12, 12, 2, 4, 5, 1, 2, 10, 14, 12, 3, 2, 8, 13, 12, 12, 5, 12, 12, 12, 9, 0, 0, 5, 14, 12, 9, 12, 12, 9, 12, 12, 5, 12, 1, 9, 9, 12, 11, 11, 4, 2, 12, 9, 11, 12, 12, 0, 4, 12, 2, 11, 5, 9, 12, 2, 5, 11, 3, 1, 12, 9, 12, 1, 4, 2, 12, 0, 9, 5, 3, 5, 13, 12, 12, 2, 11, 12, 1, 12, 3, 5, 2, 11, 13, 12, 5, 3, 5, 2, 1, 9, 5, 12, 2, 11, 8, 12, 10, 11, 2, 2, 14, 0, 12, 3, 12, 12, 5, 11, 2, 4, 2, 3, 9, 12, 2, 8, 9, 5, 2, 9, 1, 9, 5, 12, 12, 5, 3, 3, 12, 2, 2, 11, 10, 12, 2, 7, 9, 12, 0, 2, 11, 12, 2, 0, 5, 12, 2, 4, 4, 5, 12, 4, 12, 12, 14, 0, 0, 9, 0, 12, 5, 2, 9, 4, 0, 2, 9, 5, 3, 13, 14, 12, 12, 10, 0, 11, 5, 9, 13, 0, 2, 12, 5, 5, 2, 2, 9, 5, 11, 3, 4, 0, 5, 5, 11, 5, 5, 5, 9, 2, 12, 12, 12, 12, 12, 12, 7, 0, 2, 0, 11, 5, 12, 3, 12, 1, 11, 5, 12, 12, 12, 12, 5, 0, 11, 0, 12, 12, 12, 12, 9, 11, 12, 11, 8, 2, 5, 9, 12, 3, 5, 14, 0, 12, 9, 2, 4, 12, 2, 5, 7, 12, 9, 9, 3, 0, 13, 5, 5, 0, 2, 12, 11, 12, 12, 11, 12, 12, 14, 9, 2, 3, 0, 5, 12, 9, 9, 3, 5, 5, 3, 12, 2, 12, 11, 12, 4, 12, 7, 12, 14, 5, 12, 12, 5, 12, 1, 13, 12, 11, 2, 12, 4, 9, 12, 12, 9, 12, 9, 1, 12, 9, 12, 12, 11, 13, 3, 9, 4, 7, 0, 12, 9, 11, 14, 9, 12, 11, 11, 5, 5, 9, 4, 5, 12, 12, 5, 12, 2, 4, 14, 12, 11, 5, 4, 9, 3, 11, 11, 12, 0, 7, 0, 3, 12, 11, 12, 5, 12, 12, 12, 5, 2, 2, 5, 3, 5, 12, 0, 12, 0, 2, 12, 12, 0, 2, 12, 9, 0, 5, 12, 0, 2, 9, 12, 2, 5, 5, 11, 2, 12, 3, 12, 12, 2, 12, 8, 12, 2, 9, 9, 12, 2, 2, 2, 9, 14, 5, 12, 13, 1, 12, 5, 2, 9, 12, 2, 9, 2, 12, 5, 4, 3, 12, 12, 5, 12, 12, 9, 5, 9, 2, 11, 12, 12, 5, 12, 9, 12, 3, 5, 13, 0, 12, 5, 5, 3, 0, 4, 12, 5, 2, 5, 12, 14, 11, 2, 11, 2, 9, 0, 5, 11, 12, 2, 2, 4, 12, 0, 9, 13, 5, 0, 9, 12, 1, 9, 12, 9, 14, 8, 4, 9, 9, 3, 3, 0, 9, 11, 12, 8, 9, 14, 1, 12, 12, 9, 12, 11, 12, 3, 0, 12, 9, 9, 2, 3, 12, 12, 2, 14, 2, 2, 14, 11, 10, 0, 0, 3, 5, 11, 12, 2, 9, 12, 12, 3, 4, 3, 12, 8, 2, 3, 3, 9, 12, 0, 12, 2, 4, 5, 11, 2, 11, 12, 1, 0, 4, 2, 9, 2, 2, 4, 9, 14, 0, 11, 11, 12, 13, 12, 9, 5, 9, 9, 9, 13, 9, 2, 12, 12, 0, 12, 14, 11, 4, 9, 2, 12, 12, 11, 3, 2, 11, 14, 4, 11, 5, 2, 12, 5, 9, 14, 2, 9, 5, 12, 12, 5, 12, 12, 10, 13, 2, 4, 12, 11, 9, 5, 4, 4, 5, 5, 0, 0, 12, 2, 12, 9, 5, 3, 11, 12, 5, 3, 11, 9, 2, 12, 2, 11, 12, 11, 5, 12, 3, 12, 11, 4, 12, 14, 0, 5, 9, 2, 4, 5, 11, 11, 2, 9, 3, 0, 12, 12, 5, 11, 9, 1, 5, 14, 2, 11, 5, 4, 2, 2, 12, 0, 2, 9, 9, 9, 1, 12, 12, 12, 5, 11, 1, 12, 2, 2, 9, 12, 0, 11, 12, 12, 4, 0, 5, 5, 12, 9, 12, 4, 12, 5, 12, 5, 12, 9, 0, 12, 14, 11, 5, 10, 5, 11, 12, 4, 9, 5, 14, 12, 12, 5, 9, 5, 8, 12, 2, 5, 11, 12, 12, 11, 12, 12, 5, 0, 12, 5, 2, 3, 9, 12, 10, 9, 12, 11, 1, 12, 8, 3, 11, 5, 12, 12, 3, 11, 8, 11, 12, 14, 14, 5, 9, 9, 3, 5, 4, 5, 10, 13, 11, 5, 9, 11, 12, 9, 11, 2, 3, 9, 12, 11, 12, 5, 5, 3, 11, 5, 12, 11, 2, 0, 9, 12, 12, 12, 11, 1, 12, 4, 2, 3, 13, 5, 1, 4, 4, 14, 11, 13, 3, 9, 0, 5, 1, 14, 11, 11, 12, 5, 5, 12, 5, 12, 9, 12, 0, 12, 13, 2, 11, 12, 12, 12, 12, 12, 11, 9, 0, 5, 2, 0, 12, 11, 2, 12, 5, 12, 11, 12, 5, 2, 12, 11, 11, 12, 12, 14, 5, 9, 5, 0, 12, 2, 9, 5, 12, 4, 12, 2, 2, 3, 11, 13, 0, 14, 12, 4, 9, 5, 11, 2, 11, 5, 14, 5, 3, 9, 14, 11, 3, 12, 5, 2, 9, 9, 12, 8, 0, 12, 3, 14, 5, 12, 0, 12, 5, 5, 12, 11, 5, 12, 13, 3, 12, 4, 4, 0, 2, 5, 5, 12, 0, 12, 2, 5, 11, 4, 9, 5, 12, 9, 4, 9, 12, 12, 2, 12, 5, 12, 5, 3, 11, 4, 2, 11, 5, 2, 5, 0, 4, 5, 12, 2, 12, 2, 5, 5, 2, 12, 2, 5, 2, 5, 0, 4, 9, 5, 12, 5, 3, 5, 14, 11, 11, 14, 10, 11, 9, 12, 12, 3, 0, 5, 9, 0, 2, 5, 12, 14, 2, 9, 9, 11, 0, 12, 12, 5, 5, 12, 12, 0, 12, 3, 12, 1, 12, 12, 12, 9, 12, 12, 11, 0, 12, 12, 10, 12, 11, 5, 11, 12, 12, 9, 2, 0, 1, 9, 12, 12, 2, 2, 5, 13, 12, 9, 12, 12, 11, 9, 12, 11, 5, 12, 2, 2, 12, 0, 7, 12, 12, 5, 5, 0, 12, 2, 12, 12, 12, 4, 12, 0, 12, 8, 9, 12, 0, 12, 6, 0, 8, 5, 11, 2, 9, 12, 0, 3, 12, 2, 12, 12, 1, 12, 12, 5, 12, 12, 0, 12, 12, 5, 14, 5, 3, 2, 5, 12, 4, 12, 2, 5, 13, 11, 0, 9, 9, 12, 2, 2, 2, 12, 14, 5, 2, 5, 2, 11, 1, 5, 12, 12, 5, 12, 9, 2, 2, 9, 14, 12, 12, 14, 12, 14, 12, 11, 9, 0, 0, 12, 11, 10, 3, 12, 9, 12, 5, 12, 2, 9, 12, 12, 9, 4, 2, 5, 2, 12, 2, 9, 12, 1, 5, 10, 2, 9, 1, 5, 5, 12, 5, 11, 12, 9, 11, 13, 12, 12, 0, 0, 10, 11, 2, 12, 5, 12, 5, 4, 9, 2, 5, 12, 9, 12, 12, 12, 9, 3, 12, 2, 11, 9, 12, 11, 12, 12, 3, 11, 5, 11, 9, 12, 12, 4, 2, 4, 10, 5, 5, 12, 9, 12, 11, 12, 12, 0, 2, 5, 9, 11, 3, 12, 2, 12, 9, 11, 5, 2, 11, 2, 14, 12, 12, 5, 12, 12, 12, 0, 1, 4, 5, 3, 12, 12, 3, 12, 8, 11, 14, 12, 11, 9, 2, 5, 12, 4, 4, 4, 9, 12, 9, 9, 5, 12, 2, 9, 0, 5, 11, 0, 12, 2, 9, 2, 12, 7, 12, 9, 7, 11, 12, 10, 7, 4, 11, 5, 11, 12, 2, 12, 12, 12, 0, 9, 9, 0, 13, 5, 12, 11, 0, 11, 0, 3, 12, 5, 9, 12, 2, 5, 12, 2, 9, 8, 12, 5, 3, 12, 10, 12, 9, 5, 12, 12, 0, 14, 9, 0, 9, 12, 12, 11, 14, 12, 2, 0, 0, 0, 10, 9, 12, 12, 11, 2, 5, 12, 9, 0, 12, 7, 12, 5, 12, 13, 5, 12, 4, 12, 12, 11, 12, 2, 0, 12, 12, 11, 12, 12, 12, 12, 9, 5, 12, 2, 9, 9, 9, 11, 10, 14, 12, 3, 0, 11, 2, 0, 4, 11, 12, 11, 0, 2, 12, 11, 14, 11, 12, 12, 12, 4, 2, 5, 2, 3, 12, 11, 9, 9, 4, 12, 5, 12, 14, 12, 12, 11, 12, 11, 12, 12, 3, 9, 5, 11, 2, 11, 11, 5, 1, 5, 5, 11, 4, 12, 11, 5, 4, 8, 12, 5, 5, 9, 12, 2, 0, 11, 12, 2, 9, 2, 12, 5, 9, 12, 0, 12, 8, 2, 11, 12, 13, 12, 9, 12, 4, 5, 11, 4, 11, 12, 9, 5, 5, 11, 12, 9, 12, 5, 11, 2, 12, 3, 11, 14, 12, 5, 12, 4, 11, 14, 12, 5, 3, 9, 9, 9, 4, 9, 2, 12, 2, 2, 3, 12, 9, 12, 12, 9, 14, 13, 12, 0, 14, 12, 2, 4, 5, 9, 0, 9, 0, 12, 13, 5, 0, 12, 12, 0, 4, 9, 12, 2, 12, 11, 12, 5, 11, 5, 4, 12, 9, 12, 11, 12, 12, 2, 2, 5, 1, 4, 14, 12, 11, 12, 9, 12, 9, 14, 12, 12, 12, 12, 5, 7, 8, 2, 3, 12, 9, 0, 11, 12, 12, 12, 5, 12, 12, 9, 13, 12, 12, 2, 9, 5, 12, 11, 5, 12, 14, 5, 5, 5, 13, 0, 13, 11, 1, 1, 9, 5, 2, 9, 12, 12, 12, 12, 12, 2, 5, 11, 14, 0, 9, 12, 12, 9, 3, 11, 12, 9, 11, 11, 2, 12, 5, 12, 12, 14, 12, 2, 9, 5, 12, 12, 14, 12, 11, 12, 5, 4, 12, 12, 0, 1, 12, 0, 12, 4, 12, 12, 9, 0, 13, 12, 9, 13, 12, 12, 12, 4, 1, 11, 0, 4, 0, 12, 1, 11, 13, 5, 2, 12, 12, 12, 5, 9, 5, 5, 0, 5, 5, 9, 5, 5, 0, 12, 0, 9, 2, 11, 5, 9, 12, 5, 5, 12, 2, 12, 11, 12, 11, 12, 2, 11, 2, 5, 12, 4, 12, 12, 8, 11, 9, 3, 12, 0, 12, 12, 0, 0, 12, 13, 12, 0, 5, 5, 5, 12, 3, 13, 4, 5, 2, 12, 12, 12, 4, 14, 12, 11, 5, 0, 12, 4, 0, 8, 12, 2, 0, 12, 12, 4, 1, 12, 9, 11, 0, 4, 12, 9, 11, 12, 5, 5, 12, 12, 14, 11, 9, 13, 9, 5, 12, 11, 11, 5, 12, 2, 9, 3, 12, 12, 2, 5, 0, 12, 5, 12, 2, 2, 9, 1, 5, 11, 5, 12, 12, 11, 12, 8, 2, 0, 2, 0, 12, 9, 1, 12, 5, 12, 12, 0, 11, 12, 5, 11, 12, 1, 12, 1, 10, 13, 5, 2, 0, 4, 5, 12, 12, 0, 11, 11, 5, 12, 12, 10, 11, 11, 12, 2, 12, 14, 14, 11, 4, 11, 12, 12, 9, 9, 11, 11, 14, 12, 13, 13, 12, 12, 12, 12, 12, 11, 14, 11, 12, 9, 12, 9, 9, 5, 5, 2, 9, 2, 2, 9, 4, 1, 5, 14, 5, 1, 12, 1, 14, 9, 13, 0, 12, 12, 12, 14, 2, 2, 4, 11, 11, 0, 8, 12, 12, 5, 12, 0, 12, 5, 7, 11, 10, 0, 0, 3, 12, 0, 0, 12, 2, 12, 4, 12, 9, 9, 0, 2, 9, 0, 2, 12, 5, 12, 0, 12, 12, 12, 3, 5, 12, 5, 4, 5, 4, 13, 1, 0, 2, 9, 9, 4, 12, 5, 2, 5, 13, 5, 11, 11, 14, 14, 0, 2, 5, 11, 11, 0, 3, 3, 12, 12, 0, 12, 1, 5, 5, 0, 12, 1, 12, 0, 12, 12, 11, 12, 12, 5, 3, 4, 12, 12, 0, 9, 11, 12, 5, 13, 12, 13, 5, 2, 14, 12, 12, 14, 11, 12, 11, 12, 12, 12, 9, 11, 12, 7, 3, 0, 12, 0, 2, 3, 12, 11, 11, 12, 12, 12, 4, 11, 12, 12, 9, 12, 9, 1, 1, 12, 9, 2, 12, 12, 4, 13, 7, 0, 2, 12, 4, 12, 12, 4, 11, 12, 4, 5, 11, 9, 1, 10, 2, 13, 12, 2, 4, 2, 9, 12, 2, 12, 12, 12, 2, 2, 12, 9, 12, 12, 5, 2, 12, 14, 14, 9, 9, 5, 0, 12, 14, 13, 4, 0, 12, 12, 9, 9, 5, 12, 12, 11, 12, 12, 12, 9, 10, 2, 5, 5, 12, 12, 5, 0, 14, 5, 3, 5, 5, 5, 12, 11, 11, 12, 8, 4, 5, 6, 5, 4, 9, 0, 11, 12, 5, 5, 11, 11, 1, 4, 2, 5, 11, 0, 12, 2, 5, 5, 11, 1, 1, 12, 5, 3, 9, 2, 12, 5, 4, 10, 9, 11, 5, 11, 11, 12, 12, 3, 2, 7, 12, 0, 5, 5, 12, 12, 3, 2, 2, 0, 3, 4, 0, 5, 14, 2, 12, 12, 4, 0, 13, 2, 2, 3, 9, 12, 12, 9, 11, 5, 3, 12, 0, 5, 3, 2, 0, 9, 12, 12, 12, 12, 12, 9, 3, 8, 11, 5, 12, 5, 9, 11, 9, 5, 0, 5, 9, 12, 9, 12, 5, 12, 14, 0, 2, 13, 5, 12, 12, 0, 12, 2, 12, 11, 12, 0, 5, 12, 3, 12, 12, 11, 9, 12, 9, 12, 12, 12, 12, 12, 5, 9, 14, 9, 12, 2, 12, 2, 12, 4, 0, 11, 0, 2, 4, 11, 1, 0, 11, 5, 12, 11, 2, 12, 10, 12, 11, 9, 2, 11, 12, 11, 12, 5, 0, 2, 2, 12, 12, 13, 3, 7, 12, 5, 12, 9, 12, 4, 14, 9, 0, 12, 11, 12, 12, 2, 12, 14, 11, 12, 12, 12, 12, 11, 9, 4, 2, 5, 9, 4, 5, 9, 12, 9, 5, 12, 12, 5, 12, 5, 12, 2, 5, 5, 5, 9, 2, 11, 0, 11, 2, 2, 5, 12, 9, 2, 2, 12, 12, 12, 9, 0, 2, 12, 12, 12, 0, 5, 9, 12, 5, 5, 12, 2, 5, 3, 2, 2, 12, 5, 12, 12, 12, 12, 3, 11, 4, 11, 5, 12, 11, 14, 3, 4, 2, 12, 12, 12, 12, 2, 4, 12, 5, 5, 3, 12, 0, 12, 12, 3, 11, 5, 9, 0, 12, 9, 12, 5, 1, 12, 12, 9, 0, 9, 12, 12, 3, 12, 11, 2, 5, 0, 0, 12, 11, 9, 2, 9, 0, 4, 14, 14, 12, 9, 2, 9, 0, 12, 12, 5, 13, 12, 9, 2, 12, 5, 5, 12, 12, 9, 2, 1, 12, 11, 8, 12, 5, 13, 4, 0, 5, 2, 9, 12, 4, 14, 3, 9, 1, 12, 12, 11, 12, 12, 12, 0, 11, 5, 3, 12, 0, 9, 11, 0, 9, 5, 14, 11, 14, 9, 14, 0, 12, 3, 12, 9, 9, 3, 2, 12, 0, 12, 12, 9, 4, 12, 10, 12, 12, 0, 3, 12, 5, 5, 5, 4, 5, 9, 3, 5, 12, 2, 2, 12, 9, 9, 12, 2, 11, 0, 12, 11, 12, 14, 12, 12, 2, 12, 12, 8, 12, 12, 13, 14, 5, 9, 13, 13, 0, 2, 3, 0, 11, 3, 5, 12, 13, 12, 5, 12, 5, 0, 13, 12, 4, 8, 12, 3, 11, 2, 9, 12, 11, 12, 9, 13, 12, 2, 5, 2, 5, 12, 2, 12, 2, 12, 12, 9, 4, 4, 0, 11, 3, 3, 12, 11, 2, 4, 12, 5, 5, 5, 5, 5, 2, 12, 12, 1, 14, 4, 2, 2, 12, 12, 4, 9, 5, 9, 3, 4, 9, 12, 4, 2, 12, 9, 4, 12, 2, 9, 0, 5, 3, 12, 12, 2, 11, 12, 2, 12, 3, 2, 5, 12, 12, 10, 2, 7, 2, 11, 5, 14, 3, 12, 2, 5, 11, 12, 9, 11, 5, 9, 5, 2, 1, 5, 0, 1, 4, 2, 9, 11, 3, 9, 14, 2, 9, 5, 2, 12, 5, 5, 12, 1, 0, 9, 11, 9, 5, 12, 9, 4, 9, 13, 12, 14, 12, 11, 12, 11, 11, 12, 8, 0, 12, 5, 5, 12, 12, 9, 12, 12, 5, 14, 4, 11, 2, 12, 12, 12, 9, 13, 4, 5, 8, 0, 12, 12, 3, 2, 5, 11, 5, 12, 5, 2, 0, 0, 12, 11, 12, 5, 9, 12, 11, 2, 12, 12, 11, 13, 5, 3, 5, 12, 0, 12, 5, 5, 5, 2, 8, 12, 2, 11, 11, 14, 13, 5, 12, 3, 14, 0, 12, 12, 2, 12, 5, 5, 13, 12, 12, 14, 12, 12, 9, 12, 11, 9, 11, 12, 9, 13, 12, 0, 3, 12, 2, 11, 5, 0, 12, 12, 12, 3, 5, 5, 12, 14, 5, 5, 12, 5, 9, 12, 3, 5, 2, 5, 12, 12, 12, 9, 9, 12, 11, 0, 12, 5, 0, 5, 12, 9, 5, 2, 1, 2, 2, 9, 2, 0, 5, 12, 3, 4, 9, 12, 13, 4, 2, 1, 5, 3, 0, 3, 9, 2, 14, 7, 9, 12, 10, 2, 2, 12, 12, 5, 1, 11, 3, 5, 9, 12, 13, 2, 4, 5, 12, 12, 2, 12, 12, 5, 12, 5, 2, 0, 12, 12, 10, 2, 6, 2, 9, 5, 4, 5, 2, 0, 11, 0, 13, 12, 5, 0, 12, 12, 12, 10, 12, 4, 14, 12, 2, 12, 3, 4, 0, 12, 12, 12, 12, 12, 3, 12, 6, 2, 4, 12, 0, 12, 4, 10, 3, 0, 0, 11, 12, 14, 11, 2, 5, 12, 12, 12, 2, 2, 12, 11, 12, 4, 12, 12, 14, 8, 12, 2, 13, 12, 12, 13, 9, 5, 4, 4, 12, 12, 14, 0, 9, 11, 9, 5, 5, 9, 4, 3, 2, 3, 9, 12, 12, 5, 12, 9, 12, 9, 12, 5, 4, 12, 3, 12, 5, 12, 13, 0, 12, 12, 9, 0, 4, 8, 0, 12, 14, 12, 0, 5, 3, 1, 11, 12, 9, 14, 9, 0, 12, 11, 0, 2, 12, 9, 12, 11, 0, 11, 4, 12, 11, 2, 10, 12, 9, 9, 2, 12, 9, 11, 2, 3, 12, 14, 0, 2, 2, 0, 14, 9, 3, 9, 2, 12, 3, 12, 12, 9, 12, 12, 11, 11, 4, 12, 2, 1, 4, 5, 5, 12, 3, 5, 11, 2, 9, 1, 2, 12, 5, 5, 12, 5, 4, 5, 3, 11, 14, 2, 5, 2, 12, 5, 1, 10, 12, 0, 12, 12, 12, 3, 0, 2, 2, 0, 12, 11, 12, 1, 12, 12, 5, 11, 14, 5, 12, 2, 12, 12, 2, 12, 11, 11, 5, 5, 2, 12, 9, 11, 12, 3, 11, 11, 11, 11, 9, 11, 0, 5, 9, 2, 11, 0, 0, 2, 5, 5, 5, 12, 11, 5, 9, 13, 12, 12, 11, 12, 12, 0, 12, 12, 12, 12, 2, 10, 4, 12, 5, 2, 0, 2, 13, 1, 1, 0, 2, 11, 9, 9, 2, 12, 5, 11, 4, 4, 2, 13, 4, 2, 11, 9, 12, 11, 12, 2, 12, 2, 11, 5, 12, 12, 5, 5, 12, 0, 12, 12, 8, 12, 11, 12, 12, 3, 3, 12, 11, 0, 4, 2, 0, 12, 12, 12, 1, 12, 12, 5, 0, 11, 5, 13, 4, 9, 2, 1, 14, 11, 12, 12, 12, 12, 12, 2, 12, 0, 12, 3, 1, 4, 2, 10, 3, 12, 12, 2, 5, 4, 0, 12, 9, 11, 9, 12, 5, 4, 12, 4, 11, 11, 12, 12, 11, 12, 0, 12, 12, 5, 5, 5, 5, 12, 9, 0, 10, 12, 12, 4, 9, 5, 5, 11, 0, 5, 2, 4, 11, 1, 4, 1, 3, 12, 3, 12, 5, 5, 12, 0, 0, 12, 5, 2, 12, 5, 0, 12, 5, 11, 12, 13, 9, 11, 9, 12, 0, 11, 2, 11, 14, 12, 3, 0, 5, 14, 5, 5, 11, 2, 5, 11, 12, 12, 12, 9, 14, 14, 14, 5, 4, 9, 12, 9, 12, 0, 12, 5, 11, 13, 5, 12, 12, 12, 4, 5, 4, 12, 5, 1, 0, 12, 2, 0, 12, 3, 12, 5, 5, 7, 5, 3, 8, 12, 3, 12, 11, 2, 0, 0, 2, 9, 11, 12, 9, 2, 11, 11, 12, 2, 3, 0, 12, 4, 9, 2, 0, 12, 5, 14, 9, 0, 4, 12, 12, 3, 2, 11, 12, 12, 4, 0, 12, 13, 8, 9, 2, 11, 12, 12, 11, 12, 2, 12, 12, 2, 11, 5, 4, 4, 5, 12, 12, 14, 4, 1, 9, 9, 3, 12, 4, 5, 11, 3, 4, 12, 0, 2, 2, 12, 12, 5, 12, 12, 9, 2, 11, 0, 12, 5, 0, 12, 9, 11, 11, 12, 1, 11, 12, 14, 4, 9, 3, 14, 1, 12, 13, 5, 12, 12, 10, 11, 11, 12, 11, 3, 13, 12, 12, 12, 12, 0, 5, 12, 9, 2, 12, 12, 0, 5, 8, 3, 9, 2, 5, 13, 3, 12, 12, 12, 0, 12, 5, 3, 12, 0, 12, 5, 9, 12, 11, 12, 7, 9, 2, 12, 12, 5, 12, 4, 5, 12, 12, 11, 13, 4, 2, 5, 12, 10, 12, 11, 5, 14, 5, 2, 3, 9, 12, 11, 12, 12, 11, 13, 12, 2, 9, 12, 12, 12, 13, 14, 12, 9, 12, 3, 9, 12, 11, 9, 1, 12, 1, 0, 12, 9, 2, 0, 13, 12, 9, 14, 2, 3, 9, 3, 2, 13, 12, 3, 14, 11, 11, 6, 9, 5, 5, 13, 11, 3, 3, 12, 13, 0, 5, 1, 12, 0, 14, 9, 0, 5, 9, 0, 5, 12, 11, 14, 12, 3, 12, 12, 12, 4, 3, 12, 12, 12, 11, 12, 1, 5, 12, 5, 12, 11, 5, 2, 12, 10, 0, 12, 12, 9, 9, 11, 11, 11, 12, 5, 9, 12, 4, 5, 4, 12, 12, 12, 3, 12, 2, 9, 3, 13, 2, 11, 12, 5, 12, 5, 12, 11, 2, 0, 9, 9, 11, 12, 4, 0, 12, 13, 0, 5, 13, 5, 0, 12, 2, 3, 12, 5, 0, 1, 9, 3, 4, 12, 5, 12, 7, 5, 0, 0, 2, 5, 12, 12, 11, 5, 5, 1, 4, 14, 8, 3, 12, 2, 7, 5, 11, 12, 12, 5, 9, 5, 5, 11, 11, 2, 14, 11, 2, 7, 3, 4, 12, 12, 14, 12, 0, 0, 0, 2, 9, 3, 11, 12, 4, 2, 12, 2, 4, 5, 5, 5, 12, 5, 11, 5, 12, 12, 12, 12, 3, 0, 5, 12, 2, 12, 9, 2, 11, 10, 11, 11, 9, 12, 5, 11, 5, 3, 12, 5, 11, 5, 9, 10, 0, 14, 4, 10, 12, 11, 3, 5, 10, 12, 11, 12, 12, 9, 11, 12, 4, 12, 12, 4, 12, 0, 12, 4, 2, 2, 12, 12, 4, 2, 12, 5, 5, 5, 12, 2, 12, 8, 12, 12, 9, 12, 0, 5, 12, 5, 9, 0, 12, 12, 11, 0, 8, 12, 5, 11, 4, 12, 2, 9, 12, 2, 14, 11, 4, 0, 12, 10, 4, 14, 11, 0, 12, 14, 5, 5, 12, 11, 11, 11, 11, 12, 0, 2, 12, 9, 4, 3, 2, 12, 9, 12, 8, 11, 0, 5, 9, 12, 11, 4, 14, 0, 7, 0, 3, 13, 12, 3, 9, 9, 12, 13, 1, 12, 3, 12, 5, 11, 12, 12, 4, 12, 5, 12, 7, 4, 14, 11, 12, 0, 4, 12, 12, 5, 0, 0, 12, 0, 4, 4, 5, 10, 9, 6, 3, 4, 9, 14, 9, 12, 12, 12, 7, 12, 7, 12, 3, 12, 9, 12, 8, 4, 11, 12, 2, 12, 14, 12, 3, 12, 5, 9, 2, 5, 2, 12, 7, 11, 12, 2, 12, 5, 12, 12, 13, 9, 5, 4, 1, 0, 5, 9, 11, 14, 12, 5, 10, 0, 12, 11, 11, 12, 12, 4, 3, 12, 5, 0, 3, 5, 12, 5, 11, 12, 12, 11, 12, 5, 9, 5, 3, 3, 12, 0, 4, 12, 5, 12, 0, 5, 2, 11, 12, 12, 12, 11, 0, 5, 11, 12, 11, 13, 9, 2, 12, 12, 2, 5, 12, 8, 2, 3, 2, 12, 0, 12, 12, 3, 1, 4, 11, 12, 10, 3, 0, 14, 11, 4, 12, 4, 12, 0, 12, 9, 0, 2, 5, 5, 14, 12, 12, 12, 2, 5, 3, 8, 12, 2, 2, 5, 12, 12, 1, 2, 5, 9, 1, 2, 11, 12, 12, 12, 0, 11, 11, 12, 12, 12, 4, 5, 3, 2, 11, 0, 12, 2, 12, 12, 12, 11, 9, 12, 12, 12, 5, 5, 0, 12, 12, 12, 0, 12, 12, 1, 2, 12, 11, 12, 12, 5, 9, 4, 5, 8, 9, 4, 13, 3, 9, 12, 5, 12, 3, 11, 12, 9, 12, 4, 4, 9, 5, 9, 8, 12, 9, 14, 12, 12, 5, 12, 12, 12, 12, 3, 2, 12, 14, 0, 2, 11, 12, 12, 4, 4, 2, 12, 11, 12, 14, 2, 2, 12, 11, 12, 14, 12, 2, 1, 4, 4, 3, 12, 13, 12, 11, 0, 9, 12, 5, 7, 9, 12, 3, 1, 11, 2, 2, 3, 3, 12, 12, 4, 9, 12, 11, 12, 4, 12, 12, 12, 9, 12, 2, 12, 12, 5, 5, 5, 2, 12, 12, 5, 10, 4, 12, 12, 12, 12, 5, 11, 2, 12, 5, 12, 13, 9, 12, 12, 1, 2, 0, 12, 2, 12, 12, 5, 0, 4, 12, 12, 12, 5, 4, 12, 12, 12, 0, 9, 12, 12, 2, 12, 13, 12, 13, 9, 3, 12, 12, 13, 9, 5, 5, 3, 5, 0, 12, 12, 2, 12, 12, 5, 4, 2, 9, 12, 12, 2, 3, 5, 12, 4, 4, 12, 11, 11, 12, 5, 12, 12, 2, 14, 9, 5, 1, 1, 12, 12, 2, 0, 11, 5, 5, 11, 12, 12, 3, 5, 8, 9, 11, 3, 12, 5, 14, 12, 2, 13, 12, 9, 3, 12, 11, 12, 11, 12, 12, 2, 1, 8, 9, 9, 14, 2, 4, 11, 11, 9, 6, 9, 14, 5, 5, 14, 4, 12, 12, 13, 5, 12, 12, 9, 3, 0, 12, 4, 14, 11, 11, 12, 2, 5, 0, 12, 9, 5, 14, 5, 12, 9, 5, 5, 5, 7, 12, 2, 2, 0, 12, 12, 12, 12, 11, 11, 12, 2, 12, 12, 12, 12, 8, 9, 12, 0, 4, 12, 1, 9, 9, 13, 2, 11, 0, 12, 12, 1, 12, 12, 12, 12, 12, 12, 14, 12, 12, 9, 4, 12, 2, 12, 11, 9, 11, 4, 12, 4, 0, 4, 1, 12, 9, 2, 3, 5, 11, 12, 12, 11, 9, 12, 12, 5, 12, 5, 0, 0, 2, 10, 12, 4, 0, 12, 12, 2, 9, 12, 13, 13, 1, 9, 12, 12, 4, 12, 11, 4, 12, 11, 9, 13, 12, 12, 9, 2, 12, 2, 14, 12, 12, 12, 5, 13, 0, 12, 6, 9, 11, 12, 4, 2, 0, 0, 5, 2, 5, 2, 8, 11, 12, 12, 12, 2, 2, 11, 1, 12, 11, 5, 11, 12, 12, 14, 1, 9, 13, 3, 0, 3, 11, 9, 12, 12, 3, 9, 5, 14, 12, 5, 12, 4, 2, 11, 3, 9, 2, 4, 5, 13, 11, 14, 5, 0, 2, 5, 4, 5, 12, 12, 9, 12, 12, 10, 0, 9, 12, 2, 12, 1, 9, 9, 9, 9, 12, 11, 12, 5, 2, 9, 5, 11, 11, 12, 9, 12, 3, 9, 5, 4, 12, 4, 0, 5, 12, 12, 9, 11, 12, 3, 12, 13, 12, 2, 12, 12, 3, 12, 5, 14, 12, 12, 4, 8, 11, 12, 12, 0, 12, 4, 12, 4, 13, 5, 9, 5, 5, 11, 12, 3, 5, 9, 2, 12, 5, 12, 4, 1, 9, 12, 8, 2, 14, 4, 0, 11, 9, 12, 8, 2, 4, 14, 0, 5, 12, 0, 5, 4, 14, 9, 5, 9, 2, 12, 4, 12, 0, 1, 4, 12, 12, 12, 5, 12, 12, 3, 11, 9, 12, 11, 3, 12, 12, 11, 12, 11, 12, 12, 13, 12, 5, 12, 12, 10, 13, 9, 9, 12, 12, 11, 11, 13, 5, 9, 11, 9, 3, 3, 0, 11, 12, 12, 2, 12, 12, 9, 0, 12, 12, 9, 2, 9, 5, 9, 5, 11, 11, 12, 14, 12, 2, 9, 12, 3, 5, 12, 0, 11, 2, 0, 12, 12, 5, 14, 5, 4, 8, 0, 3, 11, 12, 0, 5, 9, 11, 2, 11, 9, 5, 12, 12, 5, 12, 0, 5, 12, 12, 13, 12, 11, 3, 11, 0, 2, 12, 11, 4, 11, 4, 5, 13, 12, 4, 5, 12, 8, 12, 9, 11, 11, 12, 12, 11, 12, 12, 14, 11, 12, 9, 0, 14, 5, 12, 12, 5, 12, 5, 12, 11, 4, 2, 7, 0, 0, 3, 12, 12, 13, 4, 13, 11, 0, 12, 2, 0, 12, 12, 3, 0, 3, 10, 9, 14, 12, 4, 5, 5, 5, 3, 12, 12, 9, 12, 4, 4, 11, 1, 9, 11, 2, 10, 2, 0, 13, 13, 5, 12, 9, 10, 2, 12, 7, 2, 12, 2, 12, 6, 8, 0, 12, 12, 11, 0, 12, 9, 2, 11, 2, 9, 9, 11, 11, 0, 2, 0, 12, 4, 5, 0, 0, 3, 12, 12, 2, 11, 2, 9, 12, 0, 12, 12, 9, 12, 12, 12, 0, 5, 12, 9, 12, 8, 13, 5, 9, 12, 12, 14, 11, 12, 0, 9, 11, 12, 12, 12, 11, 11, 12, 11, 9, 11, 5, 12, 12, 14, 1, 2, 2, 12, 13, 7, 4, 5, 12, 3, 5, 12, 9, 12, 12, 9, 9, 12, 13, 13, 0, 11, 13, 9, 3, 9, 12, 11, 12, 10, 12, 3, 12, 12, 12, 0, 12, 11, 13, 12, 14, 0, 13, 12, 12, 12, 9, 11, 12, 5, 3, 12, 13, 12, 5, 10, 11, 0, 9, 5, 5, 12, 12, 9, 11, 12, 5, 12, 0, 5, 14, 14, 4, 4, 0, 0, 11, 12, 0, 4, 12, 2, 5, 12, 11, 12, 2, 0, 12, 10, 0, 12, 12, 11, 12, 9, 4, 5, 11, 12, 12, 14, 3, 8, 3, 2, 5, 0, 9, 3, 12, 9, 0, 4, 2, 12, 12, 4, 13, 0, 12, 12, 0, 12, 12, 9, 0, 14, 12, 12, 12, 11, 12, 3, 2, 11, 5, 12, 12, 13, 11, 9, 12, 0, 5, 4, 12, 4, 12, 3, 13, 2, 5, 9, 5, 0, 0, 12, 12, 12, 2, 12, 9, 2, 0, 2, 9, 0, 1, 14, 12, 9, 12, 2, 12, 11, 8, 2, 12, 12, 11, 12, 9, 5, 12, 12, 12, 14, 2, 5, 11, 12, 12, 12, 1, 12, 0, 11, 11, 1, 9, 9, 9, 12, 9, 12, 2, 12, 5, 12, 0, 2, 4, 9, 9, 12, 12, 2, 12, 12, 11, 13, 2, 12, 9, 2, 12, 12, 3, 9, 11, 5, 3, 13, 11, 2, 5, 12, 2, 12, 2, 3, 10, 3, 12, 4, 13, 0, 12, 2, 5, 14, 12, 2, 4, 2, 4, 11, 0, 12, 3, 0, 9, 10, 5, 1, 2, 1, 9, 0, 12, 9, 8, 2, 12, 5, 12, 11, 2, 5, 12, 12, 5, 2, 9, 12, 12, 12, 9, 3, 1, 9, 12, 0, 12, 12, 8, 5, 11, 5, 11, 12, 12, 12, 11, 12, 9, 5, 2, 5, 12, 0, 13, 12, 5, 5, 12, 12, 12, 2, 13, 5, 12, 12, 0, 9, 9, 5, 0, 4, 12, 10, 11, 5, 12, 5, 5, 3, 0, 11, 2, 4, 9, 3, 2, 9, 12, 5, 5, 1, 12, 12, 12, 12, 0, 0, 12, 7, 9, 0, 14, 11, 11, 12, 3, 12, 5, 12, 0, 5, 12, 9, 12, 9, 13, 2, 9, 2, 8, 12, 12, 5, 5, 2, 14, 5, 5, 3, 14, 5, 9, 2, 12, 5, 3, 12, 11, 0, 11, 11, 12, 12, 12, 13, 9, 13, 5, 12, 2, 9, 2, 7, 12, 10, 12, 12, 0, 10, 9, 12, 13, 14, 9, 9, 12, 2, 9, 14, 12, 5, 0, 9, 12, 1, 0, 3, 12, 14, 11, 1, 9, 12, 1, 1, 14, 3, 2, 13, 12, 0, 10, 9, 4, 12, 11, 12, 12, 9, 1, 12, 12, 4, 8, 9, 12, 9, 12, 12, 0, 0, 12, 2, 11, 13, 11, 4, 12, 5, 11, 11, 0, 12, 11, 9, 3, 0, 5, 9, 12, 12, 2, 9, 8, 2, 12, 4, 11, 5, 11, 2, 9, 12, 12, 2, 9, 12, 3, 2, 14, 3, 1, 12, 5, 12, 2, 5, 9, 12, 9, 12, 13, 2, 5, 2, 13, 4, 4, 5, 12, 9, 2, 12, 2, 12, 5, 3, 3, 3, 0, 10, 5, 2, 12, 9, 4, 5, 12, 4, 0, 10, 4, 12, 0, 12, 5, 4, 12, 3, 0, 4, 5, 12, 12, 12, 12, 3, 12, 12, 5, 12, 5, 12, 12, 12, 2, 7, 4, 2, 13, 2, 9, 2, 5, 5, 5, 5, 2, 4, 3, 10, 11, 3, 12, 12, 12, 9, 9, 2, 3, 2, 4, 4, 11, 2, 12, 12, 12, 11, 9, 12, 12, 0, 5, 2, 9, 12, 12, 5, 9, 12, 12, 9, 4, 0, 9, 12, 2, 11, 2, 2, 14, 13, 12, 11, 12, 9, 2, 12, 14, 5, 3, 5, 11, 2, 6, 11, 12, 3, 5, 3, 12, 4, 9, 2, 2, 9, 12, 13, 0, 12, 5, 12, 12, 9, 2, 9, 0, 2, 12, 12, 9, 14, 9, 12, 12, 3, 12, 9, 8, 2, 11, 4, 9, 9, 5, 12, 2, 4, 12, 4, 10, 9, 14, 7, 0, 5, 9, 14, 5, 9, 11, 4, 12, 11, 4, 0, 5, 5, 12, 5, 8, 12, 12, 12, 3, 2, 2, 12, 2, 9, 5, 14, 12, 12, 14, 4, 9, 4, 9, 2, 12, 11, 3, 12, 9, 11, 14, 14, 2, 11, 12, 9, 12, 0, 5, 5, 12, 5, 2, 5, 2, 11, 0, 12, 3, 14, 5, 12, 13, 14, 2, 2, 3, 12, 12, 5, 12, 14, 12, 9, 11, 5, 2, 5, 11, 5, 9, 12, 2, 9, 2, 12, 12, 12, 12, 0, 4, 12, 3, 5, 12, 4, 2, 12, 14, 0, 12, 12, 14, 8, 2, 12, 12, 12, 12, 12, 5, 5, 12, 14, 5, 14, 2, 14, 12, 0, 2, 2, 11, 0, 4, 12, 4, 9, 5, 12, 0, 12, 4, 14, 9, 0, 14, 4, 2, 11, 2, 5, 1, 3, 2, 5, 12, 14, 12, 8, 3, 2, 12, 12, 12, 9, 4, 9, 9, 5, 4, 5, 11, 11, 11, 12, 2, 13, 5, 3, 12, 4, 4, 13, 2, 5, 4, 12, 2, 9, 12, 12, 0, 5, 12, 9, 11, 5, 12, 10, 9, 4, 2, 12, 11, 12, 9, 9, 11, 5, 9, 3, 12, 13, 12, 12, 12, 0, 5, 12, 2, 2, 5, 12, 5, 9, 4, 12, 2, 2, 2, 9, 12, 4, 4, 2, 12, 9, 11, 2, 11, 12, 0, 0, 11, 12, 9, 2, 11, 9, 4, 5, 12, 1, 12, 9, 9, 5, 11, 12, 14, 3, 3, 5, 12, 1, 9, 3, 2, 11, 3, 9, 11, 9, 10, 12, 0, 3, 2, 1, 3, 12, 1, 9, 14, 2, 5, 12, 12, 2, 2, 4, 7, 2, 5, 12, 9, 9, 4, 12, 9, 13, 0, 12, 0, 12, 12, 12, 12, 9, 11, 2, 5, 5, 12, 12, 9, 12, 13, 12, 2, 5, 0, 9, 12, 11, 12, 2, 9, 4, 12, 2, 12, 0, 14, 12, 14, 12, 2, 4, 9, 2, 13, 12, 4, 12, 12, 9, 4, 7, 2, 0, 3, 12, 8, 12, 5, 4, 12, 8, 9, 4, 4, 13, 0, 2, 2, 12, 12, 12, 12, 12, 9, 5, 12, 4, 9, 3, 9, 9, 14, 5, 12, 5, 3, 4, 4, 4, 2, 11, 2, 2, 12, 5, 2, 5, 5, 12, 9, 11, 11, 12, 13, 12, 5, 5, 11, 3, 5, 3, 2, 9, 14, 5, 9, 12, 2, 12, 12, 12, 0, 12, 12, 0, 3, 2, 5, 12, 12, 9, 3, 2, 3, 3, 11, 5, 12, 12, 12, 12, 13, 12, 9, 11, 12, 4, 5, 12, 12, 14, 12, 14, 1, 5, 12, 7, 12, 12, 14, 13, 9, 13, 9, 5, 10, 13, 2, 7, 9, 2, 12, 12, 0, 3, 5, 5, 11, 12, 9, 12, 14, 9, 1, 0, 12, 11, 11, 11, 3, 11, 9, 2, 12, 10, 11, 2, 9, 1, 11, 7, 5, 2, 9, 12, 5, 4, 5, 5, 2, 12, 12, 12, 0, 13, 5, 11, 0, 13, 2, 11, 9, 9, 4, 10, 5, 12, 14, 4, 12, 11, 0, 12, 12, 11, 5, 9, 12, 5, 9, 4, 0, 9, 8, 5, 12, 12, 11, 9, 12, 14, 12, 1, 5, 5, 11, 9, 11, 5, 12, 5, 12, 12, 9, 5, 5, 2, 0, 12, 9, 9, 5, 13, 12, 12, 9, 12, 5, 9, 2, 12, 14, 11, 12, 2, 5, 8, 11, 13, 5, 4, 4, 1, 9, 5, 11, 0, 5, 0, 12, 3, 5, 11, 12, 5, 12, 12, 9, 2, 5, 12, 11, 5, 1, 12, 12, 12, 12, 10, 5, 14, 12, 1, 13, 12, 12, 5, 0, 2, 3, 12, 12, 0, 12, 9, 5, 11, 11, 5, 4, 1, 0, 14, 5, 5, 7, 9, 5, 8, 5, 2, 5, 0, 9, 12, 2, 9, 11, 12, 12, 12, 9, 12, 6, 2, 3, 12, 11, 1, 12, 9, 12, 12, 9, 12, 5, 11, 11, 4, 0, 2, 12, 12, 4, 9, 12, 12, 13, 0, 0, 5, 3, 1, 3, 3, 12, 14, 11, 9, 2, 9, 11, 11, 1, 11, 0, 12, 2, 11, 9, 12, 11, 11, 12, 2, 0, 1, 9, 12, 5, 11, 11, 9, 3, 12, 12, 12, 12, 11, 2, 2, 11, 11, 2, 3, 3, 9, 4, 14, 0, 0, 12, 12, 12, 12, 12, 5, 5, 5, 1, 4, 5, 2, 12, 12, 12, 12, 12, 2, 1, 9, 1, 12, 13, 0, 9, 0, 3, 2, 0, 12, 5, 5, 2, 11, 12, 5, 5, 11, 12, 12, 12, 0, 9, 12, 12, 11, 2, 11, 10, 2, 2, 12, 3, 12, 4, 5, 9, 12, 2, 12, 9, 9, 10, 8, 12, 0, 9, 12, 12, 12, 0, 11, 13, 9, 2, 5, 12, 9, 11, 12, 9, 5, 0, 13, 14, 2, 11, 12, 9, 2, 11, 11, 5, 3, 12, 5, 12, 12, 12, 2, 4, 2, 11, 8, 9, 12, 12, 0, 0, 5, 12, 13, 9, 9, 11, 12, 12, 2, 12, 0, 3, 12, 9, 11, 3, 4, 11, 14, 11, 12, 3, 12, 11, 2, 12, 9, 9, 2, 4, 4, 11, 12, 12, 12, 9, 9, 5, 5, 5, 0, 2, 0, 2, 12, 0, 12, 6, 12, 5, 12, 0, 11, 12, 12, 13, 5, 7, 12, 13, 0, 5, 5, 11, 3, 3, 2, 2, 9, 5, 11, 5, 5, 5, 6, 9, 9, 12, 9, 11, 2, 12, 2, 5, 12, 5, 5, 12, 2, 9, 12, 2, 3, 11, 14, 11, 12, 12, 12, 12, 5, 5, 11, 1, 4, 9, 12, 11, 5, 12, 2, 9, 12, 11, 12, 5, 3, 12, 5, 1, 11, 12, 3, 12, 12, 5, 12, 0, 2, 11, 5, 3, 5, 7, 5, 12, 12, 3, 5, 9, 13, 12, 5, 11, 1, 12, 2, 2, 9, 5, 1, 5, 9, 0, 1, 9, 12, 2, 4, 9, 8, 2, 5, 14, 0, 3, 5, 11, 12, 11, 12, 5, 12, 11, 13, 2, 5, 2, 11, 12, 9, 2, 4, 2, 13, 9, 13, 0, 12, 5, 12, 2, 12, 5, 14, 0, 2, 11, 12, 9, 12, 4, 12, 4, 12, 3, 4, 5, 1, 2, 9, 2, 2, 12, 0, 12, 14, 0, 9, 11, 5, 11, 12, 12, 9, 2, 12, 9, 5, 1, 5, 1, 10, 4, 12, 14, 9, 9, 12, 2, 12, 2, 12, 12, 2, 13, 12, 12, 5, 5, 2, 2, 11, 3, 9, 0, 5, 4, 9, 11, 12, 0, 12, 12, 2, 11, 3, 12, 12, 2, 12, 9, 2, 9, 11, 12, 9, 12, 0, 11, 5, 9, 3, 9, 4, 5, 9, 9, 12, 5, 9, 2, 0, 12, 11, 11, 4, 12, 11, 12, 12, 9, 13, 2, 12, 12, 5, 5, 0, 5, 12, 5, 12, 11, 5, 2, 0, 11, 11, 2, 12, 2, 11, 5, 12, 12, 5, 3, 3, 12, 3, 8, 2, 0, 0, 0, 0, 5, 5, 4, 14, 5, 12, 12, 7, 12, 9, 14, 11, 12, 11, 5, 12, 5, 7, 2, 13, 13, 0, 2, 5, 2, 8, 9, 4, 1, 12, 12, 12, 12, 9, 11, 0, 5, 9, 9, 12, 12, 9, 5, 5, 12, 11, 11, 12, 4, 12, 14, 2, 12, 5, 12, 13, 9, 2, 12, 12, 11, 12, 12, 3, 0, 12, 2, 12, 12, 3, 12, 5, 7, 10, 5, 5, 5, 12, 3, 12, 12, 0, 5, 0, 4, 9, 12, 9, 5, 5, 5, 12, 12, 12, 5, 12, 9, 5, 1, 12, 12, 3, 12, 11, 0, 4, 12, 0, 0, 11, 13, 2, 12, 12, 12, 11, 12, 13, 0, 0, 14, 14, 12, 0, 2, 12, 12, 0, 12, 12, 0, 12, 0, 12, 9, 0, 12, 5, 14, 1, 0, 4, 1, 12, 2, 12, 13, 5, 4, 1, 3, 1, 12, 9, 0, 9, 3, 12, 7, 11, 4, 5, 2, 4, 12, 13, 0, 0, 13, 12, 9, 10, 9, 4, 1, 13, 11, 12, 10, 11, 5, 12, 10, 3, 8, 9, 12, 12, 12, 9, 2, 10, 12, 10, 4, 5, 0, 2, 14, 7, 13, 9, 3, 12, 12, 3, 11, 0, 12, 0, 12, 12, 3, 12, 12, 4, 12, 11, 9, 12, 12, 5, 12, 12, 12, 11, 12, 12, 4, 2, 12, 9, 9, 5, 12, 11, 11, 2, 3, 12, 9, 5, 7, 11, 12, 5, 12, 4, 12, 0, 9, 3, 9, 12, 0, 12, 10, 1, 12, 5, 12, 12, 11, 10, 2, 9, 4, 5, 12, 14, 4, 12, 8, 0, 12, 2, 3, 12, 11, 12, 9, 12, 2, 2, 3, 4, 12, 12, 11, 12, 4, 1, 12, 12, 1, 2, 12, 13, 12, 12, 0, 0, 12, 2, 9, 12, 11, 5, 0, 12, 1, 2, 9, 1, 12, 12, 6, 5, 3, 2, 5, 12, 12, 3, 12, 3, 5, 2, 2, 9, 4, 13, 4, 9, 12, 2, 1, 2, 2, 5, 12, 5, 5, 5, 11, 11, 5, 13, 5, 12, 5, 12, 12, 5, 0, 2, 5, 12, 4, 2, 0, 9, 12, 12, 2, 5, 9, 12, 11, 12, 12, 9, 9, 5, 12, 0, 1, 13, 12, 5, 12, 12, 2, 12, 5, 2, 14, 12, 9, 12, 2, 5, 12, 2, 0, 5, 8, 1, 12, 0, 11, 3, 12, 2, 9, 2, 5, 12, 5, 9, 12, 1, 5, 12, 9, 5, 12, 2, 11, 14, 13, 3, 5, 5, 1, 11, 2, 12, 13, 3, 9, 5, 5, 12, 2, 2, 14, 2, 2, 12, 2, 12, 12, 14, 9, 11, 11, 11, 12, 0, 9, 9, 12, 4, 13, 8, 12, 5, 12, 2, 5, 8, 0, 2, 5, 5, 5, 2, 3, 12, 10, 12, 5, 12, 13, 9, 11, 12, 0, 13, 12, 5, 9, 11, 2, 12, 9, 12, 5, 2, 3, 9, 3, 12, 4, 11, 5, 2, 12, 12, 12, 3, 13, 5, 12, 12, 12, 11, 0, 12, 1, 5, 9, 2, 12, 5, 10, 12, 12, 0, 12, 12, 2, 13, 11, 3, 2, 3, 12, 12, 0, 12, 12, 11, 4, 7, 12, 12, 9, 11, 13, 5, 5, 5, 12, 0, 12, 9, 9, 12, 2, 5, 0, 1, 2, 12, 14, 1, 1, 12, 7, 9, 12, 2, 4, 12, 12, 12, 0, 14, 12, 1, 12, 12, 3, 1, 4, 3, 11, 12, 4, 5, 5, 13, 12, 12, 11, 13, 2, 4, 6, 12, 0, 11, 12, 9, 11, 13, 12, 0, 11, 1, 12, 2, 13, 3, 4, 5, 11, 9, 12, 3, 12, 1, 14, 1, 10, 13, 12, 12, 12, 12, 5, 2, 1, 3, 11, 2, 14, 9, 5, 0, 12, 11, 4, 5, 5, 0, 12, 3, 5, 0, 3, 12, 2, 2, 0, 0, 12, 3, 12, 12, 12, 1, 12, 2, 12, 11, 12, 12, 5, 0, 11, 14, 5, 13, 11, 12, 1, 4, 12, 7, 11, 2, 5, 12, 0, 11, 5, 3, 8, 2, 5, 4, 5, 13, 12, 3, 5, 11, 0, 5, 2, 12, 2, 12, 5, 2, 13, 9, 12, 12, 12, 2, 5, 5, 11, 2, 12, 0, 2, 5, 0, 4, 3, 12, 2, 12, 12, 12, 12, 5, 9, 12, 3, 4, 0, 5, 14, 14, 12, 12, 9, 4, 9, 12, 8, 5, 10, 2, 2, 12, 12, 12, 12, 12, 11, 13, 4, 12, 0, 12, 4, 3, 11, 5, 5, 12, 12, 12, 11, 0, 5, 4, 5, 5, 12, 12, 13, 12, 8, 2, 12, 9, 5, 0, 11, 12, 8, 2, 14, 12, 4, 12, 12, 3, 12, 12, 2, 8, 5, 8, 2, 9, 12, 0, 12, 0, 12, 5, 5, 12, 12, 12, 5, 0, 12, 1, 12, 9, 5, 11, 3, 12, 12, 12, 12, 12, 12, 5, 12, 0, 12, 12, 11, 12, 12, 12, 4, 5, 1, 12, 12, 12, 0, 9, 9, 11, 12, 5, 12, 0, 12, 2, 12, 2, 12, 5, 12, 14, 3, 12, 4, 12, 11, 9, 3, 11, 0, 12, 2, 9, 2, 2, 12, 5, 9, 9, 3, 11, 9, 10, 9, 2, 9, 11, 12, 12, 12, 9, 11, 2, 5, 5, 11, 12, 9, 12, 12, 3, 12, 2, 2, 12, 5, 5, 0, 2, 12, 5, 12, 11, 0, 3, 12, 12, 4, 3, 5, 3, 11, 3, 1, 12, 7, 13, 13, 12, 4, 12, 2, 12, 11, 7, 3, 9, 2, 3, 2, 2, 12, 11, 13, 12, 12, 12, 2, 12, 9, 9, 9, 9, 5, 5, 12, 2, 12, 5, 12, 2, 9, 12, 12, 3, 2, 12, 14, 12, 2, 2, 5, 12, 12, 2, 12, 9, 3, 11, 9, 2, 2, 12, 5, 3, 9, 13, 2, 5, 11, 11, 5, 5, 9, 5, 9, 12, 4, 0, 12, 12, 13, 12, 12, 14, 12, 2, 4, 12, 14, 14, 9, 12, 3, 12, 11, 5, 3, 14, 9, 9, 8, 12, 14, 2, 4, 3, 12, 4, 5, 12, 12, 12, 0, 11, 4, 12, 9, 5, 14, 2, 12, 9, 12, 0, 5, 3, 9, 0, 12, 11, 9, 1, 12, 9, 2, 3, 5, 14, 9, 11, 0, 1, 12, 11, 5, 11, 11, 9, 13, 9, 2, 5, 0, 3, 11, 4, 4, 2, 9, 5, 12, 14, 2, 3, 12, 5, 2, 5, 4, 9, 12, 12, 2, 3, 12, 11, 0, 12, 2, 4, 5, 13, 9, 0, 9, 5, 0, 11, 11, 9, 14, 0, 13, 12, 3, 5, 5, 12, 3, 12, 12, 2, 12, 11, 12, 12, 5, 12, 0, 12, 14, 2, 2, 12, 3, 8, 12, 2, 5, 12, 8, 12, 5, 12, 12, 5, 11, 8, 12, 12, 2, 5, 9, 5, 3, 7, 12, 12, 5, 12, 11, 12, 11, 2, 12, 12, 12, 5, 12, 12, 2, 11, 2, 12, 0, 5, 11, 11, 5, 12, 2, 12, 0, 12, 14, 2, 5, 11, 5, 12, 9, 3, 5, 2, 12, 2, 2, 9, 12, 4, 9, 2, 8, 12, 9, 12, 9, 12, 2, 12, 2, 12, 8, 12, 12, 4, 11, 2, 9, 12, 9, 9, 5, 12, 2, 12, 4, 3, 2, 5, 14, 11, 11, 12, 10, 7, 12, 3, 2, 5, 6, 12, 12, 12, 14, 11, 4, 12, 12, 5, 9, 12, 9, 9, 12, 5, 9, 3, 12, 9, 9, 12, 0, 12, 1, 0, 12, 9, 2, 8, 2, 7, 11, 10, 0, 2, 11, 12, 12, 12, 2, 11, 11, 12, 9, 9, 2, 12, 4, 12, 5, 11, 12, 9, 0, 12, 9, 12, 2, 1, 3, 2, 13, 2, 12, 5, 0, 12, 2, 13, 5, 9, 12, 11, 4, 12, 9, 9, 12, 12, 2, 12, 2, 5, 12, 9, 12, 12, 0, 12, 12, 2, 12, 3, 11, 10, 2, 12, 12, 10, 12, 0, 9, 9, 2, 12, 11, 0, 9, 12, 9, 8, 11, 5, 8, 0, 11, 12, 13, 1, 12, 14, 12, 1, 9, 5, 5, 11, 5, 5, 11, 5, 2, 0, 5, 0, 11, 13, 2, 2, 12, 0, 1, 4, 13, 9, 5, 14, 0, 12, 12, 12, 0, 0, 13, 3, 9, 12, 4, 9, 0, 2, 8, 2, 2, 12, 9, 12, 4, 5, 2, 2, 9, 0, 9, 12, 12, 11, 12, 12, 11, 5, 12, 2, 3, 3, 12, 12, 0, 11, 0, 2, 11, 10, 14, 12, 2, 5, 2, 14, 7, 12, 12, 2, 10, 1, 14, 12, 5, 5, 3, 12, 13, 12, 5, 5, 12, 12, 0, 9, 1, 2, 12, 12, 2, 12, 5, 12, 14, 2, 12, 11, 2, 12, 13, 3, 12, 11, 9, 0, 5, 12, 5, 14, 2, 12, 11, 3, 0, 11, 3, 0, 3, 5, 0, 4, 12, 0, 12, 12, 12, 5, 10, 5, 12, 3, 5, 2, 9, 9, 12, 5, 4, 9, 1, 12, 5, 12, 12, 2, 12, 13, 5, 12, 12, 3, 11, 3, 9, 2, 12, 9, 2, 0, 12, 3, 2, 11, 12, 12, 12, 1, 12, 8, 0, 2, 12, 0, 12, 12, 11, 9, 9, 2, 11, 11, 5, 2, 14, 5, 9, 9, 3, 9, 12, 9, 0, 11, 2, 12, 5, 12, 12, 12, 5, 9, 3, 12, 4, 12, 9, 0, 3, 11, 12, 12, 5, 0, 12, 0, 8, 12, 12, 12, 1, 2, 2, 5, 2, 12, 2, 5, 11, 9, 11, 4, 5, 9, 10, 2, 0, 11, 1, 4, 4, 5, 5, 12, 11, 11, 5, 12, 2, 12, 12, 9, 12, 2, 12, 9, 9, 11, 0, 12, 5, 5, 11, 12, 3, 12, 11, 4, 0, 14, 12, 5, 12, 5, 12, 11, 2, 1, 4, 5, 5, 2, 6, 5, 12, 0, 5, 12, 12, 0, 8, 12, 12, 5, 12, 12, 1, 5, 4, 12, 3, 5, 12, 12, 2, 3, 12, 12, 5, 9, 0, 2, 12, 2, 7, 12, 12, 5, 0, 4, 12, 11, 4, 14, 12, 12, 12, 2, 11, 3, 5, 2, 12, 5, 5, 13, 12, 9, 12, 12, 1, 9, 2, 0, 12, 12, 2, 12, 12, 12, 3, 10, 11, 9, 5, 11, 13, 14, 14, 11, 8, 12, 2, 12, 12, 12, 12, 2, 12, 14, 1, 4, 2, 11, 2, 13, 11, 12, 5, 0, 12, 0, 5, 13, 11, 0, 12, 9, 12, 12, 0, 12, 9, 13, 5, 2, 12, 5, 0, 12, 4, 2, 12, 12, 0, 12, 12, 12, 0, 12, 5, 12, 11, 12, 1, 5, 5, 5, 5, 0, 5, 2, 2, 12, 14, 2, 5, 11, 5, 9, 9, 12, 14, 2, 3, 12, 12, 5, 11, 12, 5, 12, 2, 0, 12, 0, 14, 9, 9, 14, 14, 11, 12, 5, 3, 12, 10, 11, 5, 9, 9, 12, 2, 13, 5, 13, 2, 3, 12, 12, 12, 3, 5, 0, 5, 3, 0, 14, 0, 12, 3, 9, 5, 14, 5, 12, 8, 3, 4, 10, 12, 4, 12, 2, 2, 11, 2, 12, 12, 4, 12, 2, 0, 5, 12, 3, 5, 5, 9, 11, 5, 12, 10, 12, 1, 5, 9, 12, 5, 5, 5, 5, 12, 4, 14, 1, 11, 10, 9, 11, 12, 12, 0, 0, 11, 5, 11, 5, 4, 12, 13, 9, 4, 12, 3, 12, 12, 5, 0, 12, 10, 9, 1, 12, 7, 12, 2, 14, 4, 12, 4, 5, 12, 0, 12, 5, 11, 5, 2, 4, 5, 12, 12, 12, 12, 12, 9, 11, 2, 11, 11, 12, 12, 12, 2, 5, 12, 12, 12, 11, 5, 12, 5, 11, 12, 5, 5, 12, 4, 12, 5, 12, 4, 5, 4, 12, 12, 4, 12, 8, 5, 5, 12, 12, 9, 10, 12, 4, 12, 5, 5, 11, 12, 1, 12, 4, 12, 2, 9, 3, 0, 2, 7, 11, 12, 9, 9, 14, 12, 11, 7, 0, 8, 12, 11, 3, 3, 5, 5, 1, 12, 0, 8, 12, 11, 11, 2, 9, 2, 12, 8, 0, 5, 9, 10, 2, 7, 11, 5, 5, 4, 4, 11, 14, 4, 14, 9, 7, 2, 14, 8, 5, 2, 12, 13, 4, 13, 5, 2, 5, 11, 12, 10, 12, 12, 12, 2, 0, 0, 11, 12, 12, 0, 12, 10, 2, 0, 12, 12, 4, 5, 9, 12, 12, 4, 12, 12, 11, 8, 12, 11, 4, 12, 12, 4, 12, 11, 12, 2, 7, 12, 12, 0, 2, 9, 1, 2, 12, 13, 4, 4, 3, 2, 11, 9, 9, 14, 4, 13, 12, 5, 5, 11, 2, 12, 12, 11, 4, 12, 2, 0, 3, 9, 12, 12, 12, 11, 4, 12, 12, 2, 14, 12, 12, 14, 14, 1, 9, 2, 12, 14, 3, 12, 11, 2, 5, 2, 9, 14, 11, 12, 1, 5, 2, 5, 11, 9, 11, 9, 2, 9, 12, 12, 12, 12, 9, 12, 12, 5, 2, 10, 11, 12, 5, 11, 12, 3, 12, 5, 12, 12, 2, 12, 12, 5, 4, 4, 12, 14, 3, 12, 2, 12, 0, 5, 4, 2, 9, 0, 4, 0, 13, 12, 12, 2, 9, 9, 12, 9, 11, 12, 5, 3, 12, 12, 2, 9, 4, 5, 5, 9, 2, 3, 5, 3, 5, 4, 11, 9, 0, 0, 12, 11, 11, 8, 12, 2, 12, 2, 12, 5, 4, 3, 11, 12, 12, 12, 9, 12, 4, 9, 9, 12, 2, 8, 9, 9, 5, 2, 12, 4, 5, 3, 1, 11, 2, 5, 12, 2, 9, 12, 3, 2, 12, 0, 5, 5, 11, 12, 2, 0, 2, 12, 11, 12, 10, 5, 12, 12, 12, 7, 11, 4, 12, 2, 12, 2, 12, 10, 13, 7, 12, 12, 12, 2, 2, 2, 5, 9, 5, 12, 5, 12, 11, 9, 11, 9, 11, 11, 5, 14, 12, 0, 5, 5, 11, 2, 12, 5, 12, 1, 2, 12, 11, 5, 7, 2, 13, 12, 9, 5, 13, 0, 12, 14, 5, 12, 12, 9, 12, 9, 12, 0, 2, 12, 12, 12, 11, 11, 12, 12, 11, 9, 3, 5, 1, 12, 11, 4, 2, 12, 0, 4, 10, 2, 5, 12, 12, 12, 13, 3, 2, 12, 11, 12, 5, 2, 12, 7, 9, 2, 12, 9, 12, 3, 1, 12, 9, 0, 14, 12, 9, 8, 10, 12, 12, 12, 2, 12, 9, 7, 9, 0, 2, 4, 0, 4, 14, 2, 4, 12, 8, 12, 3, 5, 3, 12, 12, 2, 12, 11, 0, 2, 12, 5, 10, 2, 0, 12, 12, 5, 2, 12, 12, 2, 10, 12, 11, 1, 2, 12, 4, 10, 9, 14, 3, 12, 5, 12, 11, 12, 12, 12, 0, 0, 0, 5, 13, 0, 14, 3, 12, 9, 5, 2, 12, 9, 11, 12, 2, 0, 7, 9, 12, 12, 12, 11, 2, 0, 4, 12, 3, 9, 12, 11, 12, 12, 11, 5, 13, 1, 13, 12, 2, 12, 2, 12, 4, 1, 11, 12, 5, 2, 9, 12, 12, 5, 5, 12, 0, 2, 14, 4, 12, 11, 3, 12, 12, 12, 5, 11, 3, 12, 12, 12, 0, 8, 13, 3, 12, 11, 12, 0, 5, 2, 12, 2, 13, 2, 11, 5, 9, 9, 12, 9, 12, 12, 12, 5, 13, 12, 12, 12, 3, 9, 0, 14, 3, 9, 14, 2, 12, 12, 9, 2, 0, 2, 12, 12, 0, 9, 2, 12, 0, 12, 4, 12, 12, 12, 3, 3, 5, 9, 5, 11, 2, 4, 5, 12, 0, 5, 4, 0, 9, 12, 9, 5, 12, 5, 12, 3, 0, 4, 9, 11, 5, 2, 4, 11, 11, 14, 12, 12, 5, 12, 9, 2, 9, 12, 2, 5, 2, 12, 12, 12, 9, 4, 12, 5, 2, 4, 12, 12, 9, 6, 5, 12, 5, 12, 12, 11, 12, 14, 2, 12, 11, 5, 13, 11, 9, 2, 0, 2, 3, 12, 13, 12, 11, 12, 12, 12, 2, 12, 0, 11, 4, 12, 4, 11, 11, 2, 7, 0, 12, 12, 12, 12, 5, 1, 9, 8, 9, 4, 9, 4, 5, 11, 9, 9, 0, 10, 12, 12, 11, 12, 12, 4, 11, 9, 4, 14, 9, 5, 14, 2, 5, 5, 12, 12, 4, 10, 12, 5, 12, 12, 4, 0, 12, 9, 13, 12, 4, 1, 3, 5, 2, 9, 12, 8, 14, 2, 9, 12, 12, 11, 5, 4, 5, 3, 11, 12, 5, 3, 0, 5, 9, 12, 12, 5, 2, 0, 9, 12, 2, 12, 9, 5, 13, 9, 9, 2, 2, 5, 11, 12, 2, 12, 13, 2, 14, 3, 5, 5, 12, 13, 2, 12, 13, 12, 12, 11, 12, 0, 11, 0, 9, 3, 2, 9, 4, 12, 5, 5, 9, 0, 11, 12, 11, 5, 11, 9, 11, 1, 12, 9, 9, 2, 12, 11, 0, 12, 3, 12, 1, 4, 8, 11, 12, 12, 9, 12, 5, 3, 12, 0, 9, 5, 12, 14, 12, 12, 11, 5, 5, 9, 12, 5, 5, 11, 5, 12, 12, 12, 4, 4, 12, 5, 0, 8, 12, 5, 11, 11, 8, 13, 5, 12, 3, 11, 1, 12, 1, 3, 0, 0, 12, 2, 12, 9, 9, 13, 12, 9, 4, 0, 5, 12, 11, 2, 9, 2, 10, 12, 12, 8, 2, 9, 2, 12, 12, 14, 0, 2, 5, 4, 3, 12, 5, 0, 12, 12, 12, 5, 5, 0, 12, 5, 8, 12, 5, 12, 5, 12, 5, 9, 12, 5, 11, 2, 14, 5, 2, 12, 5, 2, 2, 1, 2, 9, 12, 13, 12, 5, 11, 14, 12, 0, 12, 1, 12, 10, 9, 12, 5, 5, 5, 1, 5, 12, 12, 4, 7, 11, 12, 5, 3, 5, 9, 4, 5, 8, 11, 2, 14, 2, 2, 12, 4, 2, 8, 11, 2, 11, 5, 11, 9, 12, 12, 0, 0, 11, 12, 12, 9, 14, 12, 3, 8, 12, 2, 12, 2, 12, 5, 12, 11, 4, 12, 12, 5, 9, 12, 12, 2, 2, 2, 2, 14, 12, 12, 0, 9, 14, 12, 13, 12, 12, 11, 0, 2, 2, 12, 12, 12, 9, 4, 0, 14, 11, 5, 11, 9, 0, 12, 12, 12, 9, 12, 2, 12, 0, 12, 5, 13, 9, 12, 3, 11, 12, 2, 12, 9, 14, 12, 9, 12, 9, 12, 12, 9, 9, 0, 2, 1, 9, 12, 12, 12, 5, 3, 12, 4, 0, 2, 12, 12, 12, 12, 10, 2, 5, 2, 0, 5, 12, 14, 11, 3, 12, 12, 12, 13, 12, 12, 3, 11, 2, 12, 4, 2, 12, 3, 12, 5, 9, 0, 11, 7, 5, 12, 2, 11, 5, 4, 5, 12, 9, 4, 6, 5, 12, 4, 0, 4, 1, 2, 10, 0, 12, 12, 12, 5, 9, 4, 3, 4, 9, 4, 5, 11, 4, 4, 12, 0, 12, 0, 12, 11, 12, 11, 0, 12, 11, 12, 4, 12, 5, 12, 12, 12, 12, 2, 4, 5, 11, 12, 5, 11, 12, 12, 13, 9, 2, 5, 2, 0, 12, 12, 12, 14, 5, 13, 5, 2, 9, 11, 2, 5, 9, 12, 0, 12, 12, 14, 1, 12, 0, 9, 11, 12, 9, 12, 2, 4, 7, 12, 12, 2, 11, 2, 12, 14, 11, 12, 4, 11, 1, 12, 3, 12, 12, 2, 0, 3, 1, 5, 11, 12, 10, 5, 0, 12, 11, 0, 7, 12, 12, 9, 0, 12, 12, 12, 0, 2, 0, 11, 12, 5, 12, 9, 0, 3, 2, 12, 4, 12, 5, 2, 12, 11, 13, 5, 2, 12, 0, 0, 2, 12, 0, 11, 5, 12, 10, 4, 9, 12, 12, 12, 11, 12, 4, 12, 12, 12, 4, 5, 12, 2, 2, 0, 12, 0, 2, 12, 0, 12, 9, 5, 9, 1, 3, 13, 4, 9, 9, 14, 9, 14, 14, 4, 12, 0, 8, 7, 11, 4, 3, 12, 5, 11, 9, 9, 11, 5, 13, 11, 0, 9, 12, 9, 4, 12, 12, 3, 5, 3, 5, 2, 2, 0, 12, 12, 2, 11, 12, 5, 2, 4, 12, 5, 3, 2, 9, 5, 3, 12, 4, 11, 12, 11, 2, 0, 12, 5, 5, 12, 12, 5, 4, 14, 12, 1, 11, 11, 4, 9, 11, 14, 4, 2, 0, 10, 12, 12, 11, 12, 12, 12, 12, 12, 12, 12, 11, 2, 12, 14, 9, 12, 13, 1, 9, 9, 12, 13, 5, 12, 4, 12, 12, 12, 2, 12, 3, 12, 12, 8, 5, 12, 5, 5, 9, 9, 11, 12, 4, 2, 4, 11, 12, 9, 3, 5, 3, 9, 13, 12, 11, 3, 5, 12, 2, 3, 12, 4, 13, 5, 0, 13, 2, 0, 1, 11, 12, 12, 5, 4, 3, 10, 9, 0, 12, 11, 12, 0, 12, 13, 11, 12, 3, 0, 11, 12, 5, 2, 0, 2, 12, 3, 3, 3, 9, 11, 9, 5, 9, 9, 5, 2, 2, 13, 2, 12, 2, 12, 2, 12, 11, 9, 11, 0, 9, 5, 12, 9, 0, 5, 5, 5, 9, 5, 12, 12, 10, 12, 3, 5, 9, 11, 5, 5, 12, 12, 0, 13, 5, 12, 0, 12, 1, 12, 2, 12, 4, 0, 0, 5, 5, 5, 12, 11, 2, 5, 8, 5, 12, 0, 5, 9, 9, 12, 11, 12, 9, 12, 12, 12, 11, 4, 12, 2, 12, 12, 8, 11, 11, 12, 5, 5, 2, 5, 12, 12, 9, 11, 4, 0, 12, 4, 12, 2, 4, 5, 9, 12, 9, 14, 11, 11, 2, 2, 5, 9, 12, 12, 5, 11, 3, 14, 11, 9, 10, 13, 9, 2, 5, 11, 9, 5, 14, 12, 11, 13, 11, 12, 12, 5, 12, 2, 12, 2, 11, 0, 9, 0, 2, 11, 2, 14, 5, 14, 12, 12, 11, 12, 2, 5, 12, 5, 12, 14, 11, 12, 2, 12, 5, 9, 12, 12, 2, 3, 0, 9, 12, 14, 14, 12, 5, 2, 9, 2, 9, 12, 11, 5, 3, 12, 12, 5, 12, 3, 14, 12, 12, 12, 0, 3, 12, 1, 3, 11, 12, 8, 12, 11, 3, 11, 0, 12, 2, 5, 5, 9, 5, 9, 11, 5, 9, 7, 3, 11, 11, 11, 5, 5, 11, 11, 2, 12, 11, 7, 3, 5, 9, 5, 12, 12, 2, 13, 12, 3, 5, 2, 12, 12, 12, 11, 5, 12, 2, 5, 11, 2, 14, 12, 9, 11, 12, 2, 2, 3, 12, 0, 13, 0, 9, 0, 11, 12, 1, 2, 12, 9, 2, 12, 5, 12, 2, 5, 9, 3, 12, 2, 4, 9, 12, 0, 12, 9, 13, 9, 12, 11, 4, 5, 8, 2, 3, 12, 0, 11, 9, 2, 13, 5, 2, 10, 13, 2, 0, 12, 12, 12, 12, 5, 9, 3, 12, 11, 3, 12, 3, 5, 9, 12, 11, 9, 11, 9, 12, 3, 10, 0, 5, 12, 12, 5, 2, 0, 11, 2, 4, 12, 2, 12, 8, 11, 12, 9, 12, 12, 12, 10, 14, 14, 2, 1, 4, 12, 5, 4, 0, 9, 14, 4, 11, 13, 13, 3, 2, 0, 2, 0, 12, 12, 12, 12, 0, 14, 9, 5, 3, 11, 12, 12, 12, 4, 11, 9, 12, 12, 5, 9, 9, 9, 9, 14, 12, 5, 12, 5, 12, 5, 12, 12, 11, 12, 7, 9, 12, 9, 9, 11, 3, 12, 9, 12, 12, 1, 5, 2, 11, 5, 12, 9, 9, 9, 11, 9, 9, 9, 5, 4, 12, 12, 14, 11, 12, 9, 14, 1, 9, 12, 5, 3, 12, 12, 7, 13, 4, 4, 11, 2, 11, 5, 12, 12, 2, 12, 2, 12, 5, 13, 9, 12, 12, 12, 12, 5, 5, 5, 0, 5, 12, 5, 12, 4, 5, 3, 12, 4, 12, 9, 5, 5, 0, 12, 11, 6, 12, 4, 2, 0, 9, 5, 12, 12, 8, 12, 13, 12, 11, 9, 5, 2, 2, 12, 2, 13, 0, 9, 0, 9, 9, 4, 12, 12, 12, 5, 3, 3, 11, 13, 0, 12, 12, 3, 5, 11, 1, 12, 0, 3, 0, 12, 13, 0, 1, 12, 9, 0, 9, 9, 12, 12, 2, 12, 13, 12, 12, 14, 14, 12, 5, 3, 12, 5, 5, 11, 5, 12, 11, 2, 12, 2, 9, 5, 9, 5, 8, 9, 13, 9, 12, 12, 12, 5, 5, 7, 2, 12, 12, 12, 11, 2, 12, 2, 8, 2, 12, 12, 11, 12, 2, 0, 9, 12, 11, 5, 12, 14, 9, 0, 2, 2, 0, 13, 3, 9, 12, 2, 0, 3, 4, 2, 12, 4, 12, 13, 8, 11, 0, 12, 0, 0, 12, 5, 4, 2, 12, 13, 9, 0, 9, 2, 11, 4, 12, 12, 8, 9, 1, 12, 12, 4, 9, 9, 12, 0, 11, 13, 3, 14, 2, 3, 12, 5, 3, 12, 3, 11, 11, 2, 1, 9, 9, 9, 12, 11, 2, 14, 9, 3, 7, 12, 11, 11, 11, 9, 5, 2, 12, 3, 3, 11, 9, 2, 0, 5, 11, 9, 12, 5, 11, 13, 9, 12, 9, 5, 4, 1, 9, 11, 12, 12, 12, 11, 9, 10, 12, 3, 13, 4, 12, 5, 12, 9, 12, 5, 9, 12, 7, 11, 5, 12, 12, 4, 4, 4, 9, 4, 12, 11, 5, 5, 5, 2, 9, 2, 13, 11, 12, 11, 12, 7, 3, 12, 12, 0, 0, 5, 14, 10, 12, 9, 13, 5, 9, 12, 3, 11, 3, 14, 12, 12, 2, 11, 12, 5, 5, 2, 12, 12, 13, 12, 12, 5, 5, 12, 8, 3, 12, 5, 9, 2, 11, 12, 2, 0, 12, 4, 12, 0, 9, 12, 3, 11, 0, 6, 5, 12, 12, 0, 5, 0, 12, 12, 12, 12, 12, 2, 2, 13, 5, 2, 5, 0, 11, 5, 4, 9, 5, 14, 12, 1, 12, 12, 8, 5, 12, 5, 12, 14, 3, 0, 4, 2, 12, 5, 4, 9, 0, 5, 2, 12, 3, 5, 5, 12, 12, 12, 1, 12, 2, 1, 2, 5, 5, 8, 11, 12, 12, 5, 14, 12, 10, 4, 5, 2, 2, 3, 0, 9, 0, 3, 2, 0, 0, 12, 12, 9, 3, 12, 3, 11, 3, 12, 9, 9, 12, 0, 9, 5, 11, 9, 1, 2, 12, 9, 13, 8, 12, 5, 12, 5, 2, 2, 0, 12, 11, 12, 9, 12, 0, 9, 0, 12, 9, 12, 12, 1, 0, 5, 12, 12, 13, 12, 0, 2, 5, 2, 5, 11, 9, 3, 11, 1, 2, 12, 5, 9, 12, 14, 5, 0, 0, 4, 5, 2, 13, 13, 3, 3, 4, 9, 4, 12, 12, 9, 12, 12, 12, 12, 12, 12, 12, 2, 0, 9, 4, 12, 5, 11, 12, 9, 5, 0, 12, 3, 14, 12, 0, 9, 9, 11, 12, 12, 10, 5, 5, 11, 12, 13, 11, 12, 5, 2, 12, 5, 12, 13, 3, 8, 4, 1, 12, 12, 14, 9, 2, 2, 5, 11, 14, 3, 0, 12, 9, 9, 5, 4, 4, 3, 2, 5, 9, 5, 12, 12, 11, 5, 5, 1, 5, 2, 5, 0, 12, 2, 2, 0, 8, 9, 12, 1, 4, 13, 4, 2, 12, 0, 12, 3, 7, 4, 12, 10, 4, 12, 5, 12, 2, 5, 11, 5, 9, 12, 11, 10, 13, 9, 1, 12, 14, 2, 12, 8, 14, 12, 12, 12, 5, 3, 11, 0, 5, 1, 12, 2, 9, 12, 12, 14, 11, 4, 0, 11, 11, 12, 9, 5, 5, 5, 12, 9, 12, 0, 1, 0, 12, 12, 14, 14, 13, 9, 12, 5, 9, 9, 12, 7, 14, 0, 3, 13, 12, 12, 3, 12, 12, 12, 11, 12, 5, 5, 12, 4, 12, 2, 5, 10, 5, 12, 11, 12, 2, 12, 5, 11, 11, 12, 2, 2, 12, 12, 3, 12, 0, 11, 4, 5, 12, 0, 13, 5, 11, 12, 12, 2, 12, 12, 12, 12, 11, 9, 9, 12, 1, 3, 5, 14, 12, 9, 3, 11, 5, 9, 4, 5, 5, 13, 2, 9, 5, 12, 1, 12, 5, 12, 5, 2, 14, 2, 9, 5, 12, 5, 2, 11, 12, 5, 12, 4, 0, 12, 12, 0, 12, 12, 12, 12, 12, 12, 2, 0, 12, 0, 5, 5, 2, 2, 12, 5, 12, 2, 11, 13, 12, 12, 12, 12, 9, 5, 0, 12, 9, 5, 2, 4, 0, 12, 4, 5, 2, 14, 4, 11, 11, 9, 5, 5, 12, 11, 0, 12, 14, 2, 11, 12, 11, 5, 9, 0, 0, 5, 13, 11, 11, 12, 11, 9, 12, 2, 8, 12, 9, 12, 12, 11, 12, 5, 9, 12, 2, 12, 2, 14, 3, 5, 9, 11, 4, 1, 9, 2, 12, 2, 12, 0, 11, 12, 5, 5, 12, 0, 12, 9, 0, 0, 12, 2, 2, 5, 2, 11, 4, 5, 11, 5, 9, 5, 11, 9, 5, 11, 11, 5, 12, 12, 2, 4, 13, 12, 11, 11, 4, 11, 12, 4, 12, 7, 2, 5, 12, 0, 0, 5, 12, 0, 4, 0, 12, 4, 5, 5, 12, 12, 14, 10, 5, 5, 12, 8, 12, 10, 12, 4, 12, 9, 14, 10, 12, 5, 13, 11, 0, 3, 12, 0, 5, 11, 5, 5, 14, 0, 3, 5, 0, 1, 11, 4, 12, 2, 2, 12, 12, 12, 0, 12, 12, 12, 11, 12, 12, 7, 4, 7, 12, 5, 5, 12, 2, 2, 12, 11, 2, 9, 5, 12, 0, 12, 9, 12, 14, 3, 12, 0, 4, 12, 12, 5, 4, 12, 9, 12, 12, 5, 9, 12, 9, 5, 0, 5, 5, 12, 5, 12, 9, 2, 9, 8, 11, 5, 4, 5, 12, 14, 11, 9, 12, 0, 5, 3, 11, 2, 11, 2, 12, 5, 5, 5, 9, 8, 2, 2, 9, 12, 11, 12, 2, 5, 5, 11, 11, 5, 5, 12, 12, 14, 9, 4, 14, 12, 9, 12, 9, 5, 2, 12, 12, 2, 0, 2, 12, 12, 11, 12, 0, 0, 1, 14, 14, 2, 10, 2, 3, 11, 12, 2, 3, 12, 4, 0, 11, 2, 4, 11, 0, 5, 2, 12, 13, 11, 3, 3, 2, 5, 4, 14, 12, 13, 5, 12, 12, 10, 0, 9, 12, 11, 5, 5, 9, 9, 4, 12, 2, 5, 5, 9, 12, 1, 5, 5, 5, 9, 12, 12, 5, 10, 11, 5, 12, 0, 12, 12, 12, 14, 12, 9, 5, 3, 9, 12, 14, 5, 2, 2, 12, 3, 5, 0, 9, 11, 12, 2, 2, 3, 0, 9, 0, 3, 12, 12, 11, 9, 0, 12, 12, 12, 9, 9, 0, 3, 5, 12, 2, 11, 9, 1, 12, 12, 12, 2, 4, 13, 9, 5, 10, 12, 12, 11, 5, 2, 12, 14, 9, 9, 12, 9, 9, 11, 2, 8, 11, 11, 5, 1, 12, 9, 5, 9, 5, 2, 3, 0, 11, 12, 5, 12, 3, 12, 12, 11, 9, 5, 12, 12, 13, 5, 2, 2, 8, 3, 12, 5, 5, 4, 5, 4, 0, 3, 4, 12, 7, 0, 9, 12, 11, 5, 0, 13, 11, 12, 9, 1, 11, 5, 12, 11, 5, 5, 4, 12, 9, 13, 9, 9, 11, 2, 9, 2, 5, 3, 5, 10, 4, 5, 12, 12, 12, 12, 0, 5, 12, 2, 5, 2, 3, 0, 5, 2, 5, 2, 12, 12, 10, 14, 0, 12, 2, 13, 10, 14, 0, 4, 5, 9, 12, 5, 12, 11, 11, 2, 14, 12, 13, 11, 12, 12, 2, 5, 5, 2, 9, 11, 2, 12, 12, 2, 12, 3, 9, 12, 9, 12, 12, 2, 2, 1, 12, 4, 12, 3, 0, 12, 13, 13, 0, 3, 5, 7, 7, 12, 9, 9, 12, 4, 13, 2, 5, 13, 12, 8, 11, 2, 12, 0, 5, 12, 5, 3, 12, 12, 9, 2, 5, 0, 12, 12, 3, 12, 14, 9, 12, 9, 12, 2, 11, 11, 11, 9, 12, 11, 12, 9, 12, 12, 12, 4, 9, 12, 0, 12, 2, 12, 5, 4, 11, 11, 5, 13, 11, 2, 2, 5, 12, 9, 9, 12, 12, 5, 5, 0, 5, 1, 11, 8, 12, 12, 14, 5, 11, 11, 9, 12, 13, 12, 12, 13, 4, 14, 12, 11, 11, 13, 2, 9, 12, 12, 4, 11, 11, 4, 9, 12, 9, 10, 9, 4, 13, 0, 5, 4, 5, 12, 10, 1, 2, 12, 13, 11, 1, 12, 9, 12, 12, 10, 5, 2, 0, 11, 0, 12, 12, 5, 12, 5, 0, 2, 3, 12, 11, 9, 12, 2, 9, 12, 9, 4, 12, 9, 12, 2, 8, 11, 5, 12, 2, 12, 3, 4, 2, 11, 5, 12, 14, 2, 5, 0, 5, 2, 12, 8, 4, 0, 3, 6, 2, 0, 5, 2, 12, 9, 1, 12, 11, 0, 5, 4, 2, 12, 5, 2, 14, 8, 4, 10, 11, 5, 5, 10, 9, 11, 0, 2, 0, 13, 5, 7, 0, 12, 5, 3, 9, 11, 12, 12, 9, 12, 5, 0, 1, 4, 1, 2, 10, 2, 12, 12, 12, 1, 3, 9, 9, 4, 14, 12, 0, 12, 14, 12, 0, 0, 2, 9, 12, 5, 12, 5, 14, 0, 13, 14, 9, 11, 4, 14, 2, 0, 3, 2, 14, 12, 5, 14, 12, 2, 12, 0, 2, 12, 9, 2, 5, 11, 12, 12, 5, 12, 5, 12, 12, 11, 7, 5, 12, 1, 2, 4, 5, 2, 4, 5, 11, 5, 12, 12, 2, 2, 11, 9, 4, 9, 12, 12, 9, 7, 12, 12, 12, 2, 4, 9, 12, 0, 2, 13, 12, 2, 12, 12, 5, 12, 4, 4, 5, 12, 11, 14, 5, 12, 12, 12, 12, 2, 4, 14, 9, 5, 4, 0, 0, 12, 12, 0, 12, 12, 12, 11, 5, 12, 7, 2, 11, 5, 1, 0, 12, 12, 5, 9, 12, 5, 12, 13, 4, 12, 2, 11, 9, 4, 5, 2, 11, 12, 11, 13, 5, 12, 5, 11, 4, 0, 3, 12, 2, 7, 12, 10, 5, 12, 12, 12, 0, 12, 5, 14, 12, 4, 9, 14, 0, 9, 2, 12, 5, 2, 12, 5, 12, 4, 2, 3, 12, 14, 1, 9, 5, 12, 9, 12, 10, 3, 12, 4, 12, 9, 12, 12, 11, 3, 11, 12, 5, 12, 12, 0, 12, 12, 5, 11, 9, 12, 5, 12, 9, 12, 3, 12, 5, 2, 0, 12, 2, 4, 5, 12, 5, 9, 4, 12, 5, 0, 2, 12, 9, 2, 11, 13, 12, 9, 0, 0, 12, 0, 2, 12, 2, 0, 12, 11, 9, 9, 11, 3, 12, 4, 12, 0, 10, 0, 12, 5, 5, 5, 9, 11, 9, 14, 2, 2, 9, 5, 3, 3, 0, 4, 12, 9, 9, 12, 5, 12, 12, 9, 3, 5, 2, 12, 0, 2, 0, 3, 12, 1, 9, 12, 5, 12, 2, 12, 14, 12, 4, 13, 12, 9, 12, 5, 0, 2, 0, 0, 14, 11, 2, 2, 2, 14, 12, 3, 12, 8, 2, 2, 11, 12, 2, 9, 9, 5, 5, 12, 4, 14, 5, 5, 3, 12, 14, 3, 2, 12, 5, 5, 2, 12, 0, 5, 2, 0, 2, 9, 3, 0, 11, 12, 0, 1, 12, 3, 12, 5, 12, 5, 11, 4, 5, 12, 12, 1, 12, 0, 13, 14, 12, 11, 14, 12, 9, 12, 4, 11, 12, 2, 12, 12, 2, 12, 8, 12, 5, 5, 5, 2, 5, 4, 2, 0, 12, 12, 2, 3, 13, 7, 12, 9, 9, 5, 13, 12, 12, 5, 14, 12, 12, 12, 9, 9, 4, 4, 1, 12, 8, 14, 11, 5, 12, 2, 12, 9, 9, 2, 5, 12, 5, 10, 2, 4, 12, 12, 12, 0, 12, 11, 12, 12, 12, 9, 0, 3, 1, 12, 7, 2, 2, 2, 12, 12, 12, 12, 12, 8, 5, 12, 9, 4, 13, 11, 5, 12, 5, 12, 9, 4, 9, 1, 9, 11, 12, 14, 12, 3, 12, 9, 2, 12, 12, 11, 9, 9, 11, 9, 12, 2, 2, 12, 5, 5, 12, 12, 0, 12, 2, 0, 12, 12, 9, 5, 0, 2, 12, 1, 3, 12, 12, 3, 0, 2, 11, 5, 2, 11, 12, 11, 11, 2, 9, 5, 2, 5, 14, 5, 13, 12, 5, 9, 3, 12, 2, 2, 12, 13, 12, 14, 9, 4, 5, 2, 12, 12, 9, 13, 12, 5, 11, 2, 11, 12, 11, 1, 9, 8, 0, 12, 12, 11, 12, 12, 5, 4, 2, 11, 12, 12, 12, 12, 9, 12, 3, 9, 2, 12, 0, 12, 0, 4, 4, 9, 11, 11, 0, 3, 12, 12, 3, 3, 3, 11, 3, 12, 12, 11, 3, 7, 2, 5, 12, 11, 12, 12, 2, 0, 2, 11, 2, 5, 3, 12, 4, 12, 12, 11, 0, 0, 5, 5, 14, 12, 5, 4, 7, 3, 14, 5, 9, 12, 12, 5, 12, 12, 0, 10, 9, 2, 4, 11, 5, 12, 12, 0, 2, 11, 12, 11, 11, 13, 12, 12, 12, 9, 5, 11, 9, 9, 4, 12, 5, 0, 9, 12, 10, 12, 2, 5, 5, 12, 14, 5, 12, 0, 12, 12, 2, 5, 0, 14, 12, 0, 5, 13, 11, 2, 2, 2, 5, 13, 3, 12, 5, 10, 9, 14, 14, 9, 2, 11, 2, 12, 2, 12, 9, 12, 11, 8, 12, 12, 11, 5, 12, 12, 5, 2, 5, 5, 5, 7, 11, 2, 12, 4, 12, 2, 12, 0, 12, 4, 5, 9, 12, 12, 5, 3, 12, 2, 12, 2, 0, 12, 2, 0, 3, 9, 6, 12, 12, 3, 12, 1, 11, 5, 4, 2, 9, 2, 0, 12, 10, 5, 12, 9, 2, 13, 2, 12, 0, 1, 12, 2, 4, 9, 3, 5, 5, 11, 9, 12, 11, 0, 12, 12, 5, 4, 0, 12, 12, 11, 14, 8, 0, 12, 12, 11, 5, 13, 2, 13, 4, 12, 2, 12, 2, 11, 8, 4, 12, 12, 12, 5, 0, 12, 0, 12, 12, 0, 2, 3, 14, 9, 2, 2, 12, 2, 5, 5, 12, 2, 3, 5, 11, 9, 9, 3, 2, 11, 2, 5, 0, 0, 5, 0, 13, 1, 12, 2, 12, 12, 12, 2, 10, 4, 12, 12, 11, 5, 13, 9, 9, 9, 2, 2, 11, 12, 2, 11, 2, 0, 2, 11, 5, 12, 12, 12, 11, 0, 3, 12, 9, 10, 13, 9, 9, 0, 2, 12, 2, 5, 4, 12, 12, 12, 5, 5, 12, 2, 12, 4, 13, 0, 14, 12, 6, 3, 12, 12, 12, 5, 11, 0, 2, 11, 0, 12, 9, 12, 5, 12, 10, 12, 5, 9, 5, 12, 9, 9, 4, 12, 4, 12, 12, 11, 12, 5, 12, 10, 12, 0, 12, 12, 12, 0, 0, 12, 13, 12, 5, 12, 0, 1, 12, 5, 9, 2, 12, 5, 0, 12, 9, 9, 11, 12, 1, 12, 2, 13, 12, 11, 12, 5, 2, 14, 9, 11, 12, 12, 11, 12, 5, 13, 9, 4, 2, 11, 4, 12, 14, 5, 11, 14, 9, 4, 3, 12, 12, 11, 1, 2, 5, 3, 9, 12, 9, 11, 11, 12, 13, 4, 2, 4, 2, 2, 2, 10, 3, 9, 11, 4, 2, 8, 2, 10, 12, 1, 4, 14, 0, 4, 5, 3, 2, 5, 4, 12, 9, 5, 0, 5, 2, 11, 5, 11, 2, 9, 12, 11, 0, 12, 12, 3, 14, 5, 14, 2, 9, 5, 12, 9, 5, 9, 4, 3, 2, 12, 5, 1, 0, 0, 13, 12, 5, 4, 9, 12, 12, 3, 12, 3, 9, 4, 5, 11, 12, 11, 2, 11, 11, 12, 11, 9, 9, 9, 5, 5, 12, 9, 11, 9, 0, 2, 4, 12, 12, 4, 12, 12, 12, 5, 12, 12, 2, 3, 2, 12, 3, 14, 2, 0, 5, 12, 5, 9, 9, 9, 12, 9, 0, 12, 8, 5, 12, 2, 14, 3, 11, 12, 9, 11, 3, 9, 2, 14, 12, 11, 5, 0, 12, 2, 9, 5, 9, 2, 5, 11, 2, 2, 11, 12, 11, 4, 11, 9, 5, 11, 2, 11, 5, 9, 12, 12, 9, 12, 11, 12, 0, 5, 12, 14, 2, 9, 14, 2, 5, 3, 5, 0, 3, 12, 5, 5, 12, 11, 12, 12, 12, 12, 5, 13, 12, 12, 5, 6, 2, 11, 14, 12, 12, 9, 12, 5, 12, 5, 13, 11, 4, 8, 12, 2, 9, 10, 5, 11, 11, 5, 4, 2, 7, 2, 2, 13, 2, 2, 5, 4, 1, 2, 9, 4, 9, 11, 11, 12, 2, 9, 12, 12, 5, 0, 2, 2, 11, 2, 4, 4, 1, 12, 4, 11, 0, 9, 5, 3, 12, 12, 0, 5, 12, 2, 9, 12, 9, 12, 2, 9, 11, 12, 4, 4, 12, 3, 12, 0, 12, 14, 5, 12, 12, 9, 12, 4, 9, 5, 14, 9, 5, 9, 12, 12, 9, 0, 12, 5, 11, 2, 12, 12, 5, 11, 12, 12, 12, 0, 1, 11, 2, 14, 12, 9, 5, 7, 5, 5, 5, 13, 4, 12, 9, 12, 10, 0, 0, 12, 12, 12, 0, 13, 11, 2, 5, 5, 9, 2, 5, 5, 5, 4, 7, 12, 14, 10, 5, 12, 12, 5, 5, 0, 0, 12, 11, 11, 8, 5, 0, 11, 11, 12, 9, 3, 0, 2, 12, 2, 12, 5, 2, 0, 11, 9, 12, 14, 1, 5, 12, 3, 12, 12, 5, 2, 14, 12, 11, 2, 7, 4, 2, 11, 12, 2, 11, 2, 12, 3, 9, 12, 5, 0, 12, 12, 2, 5, 12, 13, 9, 12, 0, 5, 12, 12, 11, 11, 9, 5, 4, 11, 10, 4, 2, 4, 4, 3, 9, 3, 9, 11, 14, 9, 2, 12, 9, 5, 0, 5, 9, 0, 4, 2, 14, 5, 11, 12, 4, 0, 13, 7, 4, 11, 12, 3, 12, 9, 3, 5, 1, 9, 12, 9, 2, 10, 11, 10, 13, 5, 4, 2, 12, 9, 5, 12, 12, 0, 0, 13, 8, 9, 5, 2, 12, 0, 12, 5, 12, 12, 12, 2, 0, 3, 12, 5, 2, 12, 12, 0, 12, 5, 12, 10, 5, 12, 5, 12, 12, 11, 2, 12, 5, 0, 4, 2, 5, 3, 9, 12, 3, 12, 4, 12, 5, 12, 12, 12, 0, 14, 1, 5, 5, 12, 2, 0, 2, 0, 11, 2, 12, 5, 11, 3, 3, 4, 0, 5, 5, 5, 12, 5, 9, 5, 12, 13, 12, 2, 2, 11, 2, 9, 5, 4, 5, 5, 5, 0, 13, 14, 0, 12, 12, 5, 9, 12, 12, 12, 9, 0, 2, 12, 12, 12, 5, 9, 12, 12, 2, 2, 2, 12, 12, 2, 12, 11, 12, 9, 9, 1, 7, 11, 5, 0, 12, 0, 5, 12, 2, 12, 13, 5, 9, 5, 4, 5, 2, 2, 9, 11, 5, 3, 3, 12, 0, 12, 5, 5, 12, 11, 5, 5, 14, 12, 12, 2, 12, 5, 2, 1, 0, 12, 3, 14, 2, 12, 12, 5, 0, 2, 5, 12, 4, 5, 5, 0, 2, 3, 4, 9, 9, 12, 2, 0, 3, 0, 11, 9, 2, 9, 2, 12, 11, 12, 5, 12, 4, 4, 11, 2, 11, 12, 11, 0, 12, 12, 2, 11, 13, 12, 3, 8, 9, 11, 14, 13, 2, 2, 12, 13, 5, 9, 9, 0, 3, 11, 0, 4, 2, 12, 12, 12, 12, 12, 7, 5, 0, 2, 0, 9, 1, 4, 10, 4, 12, 4, 12, 12, 12, 11, 5, 5, 11, 0, 14, 9, 9, 4, 12, 12, 12, 3, 4, 13, 13, 1, 11, 12, 9, 7, 4, 14, 11, 9, 2, 12, 11, 12, 0, 9, 12, 5, 12, 13, 12, 2, 0, 12, 4, 11, 11, 12, 1, 0, 2, 12, 5, 12, 1, 12, 9, 3, 12, 2, 0, 9, 3, 12, 12, 5, 12, 4, 1, 9, 10, 2, 9, 12, 5, 5, 11, 12, 0, 3, 5, 12, 9, 11, 5, 9, 11, 3, 14, 5, 9, 12, 0, 8, 3, 5, 5, 5, 5, 12, 9, 9, 14, 14, 5, 13, 2, 2, 0, 12, 3, 12, 0, 11, 13, 11, 12, 5, 12, 2, 12, 12, 12, 12, 2, 12, 5, 9, 12, 11, 12, 11, 12, 11, 4, 3, 2, 3, 12, 9, 9, 9, 4, 12, 14, 5, 11, 2, 4, 14, 4, 3, 13, 12, 12, 12, 4, 12, 13, 0, 2, 9, 2, 9, 12, 4, 5, 9, 12, 3, 12, 0, 5, 12, 12, 9, 14, 2, 7, 12, 9, 12, 5, 8, 12, 12, 2, 2, 11, 2, 12, 12, 5, 12, 12, 3, 13, 12, 12, 2, 11, 14, 2, 4, 1, 2, 12, 9, 5, 12, 14, 14, 12, 11, 11, 4, 14, 2, 12, 5, 5, 11, 12, 0, 5, 4, 3, 11, 8, 11, 3, 2, 2, 0, 2, 4, 12, 12, 8, 5, 4, 12, 11, 11, 11, 5, 9, 0, 12, 12, 2, 3, 2, 12, 9, 12, 1, 8, 11, 11, 4, 5, 9, 12, 14, 14, 2, 5, 12, 9, 11, 4, 2, 5, 12, 12, 2, 4, 11, 2, 2, 0, 12, 2, 3, 12, 5, 2, 4, 7, 9, 3, 8, 12, 12, 2, 0, 0, 0, 12, 9, 5, 9, 2, 3, 9, 0, 0, 5, 7, 12, 5, 14, 2, 5, 5, 12, 2, 12, 12, 11, 12, 0, 2, 12, 4, 5, 12, 12, 9, 3, 9, 13, 5, 13, 5, 5, 12, 12, 3, 12, 9, 12, 11, 11, 5, 9, 12, 3, 12, 12, 9, 9, 5, 10, 12, 12, 0, 12, 12, 5, 12, 12, 9, 12, 12, 9, 11, 12, 12, 12, 0, 4, 9, 9, 4, 1, 12, 12, 12, 12, 12, 9, 9, 11, 3, 3, 12, 12, 3, 12, 12, 9, 12, 3, 0, 12, 3, 12, 0, 11, 12, 7, 2, 1, 12, 12, 2, 12, 9, 4, 12, 5, 11, 9, 4, 0, 9, 5, 3, 3, 14, 12, 11, 12, 2, 0, 12, 5, 4, 12, 5, 9, 12, 9, 5, 13, 12, 13, 9, 0, 0, 5, 5, 2, 12, 12, 5, 14, 4, 12, 4, 11, 0, 11, 2, 0, 5, 1, 12, 12, 2, 5, 4, 2, 0, 5, 12, 12, 9, 5, 5, 12, 9, 9, 4, 12, 0, 0, 12, 12, 12, 0, 12, 3, 12, 9, 2, 9, 4, 12, 11, 12, 2, 5, 0, 12, 12, 6, 9, 12, 3, 5, 2, 12, 9, 12, 4, 2, 12, 14, 1, 12, 12, 5, 5, 9, 12, 10, 12, 12, 5, 4, 12, 9, 12, 12, 9, 12, 5, 12, 11, 4, 9, 2, 2, 10, 11, 12, 12, 0, 2, 9, 5, 12, 4, 12, 3, 9, 12, 12, 13, 12, 9, 11, 5, 12, 12, 14, 2, 2, 9, 12, 12, 12, 14, 2, 2, 3, 12, 0, 14, 12, 9, 8, 2, 14, 2, 12, 12, 12, 4, 9, 11, 2, 12, 5, 8, 13, 13, 12, 13, 4, 12, 12, 5, 3, 13, 12, 9, 2, 12, 9, 9, 4, 12, 9, 4, 12, 12, 14, 14, 4, 9, 12, 2, 9, 12, 12, 10, 11, 5, 12, 8, 2, 11, 2, 5, 12, 4, 12, 0, 5, 12, 14, 4, 4, 5, 12, 2, 5, 2, 9, 2, 2, 14, 12, 3, 5, 12, 11, 3, 0, 11, 12, 5, 4, 12, 2, 9, 2, 0, 12, 4, 12, 12, 12, 12, 3, 13, 12, 11, 2, 12, 3, 12, 9, 13, 5, 5, 2, 10, 9, 2, 2, 5, 5, 14, 11, 9, 12, 12, 12, 1, 12, 2, 2, 10, 12, 11, 11, 2, 0, 2, 12, 2, 2, 5, 12, 2, 3, 11, 14, 12, 9, 1, 9, 0, 5, 11, 9, 11, 2, 12, 9, 12, 2, 0, 0, 2, 12, 2, 0, 2, 12, 11, 9, 11, 5, 11, 14, 13, 12, 12, 13, 1, 0, 12, 2, 2, 11, 12, 5, 11, 4, 12, 12, 9, 12, 5, 14, 1, 5, 12, 2, 12, 0, 6, 12, 9, 5, 9, 0, 3, 3, 11, 12, 2, 9, 2, 9, 4, 4, 12, 2, 10, 5, 0, 4, 5, 12, 9, 12, 5, 0, 3, 12, 12, 2, 9, 9, 12, 14, 12, 12, 5, 12, 12, 0, 5, 12, 12, 13, 3, 10, 14, 3, 11, 12, 2, 3, 12, 14, 11, 3, 2, 9, 3, 9, 0, 12, 3, 0, 12, 12, 5, 2, 2, 5, 12, 11, 9, 9, 11, 12, 11, 12, 2, 0, 0, 12, 12, 2, 0, 7, 5, 0, 11, 12, 13, 5, 9, 14, 8, 5, 5, 2, 14, 1, 12, 5, 0, 13, 12, 11, 11, 11, 2, 9, 12, 4, 3, 12, 5, 4, 13, 3, 9, 1, 4, 9, 12, 9, 2, 9, 12, 4, 5, 5, 3, 10, 5, 4, 12, 5, 12, 12, 12, 12, 2, 11, 12, 14, 12, 8, 0, 5, 9, 4, 9, 12, 5, 5, 2, 1, 3, 2, 5, 3, 5, 11, 12, 12, 5, 9, 4, 12, 12, 1, 11, 0, 12, 12, 11, 4, 11, 12, 5, 5, 12, 2, 5, 0, 12, 0, 8, 13, 5, 11, 5, 2, 2, 12, 5, 9, 12, 0, 12, 11, 14, 12, 12, 2, 5, 12, 12, 2, 2, 2, 9, 12, 3, 12, 3, 12, 5, 12, 0, 0, 2, 9, 2, 3, 12, 5, 12, 9, 1, 2, 9, 2, 9, 2, 12, 9, 2, 8, 11, 14, 1, 0, 12, 9, 12, 9, 13, 4, 3, 12, 11, 12, 11, 5, 2, 11, 11, 9, 12, 8, 14, 2, 5, 14, 12, 9, 12, 2, 12, 11, 2, 11, 12, 2, 9, 3, 12, 3, 12, 5, 3, 12, 9, 12, 4, 4, 2, 0, 12, 12, 12, 4, 14, 11, 14, 8, 11, 9, 12, 14, 7, 12, 5, 5, 3, 14, 14, 12, 2, 13, 14, 0, 13, 5, 9, 3, 5, 4, 12, 2, 2, 3, 5, 11, 1, 0, 14, 11, 9, 12, 8, 13, 9, 5, 4, 14, 12, 5, 5, 12, 12, 2, 12, 11, 12, 0, 12, 2, 5, 9, 5, 0, 2, 0, 2, 5, 12, 5, 12, 3, 6, 4, 2, 11, 11, 12, 4, 3, 12, 12, 12, 4, 12, 14, 0, 1, 5, 12, 0, 2, 5, 12, 5, 5, 9, 1, 13, 5, 12, 11, 12, 9, 12, 12, 3, 9, 8, 5, 2, 12, 1, 12, 12, 12, 0, 1, 5, 12, 2, 13, 3, 11, 5, 9, 12, 9, 5, 12, 2, 11, 2, 0, 0, 12, 12, 12, 9, 0, 8, 12, 2, 12, 11, 2, 12, 5, 12, 12, 5, 2, 0, 5, 12, 5, 12, 0, 0, 2, 10, 2, 2, 5, 11, 12, 9, 4, 2, 12, 1, 12, 0, 2, 3, 4, 5, 12, 12, 12, 12, 11, 11, 11, 2, 4, 9, 9, 0, 14, 11, 5, 2, 4, 3, 12, 9, 11, 11, 5, 2, 5, 4, 0, 9, 13, 5, 2, 8, 5, 0, 3, 12, 9, 9, 9, 12, 5, 13, 12, 3, 9, 9, 12, 3, 8, 9, 12, 3, 13, 5, 0, 12, 5, 13, 4, 4, 5, 5, 12, 2, 12, 1, 8, 3, 12, 10, 12, 0, 12, 9, 12, 5, 2, 9, 12, 12, 12, 2, 2, 14, 11, 12, 4, 11, 12, 12, 3, 11, 0, 5, 9, 9, 12, 12, 12, 5, 12, 11, 1, 3, 12, 12, 9, 2, 12, 2, 5, 12, 12, 2, 12, 5, 2, 13, 4, 5, 2, 2, 2, 9, 0, 11, 4, 12, 11, 9, 12, 12, 12, 9, 12, 2, 12, 2, 12, 2, 12, 12, 11, 12, 13, 2, 2, 4, 5, 12, 0, 11, 14, 9, 5, 11, 5, 2, 11, 2, 12, 12, 3, 2, 12, 3, 12, 12, 9, 3, 12, 12, 10, 9, 12, 13, 14, 12, 5, 14, 6, 5, 5, 3, 5, 13, 8, 1, 0, 4, 9, 0, 2, 5, 5, 12, 12, 12, 12, 5, 2, 2, 5, 12, 2, 12, 12, 12, 1, 11, 11, 2, 13, 14, 11, 12, 4, 5, 2, 9, 0, 4, 11, 0, 12, 0, 0, 12, 0, 11, 12, 4, 9, 1, 12, 0, 12, 9, 3, 0, 5, 0, 11, 12, 4, 4, 3, 2, 12, 2, 12, 13, 12, 4, 5, 11, 12, 12, 12, 5, 10, 12, 4, 12, 0, 9, 12, 0, 2, 5, 11, 4, 14, 11, 3, 11, 4, 11, 9, 1, 10, 12, 4, 12, 11, 12, 12, 5, 5, 0, 12, 5, 1, 10, 5, 4, 11, 9, 12, 11, 2, 2, 2, 9, 12, 14, 9, 14, 12, 0, 5, 9, 9, 5, 9, 14, 3, 9, 5, 9, 2, 12, 11, 12, 9, 9, 9, 5, 0, 12, 9, 14, 9, 5, 9, 5, 12, 11, 4, 12, 12, 12, 12, 5, 4, 0, 13, 9, 4, 12, 5, 11, 9, 11, 13, 2, 13, 10, 12, 2, 2, 12, 12, 12, 12, 4, 12, 12, 4, 4, 4, 12, 5, 5, 12, 11, 13, 9, 9, 5, 5, 11, 12, 9, 9, 4, 12, 3, 11, 14, 13, 12, 12, 1, 5, 11, 5, 12, 13, 12, 5, 2, 9, 12, 9, 12, 12, 4, 12, 12, 9, 11, 3, 0, 14, 12, 4, 12, 12, 14, 2, 0, 2, 9, 5, 12, 12, 12, 12, 0, 9, 12, 2, 12, 0, 4, 12, 12, 9, 12, 4, 12, 11, 9, 5, 12, 9, 5, 9, 12, 0, 11, 11, 12, 2, 4, 5, 12, 11, 3, 12, 5, 13, 14, 5, 12, 13, 4, 2, 12, 3, 2, 12, 0, 2, 9, 10, 12, 13, 5, 9, 2, 5, 3, 9, 2, 9, 12, 9, 4, 4, 11, 5, 3, 4, 12, 5, 5, 1, 1, 12, 2, 11, 3, 1, 12, 3, 5, 3, 9, 11, 2, 0, 12, 11, 12, 12, 4, 0, 7, 5, 12, 9, 5, 2, 2, 5, 10, 5, 12, 11, 10, 0, 2, 12, 5, 12, 11, 9, 4, 5, 11, 12, 3, 3, 14, 12, 4, 11, 12, 5, 0, 5, 12, 3, 0, 0, 12, 14, 5, 12, 9, 12, 0, 12, 0, 2, 5, 2, 9, 12, 9, 12, 2, 5, 0, 2, 5, 7, 2, 12, 9, 12, 13, 11, 12, 9, 5, 12, 5, 5, 1, 9, 2, 12, 0, 4, 12, 12, 5, 11, 4, 12, 12, 12, 9, 12, 12, 5, 2, 5, 12, 5, 12, 5, 8, 5, 11, 5, 8, 11, 0, 2, 12, 12, 10, 0, 2, 5, 5, 12, 5, 3, 2, 3, 5, 5, 12, 14, 11, 12, 2, 12, 5, 8, 12, 12, 2, 12, 11, 12, 12, 12, 8, 11, 12, 12, 4, 2, 14, 0, 12, 14, 12, 14, 5, 2, 9, 11, 12, 0, 2, 12, 5, 11, 5, 12, 4, 2, 12, 3, 1, 12, 12, 5, 13, 5, 12, 5, 5, 5, 12, 12, 4, 9, 2, 11, 5, 5, 5, 11, 0, 2, 14, 12, 12, 11, 9, 4, 2, 14, 12, 11, 12, 12, 12, 14, 14, 12, 12, 11, 12, 2, 9, 5, 2, 12, 4, 0, 3, 12, 12, 12, 5, 3, 12, 12, 12, 12, 9, 12, 12, 12, 2, 12, 5, 0, 12, 11, 4, 5, 12, 12, 11, 0, 4, 2, 2, 12, 9, 5, 2, 3, 9, 12, 0, 5, 13, 12, 1, 14, 9, 2, 12, 1, 12, 12, 12, 12, 2, 12, 2, 14, 12, 9, 9, 2, 9, 0, 3, 2, 12, 4, 9, 12, 5, 0, 2, 12, 3, 4, 12, 0, 12, 9, 12, 12, 8, 5, 12, 3, 2, 5, 9, 9, 12, 12, 14, 2, 11, 12, 11, 9, 12, 9, 11, 13, 2, 12, 14, 5, 5, 12, 12, 5, 12, 2, 11, 9, 5, 11, 2, 5, 11, 2, 14, 5, 10, 12, 12, 8, 0, 6, 12, 9, 12, 8, 11, 11, 12, 2, 13, 2, 2, 4, 11, 9, 2, 11, 14, 12, 2, 0, 8, 0, 10, 3, 12, 12, 14, 9, 9, 5, 13, 14, 12, 0, 1, 11, 9, 0, 0, 3, 9, 12, 8, 2, 12, 3, 12, 12, 4, 9, 12, 2, 2, 12, 5, 2, 5, 12, 0, 9, 12, 11, 12, 12, 9, 1, 12, 5, 9, 12, 2, 12, 2, 14, 12, 12, 5, 12, 12, 11, 2, 5, 12, 14, 2, 5, 2, 3, 12, 12, 10, 12, 5, 9, 9, 2, 4, 12, 12, 11, 2, 5, 5, 0, 13, 3, 12, 9, 11, 9, 12, 8, 11, 1, 13, 12, 5, 12, 9, 11, 2, 12, 12, 11, 4, 2, 9, 5, 5, 5, 12, 11, 12, 5, 9, 5, 2, 5, 13, 12, 12, 4, 5, 4, 2, 12, 4, 11, 12, 5, 2, 11, 12, 10, 12, 0, 9, 0, 9, 2, 5, 12, 12, 12, 12, 5, 11, 12, 11, 4, 3, 5, 12, 12, 5, 11, 12, 0, 9, 4, 12, 2, 5, 3, 3, 12, 11, 0, 12, 14, 11, 5, 11, 2, 12, 12, 9, 12, 2, 9, 5, 5, 0, 5, 0, 4, 5, 12, 5, 11, 4, 0, 11, 5, 9, 2, 12, 12, 3, 12, 0, 9, 11, 13, 5, 5, 2, 12, 4, 11, 0, 10, 5, 5, 11, 5, 12, 0, 12, 2, 0, 5, 0, 10, 2, 12, 13, 12, 5, 9, 3, 2, 5, 5, 14, 3, 2, 12, 12, 0, 12, 4, 1, 13, 12, 11, 9, 12, 12, 9, 2, 2, 3, 1, 0, 4, 12, 9, 2, 3, 5, 12, 12, 5, 4, 11, 14, 2, 2, 12, 12, 12, 12, 12, 12, 12, 12, 9, 5, 12, 4, 9, 12, 13, 2, 9, 4, 5, 2, 2, 13, 5, 5, 9, 3, 2, 14, 4, 11, 12, 5, 9, 11, 4, 2, 12, 11, 5, 9, 12, 11, 13, 4, 12, 2, 12, 2, 0, 11, 9, 12, 12, 12, 5, 2, 12, 14, 12, 5, 9, 9, 2, 5, 12, 0, 0, 0, 7, 0, 9, 9, 12, 13, 12, 3, 5, 4, 9, 13, 12, 12, 3, 2, 0, 5, 0, 12, 7, 9, 4, 12, 10, 5, 9, 12, 5, 3, 12, 12, 11, 5, 12, 12, 2, 2, 12, 12, 12, 2, 11, 14, 12, 0, 12, 10, 11, 12, 12, 12, 1, 5, 12, 9, 12, 11, 9, 14, 12, 12, 5, 2, 2, 3, 11, 12, 12, 0, 0, 5, 2, 4, 5, 5, 8, 1, 12, 9, 12, 12, 4, 12, 11, 2, 9, 11, 12, 12, 1, 12, 12, 12, 11, 12, 1, 5, 2, 9, 2, 12, 0, 5, 11, 12, 0, 12, 9, 9, 9, 12, 5, 12, 5, 9, 12, 0, 13, 9, 12, 12, 12, 11, 12, 13, 7, 4, 2, 5, 12, 12, 12, 9, 1, 0, 12, 5, 12, 2, 9, 0, 0, 0, 4, 2, 7, 4, 9, 2, 3, 5, 0, 12, 9, 12, 7, 12, 12, 12, 12, 9, 5, 3, 12, 12, 2, 5, 0, 12, 12, 11, 11, 2, 12, 2, 0, 12, 1, 5, 12, 3, 14, 5, 12, 0, 1, 12, 9, 0, 13, 3, 2, 12, 2, 12, 12, 12, 4, 2, 3, 12, 14, 1, 11, 5, 12, 12, 11, 2, 11, 12, 9, 12, 9, 5, 5, 0, 12, 12, 12, 9, 7, 12, 12, 3, 9, 5, 12, 11, 5, 5, 12, 12, 14, 12, 9, 11, 6, 12, 4, 5, 11, 12, 12, 1, 12, 12, 11, 11, 9, 5, 7, 12, 12, 4, 12, 2, 0, 12, 11, 0, 0, 11, 12, 11, 5, 12, 8, 5, 9, 2, 5, 2, 9, 2, 14, 12, 12, 12, 9, 13, 10, 13, 9, 5, 5, 0, 12, 12, 5, 12, 9, 12, 9, 2, 12, 9, 12, 11, 12, 0, 1, 11, 5, 4, 12, 11, 12, 5, 12, 13, 0, 1, 5, 11, 12, 5, 14, 6, 12, 7, 9, 9, 9, 9, 11, 2, 10, 2, 11, 14, 0, 5, 0, 12, 3, 2, 11, 12, 0, 12, 4, 3, 3, 12, 9, 3, 8, 9, 3, 5, 12, 12, 12, 12, 2, 9, 2, 8, 9, 5, 2, 3, 5, 9, 12, 11, 13, 13, 2, 12, 2, 12, 13, 12, 2, 13, 5, 9, 2, 9, 6, 0, 12, 14, 14, 8, 12, 9, 11, 12, 4, 7, 12, 12, 5, 0, 9, 2, 0, 12, 11, 5, 12, 11, 12, 12, 5, 2, 0, 2, 14, 13, 4, 5, 0, 11, 5, 0, 1, 11, 12, 11, 11, 12, 2, 5, 12, 12, 3, 13, 14, 11, 0, 13, 11, 0, 0, 2, 12, 10, 3, 12, 5, 12, 11, 0, 2, 5, 12, 2, 12, 3, 0, 2, 11, 12, 11, 3, 12, 5, 5, 11, 1, 0, 12, 3, 12, 8, 12, 5, 9, 12, 11, 13, 9, 12, 12, 0, 12, 5, 13, 9, 5, 11, 2, 12, 12, 12, 2, 9, 4, 5, 12, 12, 9, 9, 3, 11, 12, 9, 3, 9, 5, 13, 5, 2, 11, 12, 2, 12, 5, 12, 12, 12, 12, 2, 5, 2, 11, 9, 4, 12, 9, 1, 9, 11, 9, 4, 12, 12, 12, 5, 5, 12, 9, 9, 13, 5, 12, 9, 5, 2, 12, 5, 9, 5, 12, 11, 5, 12, 5, 2, 5, 4, 12, 12, 14, 5, 5, 12, 12, 12, 3, 12, 0, 12, 14, 5, 13, 14, 2, 9, 10, 5, 4, 9, 12, 12, 0, 4, 6, 2, 4, 12, 2, 2, 1, 1, 0, 12, 2, 4, 10, 2, 5, 12, 9, 12, 1, 9, 12, 5, 11, 5, 11, 11, 3, 8, 9, 11, 12, 3, 12, 9, 3, 0, 3, 12, 9, 12, 12, 0, 12, 9, 5, 12, 4, 4, 5, 5, 12, 11, 11, 0, 8, 2, 9, 12, 12, 11, 11, 5, 3, 12, 6, 9, 12, 13, 0, 0, 12, 11, 2, 12, 9, 9, 3, 12, 12, 14, 12, 5, 0, 7, 0, 9, 3, 12, 12, 12, 4, 9, 13, 5, 2, 12, 12, 4, 3, 2, 12, 0, 9, 12, 11, 4, 5, 2, 12, 12, 5, 11, 2, 9, 12, 1, 5, 4, 2, 12, 0, 3, 2, 12, 13, 12, 12, 12, 5, 9, 12, 12, 12, 5, 5, 12, 11, 4, 11, 1, 2, 1, 5, 12, 4, 9, 5, 2, 12, 9, 12, 0, 2, 0, 12, 12, 4, 9, 11, 10, 12, 13, 11, 2, 14, 0, 10, 9, 11, 14, 3, 12, 14, 12, 9, 3, 13, 12, 2, 2, 9, 10, 9, 13, 12, 12, 12, 2, 2, 11, 2, 12, 12, 2, 12, 2, 7, 3, 5, 9, 12, 11, 1, 11, 2, 2, 12, 12, 11, 11, 5, 12, 14, 12, 12, 12, 4, 5, 9, 4, 4, 5, 12, 11, 12, 5, 12, 13, 5, 9, 4, 2, 12, 12, 12, 0, 9, 12, 0, 11, 11, 5, 0, 5, 12, 2, 9, 12, 11, 9, 12, 9, 10, 3, 12, 12, 5, 13, 8, 12, 12, 12, 12, 2, 9, 0, 12, 9, 0, 9, 0, 12, 3, 12, 10, 2, 7, 9, 9, 10, 13, 12, 2, 12, 0, 2, 12, 14, 12, 0, 12, 3, 12, 3, 5, 14, 5, 10, 9, 12, 9, 10, 11, 12, 11, 12, 11, 12, 8, 12, 12, 2, 12, 5, 14, 2, 5, 2, 1, 2, 12, 12, 5, 9, 2, 12, 12, 12, 0, 2, 4, 11, 9, 11, 12, 14, 12, 2, 0, 12, 4, 12, 9, 9, 9, 12, 2, 12, 2, 13, 12, 11, 0, 4, 0, 0, 10, 13, 10, 5, 1, 2, 0, 12, 1, 12, 9, 12, 3, 12, 5, 0, 12, 12, 12, 9, 2, 2, 12, 12, 5, 12, 12, 9, 3, 0, 12, 1, 12, 7, 12, 7, 9, 2, 11, 2, 11, 12, 14, 11, 12, 2, 12, 0, 12, 12, 12, 2, 11, 5, 5, 3, 2, 5, 5, 14, 9, 12, 12, 11, 4, 3, 12, 12, 12, 12, 12, 5, 14, 4, 5, 5, 0, 2, 0, 11, 12, 5, 4, 12, 5, 12, 9, 12, 3, 12, 5, 2, 12, 2, 12, 12, 12, 0, 12, 2, 9, 11, 12, 9, 11, 12, 4, 4, 12, 12, 12, 2, 0, 14, 2, 9, 11, 12, 0, 2, 2, 12, 12, 12, 2, 12, 14, 12, 0, 12, 12, 3, 2, 0, 5, 4, 5, 4, 11, 5, 9, 2, 12, 5, 12, 5, 5, 3, 12, 2, 5, 14, 0, 12, 5, 11, 12, 4, 5, 0, 1, 8, 11, 13, 3, 2, 4, 0, 12, 9, 2, 9, 1, 12, 12, 12, 2, 5, 5, 11, 5, 4, 12, 11, 1, 11, 9, 5, 4, 0, 0, 2, 5, 12, 12, 9, 1, 3, 12, 3, 8, 12, 9, 11, 2, 5, 14, 3, 2, 9, 12, 12, 0, 12, 12, 12, 9, 3, 12, 12, 12, 11, 12, 2, 5, 9, 12, 5, 0, 5, 12, 11, 11, 12, 5, 0, 4, 0, 12, 9, 0, 5, 0, 12, 2, 12, 4, 5, 12, 3, 9, 2, 5, 0, 4, 0, 12, 0, 12, 10, 12, 9, 9, 0, 5, 5, 5, 9, 13, 9, 12, 4, 5, 2, 0, 12, 12, 8, 5, 12, 0, 2, 12, 12, 1, 12, 12, 9, 14, 3, 4, 0, 9, 5, 2, 5, 9, 12, 12, 2, 2, 9, 9, 2, 11, 11, 13, 12, 8, 12, 12, 12, 11, 12, 12, 0, 5, 11, 13, 9, 12, 12, 2, 12, 14, 11, 9, 12, 5, 12, 12, 14, 12, 12, 2, 11, 14, 0, 3, 4, 0, 5, 11, 12, 0, 4, 0, 2, 14, 11, 2, 14, 11, 9, 12, 14, 5, 11, 13, 12, 2, 11, 12, 9, 9, 9, 5, 5, 5, 12, 11, 14, 12, 11, 14, 12, 12, 5, 12, 9, 5, 12, 12, 11, 0, 9, 5, 9, 2, 11, 9, 9, 9, 5, 5, 12, 12, 0, 0, 12, 4, 12, 0, 9, 0, 12, 14, 12, 1, 5, 8, 9, 11, 13, 2, 2, 12, 11, 2, 12, 0, 9, 11, 2, 9, 3, 11, 9, 2, 1, 4, 11, 12, 5, 12, 0, 1, 12, 13, 0, 12, 12, 12, 12, 10, 2, 5, 5, 12, 12, 12, 9, 5, 12, 9, 5, 4, 2, 11, 12, 2, 11, 4, 12, 1, 9, 12, 3, 2, 2, 12, 4, 2, 3, 12, 4, 2, 12, 12, 1, 3, 11, 5, 9, 12, 12, 12, 11, 12, 0, 9, 11, 11, 2, 2, 9, 11, 12, 9, 11, 3, 12, 11, 12, 12, 12, 9, 12, 12, 0, 7, 12, 12, 14, 5, 2, 2, 9, 14, 11, 12, 12, 12, 9, 2, 5, 12, 3, 12, 12, 3, 2, 2, 12, 2, 12, 4, 12, 12, 4, 2, 12, 5, 3, 12, 12, 9, 5, 1, 12, 13, 9, 2, 5, 4, 11, 12, 1, 9, 9, 5, 2, 9, 2, 12, 0, 2, 0, 8, 11, 12, 5, 9, 12, 12, 2, 10, 9, 6, 5, 9, 12, 5, 12, 0, 12, 12, 12, 2, 0, 12, 2, 0, 5, 14, 11, 0, 0, 12, 3, 2, 9, 2, 9, 5, 8, 9, 5, 11, 12, 2, 12, 9, 9, 8, 4, 2, 12, 9, 2, 2, 9, 4, 2, 12, 0, 12, 12, 9, 8, 12, 12, 9, 11, 2, 12, 12, 13, 5, 12, 4, 3, 12, 12, 0, 12, 0, 11, 12, 1, 9, 2, 12, 9, 5, 1, 12, 12, 9, 12, 11, 0, 0, 11, 11, 4, 13, 0, 12, 5, 0, 2, 3, 12, 9, 3, 2, 0, 9, 2, 2, 0, 12, 9, 12, 8, 5, 4, 9, 13, 9, 14, 12, 2, 4, 9, 2, 9, 4, 12, 13, 14, 12, 12, 12, 12, 9, 5, 9, 12, 11, 2, 2, 9, 5, 9, 11, 12, 0, 0, 12, 13, 5, 12, 8, 12, 12, 0, 12, 5, 13, 9, 11, 12, 2, 12, 5, 12, 0, 12, 12, 3, 11, 4, 3, 10, 5, 9, 13, 12, 11, 11, 12, 3, 9, 0, 4, 4, 3, 11, 7, 12, 13, 2, 12, 11, 11, 12, 3, 2, 4, 2, 12, 12, 0, 11, 11, 1, 5, 12, 2, 0, 13, 11, 12, 9, 5, 12, 9, 10, 9, 0, 5, 14, 1, 0, 12, 9, 3, 3, 2, 4, 11, 0, 5, 2, 12, 9, 2, 3, 0, 3, 12, 9, 12, 11, 5, 12, 12, 12, 11, 11, 5, 12, 11, 2, 3, 2, 12, 12, 12, 5, 3, 12, 2, 11, 5, 12, 10, 0, 2, 13, 5, 12, 12, 2, 11, 3, 6, 4, 12, 5, 12, 0, 0, 3, 14, 12, 3, 13, 3, 0, 9, 11, 9, 12, 0, 12, 14, 12, 2, 2, 12, 14, 12, 12, 5, 5, 12, 0, 3, 2, 12, 1, 12, 4, 9, 0, 2, 0, 13, 9, 2, 12, 1, 12, 12, 13, 2, 11, 4, 12, 12, 12, 0, 12, 11, 12, 12, 2, 12, 12, 14, 12, 10, 0, 2, 4, 12, 12, 9, 12, 9, 12, 12, 9, 5, 12, 11, 4, 2, 9, 5, 11, 5, 2, 12, 9, 11, 11, 12, 3, 14, 0, 12, 12, 12, 12, 2, 12, 4, 5, 4, 0, 14, 9, 13, 12, 5, 3, 8, 3, 2, 2, 9, 5, 0, 12, 12, 4, 5, 11, 0, 12, 14, 3, 1, 11, 2, 13, 12, 5, 11, 5, 13, 2, 12, 7, 12, 11, 1, 2, 3, 12, 13, 12, 10, 2, 12, 0, 9, 5, 14, 4, 12, 11, 5, 0, 9, 2, 10, 11, 2, 9, 12, 0, 12, 9, 12, 9, 4, 11, 1, 2, 5, 12, 9, 11, 12, 12, 2, 0, 13, 0, 0, 9, 4, 5, 8, 11, 0, 5, 12, 0, 2, 11, 3, 12, 2, 12, 5, 2, 12, 13, 9, 12, 2, 12, 14, 11, 12, 12, 9, 11, 11, 0, 6, 2, 1, 12, 11, 11, 12, 2, 11, 13, 0, 2, 11, 12, 0, 12, 9, 12, 12, 12, 5, 10, 9, 2, 12, 11, 12, 12, 0, 13, 2, 12, 5, 12, 12, 12, 2, 10, 13, 5, 9, 5, 0, 2, 5, 12, 12, 2, 12, 12, 12, 4, 12, 11, 3, 5, 12, 12, 12, 7, 11, 12, 12, 3, 12, 0, 12, 5, 2, 5, 4, 12, 4, 2, 5, 12, 12, 12, 9, 5, 0, 5, 3, 2, 12, 12, 5, 9, 12, 12, 3, 5, 11, 4, 11, 11, 2, 11, 1, 9, 13, 12, 0, 12, 2, 2, 2, 0, 5, 12, 12, 2, 9, 13, 12, 9, 5, 12, 13, 12, 11, 5, 12, 0, 12, 0, 12, 4, 14, 5, 9, 3, 12, 13, 2, 1, 12, 2, 0, 12, 11, 5, 14, 14, 12, 1, 2, 5, 12, 12, 11, 2, 12, 4, 4, 11, 4, 14, 12, 9, 0, 12, 9, 13, 12, 4, 5, 10, 12, 11, 5, 9, 12, 5, 2, 9, 12, 10, 2, 11, 12, 9, 9, 5, 8, 4, 12, 11, 12, 12, 0, 12, 12, 4, 4, 12, 13, 2, 0, 5, 12, 9, 2, 2, 9, 11, 2, 12, 12, 12, 9, 11, 12, 10, 2, 11, 12, 2, 10, 12, 11, 0, 0, 9, 4, 5, 4, 5, 0, 4, 9, 5, 12, 12, 3, 2, 12, 0, 5, 13, 9, 12, 3, 5, 0, 2, 12, 4, 12, 10, 2, 5, 11, 5, 0, 3, 5, 11, 3, 14, 5, 0, 12, 12, 12, 12, 2, 4, 9, 5, 12, 9, 11, 11, 2, 7, 1, 4, 12, 5, 3, 4, 11, 9, 2, 2, 11, 5, 14, 5, 11, 1, 12, 12, 7, 2, 2, 14, 11, 14, 2, 12, 14, 11, 1, 9, 11, 9, 9, 12, 12, 9, 5, 9, 5, 5, 13, 11, 9, 9, 11, 9, 12, 9, 11, 12, 5, 9, 12, 12, 12, 3, 0, 12, 14, 12, 0, 9, 12, 12, 12, 14, 5, 11, 12, 0, 12, 0, 2, 11, 12, 0, 2, 9, 2, 12, 0, 12, 5, 11, 2, 11, 11, 9, 12, 11, 3, 12, 9, 12, 12, 11, 5, 2, 12, 12, 0, 3, 5, 11, 5, 5, 5, 0, 12, 8, 2, 12, 0, 9, 9, 12, 12, 12, 5, 5, 12, 12, 11, 11, 0, 4, 2, 8, 12, 1, 12, 12, 12, 12, 4, 11, 12, 3, 3, 1, 3, 5, 0, 2, 12, 12, 12, 3, 12, 2, 9, 7, 12, 12, 9, 9, 2, 12, 9, 12, 2, 12, 0, 3, 12, 11, 11, 12, 12, 7, 5, 12, 12, 9, 7, 2, 8, 13, 2, 12, 1, 0, 12, 5, 12, 12, 12, 12, 12, 13, 10, 2, 14, 8, 0, 2, 12, 12, 9, 9, 11, 12, 11, 0, 12, 11, 10, 5, 11, 12, 9, 2, 3, 2, 12, 0, 14, 9, 0, 5, 4, 4, 12, 3, 0, 9, 12, 11, 0, 11, 12, 12, 12, 12, 12, 12, 5, 14, 12, 12, 12, 11, 14, 12, 2, 13, 14, 14, 13, 0, 9, 12, 12, 2, 12, 7, 12, 5, 12, 9, 11, 12, 5, 9, 9, 5, 0, 1, 11, 11, 2, 2, 12, 14, 12, 9, 4, 11, 12, 7, 12, 0, 12, 12, 5, 9, 5, 3, 12, 12, 0, 14, 4, 9, 10, 12, 9, 12, 9, 12, 0, 9, 9, 4, 13, 3, 0, 12, 5, 12, 2, 11, 0, 5, 12, 2, 0, 9, 12, 14, 11, 4, 11, 2, 3, 5, 12, 10, 12, 5, 9, 12, 0, 11, 12, 7, 5, 5, 0, 5, 0, 3, 9, 12, 9, 2, 11, 5, 2, 11, 12, 9, 2, 4, 12, 12, 2, 5, 5, 12, 9, 3, 9, 13, 9, 5, 11, 0, 9, 12, 12, 0, 9, 4, 12, 4, 11, 3, 12, 2, 13, 13, 3, 9, 9, 11, 13, 5, 4, 3, 2, 11, 0, 12, 13, 13, 12, 2, 11, 4, 12, 11, 2, 5, 2, 7, 5, 2, 12, 3, 12, 12, 2, 12, 12, 11, 12, 3, 12, 12, 2, 7, 1, 12, 10, 12, 11, 0, 0, 12, 13, 5, 2, 5, 4, 3, 12, 2, 11, 9, 11, 12, 5, 7, 3, 12, 11, 12, 2, 12, 3, 12, 4, 11, 11, 4, 12, 2, 0, 12, 1, 11, 5, 11, 12, 5, 12, 12, 5, 12, 12, 12, 5, 12, 11, 14, 12, 11, 9, 11, 5, 3, 4, 1, 11, 12, 11, 14, 4, 2, 3, 12, 0, 5, 5, 2, 12, 9, 5, 9, 11, 13, 12, 5, 11, 0, 5, 11, 9, 13, 9, 12, 11, 0, 2, 5, 1, 4, 4, 12, 12, 9, 5, 2, 12, 2, 5, 11, 9, 2, 0, 11, 12, 12, 12, 7, 9, 12, 12, 12, 11, 2, 4, 12, 4, 0, 5, 3, 11, 11, 4, 4, 5, 0, 12, 12, 11, 11, 2, 1, 0, 11, 12, 9, 12, 3, 5, 11, 2, 13, 5, 5, 9, 9, 5, 0, 2, 11, 11, 9, 4, 0, 12, 7, 7, 2, 0, 5, 9, 11, 13, 9, 13, 12, 12, 5, 12, 2, 12, 2, 2, 12, 12, 11, 5, 9, 14, 7, 12, 5, 0, 12, 2, 11, 9, 5, 2, 3, 0, 0, 12, 2, 12, 12, 5, 4, 5, 12, 2, 0, 2, 0, 12, 9, 4, 2, 4, 11, 13, 12, 8, 11, 12, 3, 5, 2, 3, 4, 4, 12, 3, 14, 0, 5, 5, 0, 5, 11, 2, 9, 12, 12, 14, 12, 0, 11, 11, 4, 2, 2, 5, 9, 1, 12, 12, 12, 9, 11, 12, 12, 12, 0, 5, 12, 12, 0, 4, 12, 11, 11, 9, 2, 12, 12, 11, 5, 1, 4, 11, 12, 12, 9, 12, 12, 12, 0, 12, 12, 12, 12, 11, 9, 3, 12, 9, 0, 4, 9, 3, 12, 10, 11, 2, 12, 12, 5, 9, 9, 9, 11, 13, 12, 14, 7, 11, 12, 9, 3, 2, 11, 9, 11, 5, 12, 4, 12, 9, 12, 9, 2, 0, 12, 5, 0, 5, 3, 13, 12, 5, 3, 12, 2, 12, 11, 3, 12, 4, 9, 4, 1, 4, 2, 5, 12, 4, 9, 7, 9, 4, 9, 12, 12, 2, 4, 5, 12, 9, 14, 12, 11, 4, 12, 12, 3, 2, 12, 12, 12, 12, 3, 11, 12, 12, 2, 12, 12, 10, 12, 12, 0, 12, 0, 3, 11, 2, 11, 5, 11, 0, 8, 1, 10, 12, 7, 5, 1, 9, 7, 12, 11, 12, 5, 14, 12, 9, 11, 14, 12, 5, 12, 9, 5, 12, 12, 12, 0, 2, 0, 12, 11, 11, 14, 2, 0, 9, 12, 4, 11, 9, 3, 3, 12, 12, 11, 3, 11, 1, 12, 8, 12, 2, 2, 13, 12, 12, 11, 12, 12, 5, 11, 11, 12, 9, 2, 3, 9, 0, 12, 12, 10, 2, 5, 5, 3, 9, 5, 0, 4, 5, 5, 12, 5, 3, 5, 12, 13, 12, 9, 0, 5, 12, 11, 0, 10, 2, 5, 11, 2, 3, 12, 10, 3, 5, 14, 12, 1, 14, 2, 9, 12, 2, 12, 3, 2, 12, 12, 2, 0, 0, 3, 2, 2, 12, 5, 9, 2, 9, 8, 1, 9, 0, 12, 2, 5, 9, 12, 3, 5, 14, 1, 12, 5, 5, 9, 12, 13, 12, 10, 11, 12, 11, 9, 9, 3, 12, 12, 3, 5, 5, 2, 12, 11, 12, 12, 5, 11, 12, 9, 12, 5, 2, 2, 8, 12, 5, 9, 5, 14, 5, 0, 4, 11, 2, 5, 2, 2, 5, 3, 11, 5, 0, 3, 9, 4, 4, 5, 5, 2, 9, 2, 12, 5, 9, 2, 12, 12, 12, 12, 2, 12, 9, 5, 12, 12, 12, 12, 7, 11, 5, 3, 3, 12, 12, 4, 12, 5, 5, 2, 10, 12, 12, 0, 3, 11, 0, 11, 11, 11, 12, 2, 2, 2, 4, 0, 12, 14, 11, 11, 5, 5, 4, 0, 12, 5, 13, 5, 12, 11, 12, 2, 8, 6, 4, 2, 9, 12, 9, 5, 11, 11, 11, 5, 12, 5, 2, 1, 0, 12, 12, 5, 5, 9, 8, 12, 9, 9, 3, 5, 5, 5, 3, 9, 5, 9, 9, 13, 5, 11, 3, 10, 2, 14, 12, 12, 12, 12, 5, 2, 12, 12, 12, 5, 11, 0, 2, 12, 12, 3, 9, 5, 12, 5, 3, 12, 12, 5, 0, 9, 11, 9, 12, 2, 12, 12, 12, 12, 4, 5, 8, 12, 5, 12, 2, 10, 4, 12, 9, 12, 1, 4, 5, 5, 9, 2, 2, 12, 12, 5, 2, 12, 8, 12, 13, 2, 5, 12, 2, 12, 2, 5, 3, 8, 1, 9, 12, 4, 2, 9, 5, 11, 2, 1, 12, 12, 12, 0, 12, 2, 12, 13, 5, 11, 2, 3, 9, 9, 11, 5, 7, 11, 5, 11, 2, 5, 9, 1, 5, 9, 2, 13, 12, 11, 2, 12, 3, 11, 12, 5, 11, 10, 12, 10, 12, 9, 12, 11, 12, 2, 3, 0, 0, 14, 12, 5, 4, 0, 5, 14, 12, 12, 0, 5, 0, 9, 9, 9, 1, 4, 12, 8, 5, 9, 12, 0, 2, 11, 11, 0, 2, 12, 4, 3, 5, 13, 12, 9, 12, 4, 12, 9, 12, 4, 12, 12, 3, 11, 5, 5, 2, 9, 4, 12, 7, 12, 12, 9, 5, 12, 12, 2, 5, 9, 3, 0, 4, 2, 9, 12, 12, 12, 12, 12, 12, 5, 3, 12, 14, 14, 5, 5, 3, 5, 9, 10, 12, 4, 2, 9, 0, 9, 11, 9, 4, 2, 1, 12, 2, 0, 12, 5, 3, 11, 3, 12, 4, 9, 5, 1, 9, 3, 5, 2, 13, 0, 9, 5, 12, 13, 0, 12, 11, 10, 0, 12, 5, 12, 11, 0, 0, 12, 0, 12, 2, 12, 13, 12, 2, 14, 4, 11, 3, 12, 5, 5, 3, 12, 12, 12, 5, 5, 7, 5, 2, 13, 9, 0, 9, 0, 12, 12, 9, 3, 12, 5, 4, 9, 0, 5, 2, 5, 12, 12, 12, 8, 12, 0, 12, 12, 9, 12, 5, 5, 12, 11, 1, 0, 9, 9, 5, 12, 0, 2, 9, 3, 12, 2, 9, 12, 2, 9, 9, 4, 12, 12, 2, 2, 11, 0, 5, 11, 14, 12, 2, 11, 9, 5, 3, 9, 12, 9, 4, 12, 12, 5, 11, 2, 3, 12, 12, 2, 14, 4, 12, 9, 5, 11, 11, 9, 11, 11, 12, 5, 5, 12, 5, 11, 9, 5, 12, 5, 3, 3, 12, 9, 12, 12, 9, 12, 9, 14, 2, 9, 4, 5, 1, 12, 12, 6, 0, 12, 3, 9, 12, 4, 11, 5, 14, 9, 9, 4, 12, 12, 12, 14, 14, 9, 11, 2, 12, 12, 9, 4, 11, 12, 11, 4, 12, 2, 4, 11, 11, 3, 12, 2, 1, 11, 0, 12, 12, 2, 12, 12, 2, 12, 0, 4, 12, 12, 12, 5, 11, 9, 12, 13, 12, 11, 2, 11, 12, 12, 0, 4, 12, 12, 5, 5, 12, 4, 5, 12, 11, 0, 12, 3, 0, 0, 11, 2, 2, 2, 0, 12, 9, 3, 5, 11, 9, 1, 5, 12, 12, 12, 0, 12, 5, 12, 5, 4, 9, 2, 12, 2, 14, 12, 5, 12, 12, 9, 9, 3, 14, 12, 12, 8, 9, 12, 11, 9, 12, 2, 10, 5, 11, 5, 12, 3, 2, 2, 7, 12, 2, 5, 11, 0, 2, 3, 9, 3, 11, 4, 0, 0, 12, 2, 2, 5, 14, 3, 5, 2, 11, 9, 12, 11, 12, 11, 5, 12, 5, 5, 1, 2, 12, 1, 12, 2, 2, 12, 13, 5, 5, 4, 5, 2, 12, 11, 0, 13, 0, 4, 12, 12, 0, 5, 11, 13, 4, 4, 5, 12, 4, 2, 4, 9, 10, 12, 11, 7, 2, 8, 5, 14, 2, 4, 12, 12, 2, 0, 12, 12, 12, 10, 7, 12, 12, 0, 5, 11, 12, 2, 13, 12, 9, 12, 4, 10, 9, 9, 5, 5, 11, 2, 2, 5, 2, 5, 11, 12, 11, 5, 5, 9, 12, 12, 0, 5, 12, 4, 14, 0, 12, 11, 5, 12, 11, 5, 2, 4, 5, 2, 14, 9, 12, 11, 12, 10, 12, 12, 2, 2, 9, 4, 2, 9, 12, 12, 0, 3, 12, 5, 0, 5, 9, 7, 3, 11, 0, 12, 9, 12, 12, 2, 1, 1, 12, 4, 5, 9, 9, 2, 12, 9, 0, 2, 12, 12, 9, 10, 12, 2, 5, 5, 12, 0, 5, 4, 12, 2, 11, 12, 11, 9, 12, 2, 12, 12, 3, 5, 6, 11, 12, 5, 12, 10, 2, 2, 9, 0, 1, 12, 11, 12, 5, 12, 4, 2, 11, 9, 14, 14, 8, 12, 5, 12, 0, 12, 0, 11, 12, 12, 12, 14, 2, 9, 9, 5, 12, 5, 11, 5, 12, 4, 0, 1, 3, 3, 2, 3, 12, 2, 12, 12, 2, 5, 9, 12, 9, 12, 11, 0, 0, 11, 4, 9, 12, 5, 12, 12, 2, 4, 11, 3, 11, 12, 5, 12, 5, 12, 9, 9, 9, 5, 2, 0, 12, 13, 11, 3, 9, 5, 7, 11, 14, 0, 14, 1, 0, 11, 11, 12, 12, 12, 12, 9, 4, 12, 5, 11, 7, 11, 11, 1, 5, 11, 2, 0, 2, 0, 1, 5, 12, 12, 5, 12, 11, 12, 14, 12, 2, 14, 4, 0, 2, 0, 12, 2, 3, 0, 2, 11, 12, 0, 11, 12, 12, 0, 4, 2, 12, 12, 12, 12, 12, 0, 9, 12, 9, 5, 12, 12, 3, 9, 12, 0, 4, 5, 2, 3, 12, 3, 3, 2, 12, 13, 9, 12, 12, 11, 12, 0, 5, 2, 2, 12, 12, 5, 5, 12, 12, 10, 5, 2, 12, 12, 12, 0, 8, 0, 14, 1, 5, 5, 12, 5, 5, 9, 12, 0, 9, 0, 9, 2, 12, 12, 12, 11, 0, 12, 12, 9, 12, 2, 11, 4, 5, 12, 9, 5, 12, 2, 9, 12, 5, 12, 12, 12, 5, 0, 2, 3, 7, 9, 12, 12, 0, 12, 9, 14, 11, 11, 11, 8, 3, 12, 5, 14, 11, 4, 0, 12, 14, 12, 7, 11, 9, 12, 4, 5, 12, 12, 12, 12, 12, 12, 0, 12, 11, 5, 12, 12, 12, 13, 5, 11, 11, 12, 3, 0, 12, 5, 12, 5, 0, 4, 9, 13, 12, 1, 12, 2, 9, 4, 12, 2, 12, 9, 5, 5, 2, 9, 10, 0, 12, 12, 12, 10, 2, 11, 11, 12, 5, 9, 12, 12, 13, 12, 12, 5, 0, 12, 5, 3, 9, 14, 9, 12, 13, 12, 9, 0, 9, 12, 12, 14, 12, 12, 2, 12, 11, 2, 12, 12, 11, 11, 12, 12, 2, 5, 12, 3, 14, 11, 0, 9, 5, 12, 3, 3, 9, 12, 9, 9, 11, 4, 11, 6, 5, 12, 11, 5, 5, 12, 2, 12, 12, 3, 2, 2, 4, 12, 7, 0, 12, 5, 9, 0, 11, 0, 11, 12, 0, 12, 5, 2, 12, 12, 12, 0, 12, 1, 2, 3, 12, 13, 5, 12, 2, 5, 12, 9, 4, 12, 12, 12, 12, 12, 11, 0, 3, 3, 0, 6, 5, 13, 12, 4, 11, 11, 4, 12, 2, 12, 9, 6, 0, 12, 12, 5, 11, 0, 5, 12, 5, 12, 12, 4, 12, 12, 10, 2, 2, 14, 12, 12, 1, 0, 5, 0, 9, 9, 10, 11, 12, 12, 9, 12, 9, 12, 11, 0, 5, 12, 13, 8, 10, 12, 0, 2, 9, 2, 3, 12, 9, 12, 5, 11, 1, 12, 11, 11, 9, 9, 3, 2, 2, 12, 0, 1, 11, 5, 0, 2, 2, 2, 9, 11, 5, 1, 2, 4, 3, 5, 2, 4, 9, 0, 5, 12, 4, 3, 14, 2, 2, 12, 5, 12, 2, 0, 5, 9, 3, 12, 11, 4, 0, 11, 4, 8, 0, 4, 9, 12, 12, 5, 11, 11, 12, 0, 7, 11, 4, 5, 12, 4, 11, 3, 11, 12, 12, 1, 12, 2, 14, 12, 12, 12, 14, 3, 12, 9, 5, 12, 11, 5, 12, 1, 2, 10, 12, 9, 9, 5, 0, 9, 12, 11, 5, 9, 12, 11, 12, 12, 2, 12, 12, 5, 11, 14, 7, 8, 11, 12, 11, 2, 12, 0, 0, 11, 12, 5, 12, 11, 8, 2, 12, 4, 0, 0, 2, 0, 3, 4, 4, 3, 9, 9, 12, 3, 12, 3, 12, 10, 2, 5, 5, 0, 12, 12, 5, 4, 11, 12, 12, 12, 11, 0, 2, 5, 5, 5, 2, 2, 12, 12, 14, 2, 12, 11, 12, 2, 0, 5, 2, 3, 4, 12, 4, 9, 12, 11, 12, 7, 11, 9, 9, 4, 12, 12, 12, 12, 14, 2, 12, 12, 9, 12, 0, 11, 12, 12, 12, 4, 12, 10, 3, 12, 12, 13, 12, 14, 9, 3, 0, 5, 12, 5, 2, 11, 12, 2, 2, 5, 12, 5, 12, 2, 3, 2, 13, 5, 14, 12, 9, 11, 5, 12, 11, 0, 12, 3, 4, 4, 12, 2, 0, 1, 11, 9, 7, 12, 12, 12, 12, 11, 2, 12, 5, 13, 14, 5, 12, 5, 14, 5, 4, 2, 12, 0, 2, 14, 12, 14, 5, 2, 0, 2, 10, 1, 12, 12, 11, 12, 12, 12, 12, 2, 12, 5, 3, 5, 14, 12, 5, 12, 9, 12, 2, 2, 13, 2, 12, 13, 2, 5, 2, 12, 12, 8, 9, 13, 9, 12, 3, 5, 4, 12, 12, 0, 3, 2, 0, 11, 12, 8, 12, 14, 12, 12, 9, 12, 0, 11, 9, 5, 2, 12, 11, 5, 9, 2, 9, 12, 12, 3, 5, 13, 4, 8, 11, 5, 5, 12, 0, 12, 11, 12, 11, 5, 5, 12, 2, 2, 12, 12, 9, 0, 4, 9, 12, 4, 0, 12, 2, 11, 3, 10, 2, 5, 12, 0, 12, 12, 12, 12, 12, 3, 2, 4, 9, 12, 9, 2, 2, 11, 12, 10, 12, 12, 14, 9, 12, 4, 12, 12, 12, 3, 9, 12, 4, 13, 5, 2, 13, 0, 4, 12, 12, 12, 5, 5, 11, 3, 12, 5, 9, 11, 5, 0, 13, 12, 3, 12, 12, 5, 2, 5, 13, 14, 2, 0, 14, 9, 14, 0, 12, 12, 4, 0, 0, 2, 12, 0, 14, 12, 12, 4, 12, 12, 11, 4, 5, 0, 12, 3, 0, 14, 1, 3, 2, 12, 2, 12, 12, 12, 0, 0, 12, 13, 2, 12, 9, 9, 5, 9, 4, 11, 12, 2, 2, 9, 12, 9, 12, 5, 11, 12, 12, 12, 3, 12, 13, 3, 3, 13, 5, 1, 10, 0, 4, 4, 2, 13, 3, 14, 12, 9, 12, 13, 9, 0, 9, 12, 2, 3, 12, 4, 12, 14, 12, 12, 5, 11, 2, 11, 0, 9, 12, 12, 2, 12, 5, 2, 11, 2, 10, 0, 0, 1, 2, 12, 3, 12, 11, 11, 12, 12, 12, 2, 5, 0, 5, 5, 2, 14, 14, 12, 9, 11, 3, 12, 14, 5, 2, 5, 13, 9, 13, 9, 1, 12, 12, 1, 4, 10, 5, 12, 0, 3, 5, 14, 8, 9, 1, 9, 0, 12, 12, 12, 11, 9, 12, 2, 4, 2, 12, 2, 9, 2, 1, 12, 3, 9, 11, 12, 2, 4, 12, 11, 12, 9, 9, 2, 12, 2, 5, 3, 12, 11, 2, 9, 11, 4, 4, 2, 12, 12, 11, 12, 13, 12, 12, 9, 0, 12, 12, 12, 14, 12, 11, 12, 9, 12, 3, 12, 9, 3, 12, 0, 5, 12, 2, 9, 0, 0, 12, 9, 9, 12, 0, 14, 11, 5, 13, 11, 12, 2, 0, 12, 10, 0, 12, 2, 11, 8, 10, 5, 2, 2, 8, 14, 9, 3, 14, 12, 2, 12, 3, 2, 5, 12, 4, 5, 12, 0, 14, 2, 5, 3, 12, 13, 12, 14, 2, 8, 12, 4, 12, 11, 5, 12, 5, 9, 12, 9, 5, 12, 11, 5, 0, 14, 2, 12, 9, 5, 13, 11, 12, 4, 11, 3, 9, 0, 3, 12, 2, 9, 12, 1, 0, 12, 0, 5, 5, 5, 5, 12, 2, 3, 4, 12, 5, 12, 0, 11, 12, 11, 12, 12, 9, 5, 2, 9, 12, 10, 12, 5, 0, 13, 12, 9, 11, 4, 5, 9, 0, 0, 2, 2, 3, 9, 4, 12, 11, 11, 12, 4, 11, 2, 13, 13, 5, 12, 11, 2, 2, 4, 0, 5, 5, 11, 12, 12, 5, 5, 12, 12, 11, 5, 11, 1, 9, 9, 12, 5, 14, 2, 9, 12, 3, 12, 9, 2, 13, 12, 2, 3, 9, 12, 13, 0, 3, 12, 10, 5, 5, 12, 12, 3, 8, 12, 1, 12, 12, 9, 12, 12, 1, 12, 11, 11, 0, 12, 3, 11, 0, 12, 12, 13, 12, 5, 12, 9, 8, 12, 0, 3, 11, 0, 0, 12, 5, 11, 11, 7, 12, 12, 0, 11, 5, 13, 8, 1, 2, 11, 11, 3, 12, 12, 12, 5, 11, 5, 11, 2, 3, 12, 10, 5, 3, 3, 14, 12, 11, 12, 0, 12, 3, 4, 12, 4, 12, 2, 9, 5, 5, 12, 5, 1, 12, 14, 9, 12, 12, 4, 12, 4, 9, 9, 4, 8, 9, 2, 12, 5, 12, 4, 4, 11, 12, 12, 0, 2, 12, 9, 3, 12, 5, 12, 5, 12, 14, 12, 12, 12, 11, 12, 11, 2, 4, 0, 14, 12, 11, 12, 12, 5, 2, 3, 2, 2, 2, 12, 3, 2, 0, 3, 12, 0, 12, 9, 12, 12, 9, 12, 0, 12, 2, 14, 11, 5, 12, 5, 12, 9, 12, 12, 12, 9, 12, 9, 9, 1, 2, 12, 12, 9, 12, 2, 12, 5, 3, 13, 2, 12, 11, 9, 12, 0, 9, 9, 11, 9, 12, 12, 0, 9, 2, 12, 2, 11, 5, 8, 4, 3, 11, 9, 0, 12, 11, 7, 12, 12, 12, 12, 5, 9, 12, 5, 11, 9, 14, 13, 5, 12, 2, 9, 5, 12, 0, 2, 12, 12, 12, 12, 9, 11, 12, 9, 11, 12, 2, 12, 5, 5, 2, 5, 0, 10, 11, 5, 12, 9, 2, 2, 11, 12, 4, 4, 1, 2, 12, 2, 5, 12, 2, 12, 2, 5, 5, 5, 12, 12, 5, 3, 12, 12, 0, 11, 12, 11, 9, 9, 0, 2, 2, 0, 9, 4, 4, 4, 12, 12, 5, 9, 12, 5, 12, 2, 0, 2, 9, 5, 5, 11, 3, 9, 9, 3, 11, 12, 5, 0, 12, 12, 14, 9, 9, 12, 2, 9, 12, 12, 12, 5, 13, 3, 2, 12, 12, 9, 2, 2, 5, 12, 12, 11, 5, 2, 12, 12, 0, 2, 12, 0, 2, 9, 11, 2, 10, 9, 3, 12, 12, 9, 12, 13, 1, 11, 0, 12, 11, 2, 14, 5, 11, 11, 12, 12, 12, 12, 3, 5, 5, 0, 12, 12, 11, 7, 0, 14, 12, 14, 2, 12, 5, 0, 7, 9, 11, 12, 14, 12, 2, 9, 11, 12, 9, 5, 12, 12, 2, 2, 12, 12, 1, 5, 5, 2, 11, 9, 12, 12, 5, 0, 12, 11, 12, 12, 12, 12, 12, 14, 9, 2, 4, 0, 5, 7, 9, 9, 12, 2, 5, 9, 12, 12, 3, 12, 14, 12, 12, 12, 12, 2, 0, 11, 6, 8, 12, 12, 2, 2, 2, 12, 9, 12, 12, 14, 12, 11, 9, 2, 12, 2, 0, 12, 12, 9, 0, 2, 5, 5, 12, 5, 12, 0, 8, 2, 12, 0, 11, 0, 12, 9, 8, 12, 0, 9, 2, 2, 2, 12, 12, 11, 4, 3, 13, 9, 12, 9, 3, 12, 12, 12, 2, 12, 11, 12, 12, 12, 7, 5, 3, 8, 12, 12, 9, 9, 4, 0, 12, 12, 5, 11, 9, 2, 5, 3, 12, 14, 0, 0, 0, 12, 5, 5, 5, 13, 12, 12, 9, 11, 11, 0, 12, 2, 5, 11, 12, 2, 9, 9, 8, 0, 2, 5, 4, 10, 12, 12, 2, 12, 0, 10, 14, 2, 2, 12, 2, 9, 0, 12, 14, 5, 4, 0, 12, 3, 4, 9, 12, 0, 7, 0, 0, 12, 9, 12, 12, 3, 6, 12, 2, 9, 14, 2, 9, 2, 12, 9, 12, 0, 4, 2, 7, 0, 9, 3, 3, 12, 12, 8, 2, 3, 12, 12, 12, 11, 11, 11, 12, 3, 9, 4, 5, 9, 11, 0, 2, 5, 12, 12, 3, 12, 7, 5, 1, 3, 1, 13, 12, 14, 12, 12, 12, 5, 3, 2, 3, 5, 5, 12, 12, 1, 0, 13, 12, 2, 2, 5, 12, 11, 2, 12, 2, 3, 8, 3, 12, 5, 0, 2, 14, 9, 12, 2, 2, 12, 12, 0, 9, 5, 0, 6, 5, 5, 12, 3, 11, 5, 11, 12, 2, 12, 7, 11, 12, 12, 12, 9, 2, 12, 5, 12, 5, 9, 12, 11, 2, 11, 12, 1, 12, 12, 5, 12, 9, 5, 2, 1, 12, 5, 5, 12, 5, 13, 2, 11, 11, 2, 3, 0, 9, 12, 11, 9, 12, 2, 12, 12, 12, 12, 12, 4, 12, 2, 3, 12, 2, 12, 12, 0, 2, 12, 9, 11, 5, 1, 2, 10, 0, 11, 11, 5, 0, 4, 12, 10, 12, 12, 8, 2, 5, 1, 9, 12, 8, 5, 11, 9, 14, 2, 2, 11, 0, 4, 12, 9, 12, 10, 5, 2, 12, 9, 2, 13, 12, 12, 3, 2, 2, 9, 0, 11, 5, 12, 12, 12, 12, 12, 9, 2, 5, 12, 12, 12, 11, 9, 4, 12, 14, 12, 9, 0, 12, 2, 9, 12, 0, 12, 12, 11, 12, 0, 2, 2, 9, 12, 12, 12, 12, 2, 12, 13, 5, 12, 12, 2, 12, 9, 12, 9, 9, 2, 4, 4, 0, 4, 12, 12, 5, 2, 9, 4, 2, 11, 12, 9, 12, 2, 11, 11, 12, 9, 5, 11, 3, 5, 12, 3, 12, 11, 2, 0, 4, 12, 9, 5, 9, 12, 9, 12, 12, 11, 11, 12, 12, 11, 12, 12, 2, 0, 14, 12, 4, 2, 12, 12, 0, 2, 2, 11, 13, 12, 12, 12, 0, 9, 5, 3, 4, 3, 12, 2, 14, 9, 12, 3, 12, 2, 5, 5, 12, 9, 11, 11, 9, 0, 5, 11, 12, 9, 12, 0, 11, 1, 0, 8, 9, 12, 12, 12, 5, 7, 12, 14, 2, 5, 9, 11, 9, 2, 3, 2, 0, 9, 2, 12, 11, 12, 11, 0, 12, 12, 12, 12, 13, 12, 9, 3, 11, 5, 11, 2, 2, 2, 12, 1, 11, 0, 5, 5, 5, 0, 10, 5, 12, 11, 12, 2, 4, 3, 11, 12, 12, 12, 11, 4, 3, 0, 2, 1, 12, 2, 12, 11, 2, 8, 14, 11, 12, 4, 2, 2, 10, 12, 14, 12, 12, 12, 12, 11, 3, 5, 5, 11, 2, 12, 11, 12, 13, 5, 4, 8, 5, 12, 3, 2, 2, 12, 12, 11, 0, 12, 12, 5, 12, 5, 12, 4, 0, 12, 0, 14, 12, 1, 12, 9, 9, 0, 5, 3, 12, 3, 2, 3, 10, 14, 2, 11, 4, 0, 12, 9, 1, 12, 12, 12, 1, 9, 4, 2, 9, 12, 5, 11, 11, 12, 5, 14, 12, 9, 12, 2, 5, 12, 4, 12, 2, 0, 9, 5, 9, 9, 9, 14, 5, 13, 12, 5, 4, 12, 0, 9, 12, 2, 12, 5, 12, 2, 2, 12, 4, 3, 12, 12, 11, 12, 2, 11, 12, 5, 0, 0, 12, 12, 12, 9, 12, 2, 9, 11, 12, 12, 5, 5, 13, 5, 5, 12, 5, 9, 2, 0, 12, 2, 12, 0, 3, 11, 11, 0, 3, 12, 2, 11, 5, 12, 0, 11, 2, 12, 9, 4, 5, 9, 12, 0, 3, 12, 9, 8, 5, 3, 7, 12, 2, 11, 5, 5, 9, 12, 12, 3, 13, 12, 12, 9, 12, 4, 12, 7, 5, 10, 12, 12, 2, 3, 9, 11, 12, 12, 0, 12, 9, 12, 5, 12, 5, 12, 12, 12, 5, 14, 5, 3, 12, 3, 12, 5, 1, 12, 12, 12, 1, 12, 3, 1, 14, 12, 7, 2, 5, 3, 5, 0, 0, 4, 3, 12, 5, 2, 14, 12, 12, 9, 12, 0, 2, 12, 7, 14, 3, 14, 5, 9, 2, 0, 0, 12, 12, 12, 12, 12, 5, 12, 12, 4, 11, 3, 5, 2, 3, 1, 11, 13, 0, 11, 12, 3, 12, 4, 0, 2, 12, 2, 14, 5, 2, 11, 11, 5, 2, 1, 12, 4, 14, 12, 0, 12, 4, 12, 4, 5, 11, 5, 12, 2, 2, 2, 8, 12, 3, 14, 9, 5, 12, 5, 12, 12, 4, 7, 11, 12, 5, 9, 3, 12, 9, 0, 2, 12, 12, 11, 2, 11, 3, 12, 9, 9, 12, 9, 12, 12, 3, 12, 12, 9, 12, 11, 14, 12, 12, 9, 13, 9, 5, 13, 12, 13, 0, 13, 0, 12, 8, 11, 0, 0, 4, 5, 12, 9, 2, 5, 14, 2, 5, 2, 2, 12, 12, 7, 11, 12, 11, 12, 5, 11, 9, 12, 5, 2, 4, 12, 5, 0, 6, 9, 9, 12, 12, 14, 4, 5, 2, 11, 4, 12, 2, 8, 2, 14, 5, 5, 4, 0, 12, 12, 2, 12, 0, 11, 3, 12, 5, 3, 9, 12, 9, 12, 2, 5, 12, 12, 9, 2, 4, 0, 3, 2, 11, 1, 5, 9, 5, 12, 3, 9, 2, 0, 12, 6, 13, 0, 3, 12, 0, 9, 11, 12, 0, 10, 4, 5, 13, 12, 5, 4, 12, 13, 5, 13, 5, 2, 11, 14, 14, 12, 12, 12, 9, 12, 3, 11, 5, 9, 0, 12, 9, 12, 2, 3, 9, 13, 9, 12, 11, 9, 0, 2, 9, 12, 5, 4, 14, 0, 0, 3, 7, 4, 5, 9, 12, 13, 0, 2, 2, 4, 0, 5, 9, 12, 2, 0, 12, 12, 3, 9, 9, 8, 5, 9, 12, 5, 11, 2, 5, 2, 9, 5, 4, 13, 2, 2, 9, 12, 9, 5, 9, 11, 11, 12, 9, 11, 11, 9, 12, 0, 8, 12, 9, 12, 5, 4, 12, 0, 12, 12, 11, 12, 2, 12, 14, 12, 1, 9, 7, 3, 12, 0, 12, 5, 12, 9, 11, 12, 5, 2, 12, 3, 2, 0, 9, 11, 4, 14, 7, 12, 2, 4, 4, 12, 9, 5, 12, 12, 0, 12, 0, 12, 1, 5, 5, 8, 12, 5, 5, 2, 0, 12, 9, 9, 5, 5, 3, 2, 5, 10, 1, 5, 12, 12, 11, 12, 13, 10, 12, 2, 3, 12, 12, 12, 9, 12, 11, 12, 5, 10, 5, 12, 4, 11, 12, 0, 0, 5, 11, 11, 3, 0, 3, 12, 12, 3, 2, 11, 2, 12, 5, 0, 12, 5, 3, 4, 0, 12, 11, 11, 12, 12, 1, 12, 12, 12, 14, 12, 12, 12, 0, 0, 11, 5, 4, 2, 6, 9, 9, 12, 3, 3, 5, 11, 12, 9, 4, 13, 5, 3, 8, 11, 12, 2, 8, 12, 11, 2, 4, 0, 2, 4, 12, 8, 12, 12, 2, 11, 5, 5, 2, 12, 12, 5, 14, 12, 3, 12, 5, 12, 2, 0, 5, 11, 11, 14, 2, 2, 12, 12, 12, 10, 3, 5, 3, 13, 12, 9, 8, 11, 7, 4, 12, 0, 13, 12, 11, 12, 12, 9, 11, 12, 9, 4, 12, 3, 5, 11, 9, 12, 0, 0, 13, 12, 9, 12, 4, 12, 10, 3, 5, 12, 12, 9, 9, 12, 12, 12, 2, 4, 9, 2, 2, 2, 12, 2, 4, 0, 0, 0, 12, 12, 3, 4, 3, 12, 0, 1, 12, 14, 9, 7, 12, 9, 12, 12, 12, 2, 5, 12, 11, 5, 12, 5, 1, 5, 5, 12, 11, 12, 3, 12, 1, 0, 12, 0, 9, 12, 0, 11, 12, 9, 4, 0, 11, 12, 3, 11, 9, 3, 5, 5, 12, 5, 5, 9, 10, 4, 3, 14, 1, 11, 2, 1, 12, 11, 12, 12, 3, 12, 12, 9, 9, 2, 11, 12, 12, 13, 2, 11, 2, 0, 12, 12, 11, 13, 9, 12, 5, 4, 9, 12, 4, 14, 11, 12, 12, 12, 5, 2, 5, 0, 11, 5, 5, 9, 13, 12, 2, 10, 0, 1, 4, 2, 3, 12, 9, 12, 9, 3, 12, 9, 2, 2, 12, 5, 12, 11, 12, 2, 9, 2, 11, 12, 4, 13, 12, 14, 9, 12, 11, 13, 0, 4, 5, 12, 12, 3, 11, 11, 9, 9, 12, 5, 8, 5, 12, 12, 4, 0, 5, 4, 12, 12, 2, 9, 12, 13, 11, 9, 2, 0, 0, 11, 12, 11, 5, 5, 11, 12, 12, 2, 0, 11, 12, 4, 2, 12, 0, 12, 12, 11, 11, 11, 9, 5, 2, 5, 11, 11, 3, 12, 9, 0, 0, 2, 9, 12, 12, 2, 1, 4, 13, 0, 3, 2, 9, 3, 12, 13, 9, 2, 2, 11, 12, 12, 0, 12, 0, 2, 5, 12, 11, 2, 9, 5, 12, 12, 12, 12, 8, 12, 12, 9, 8, 5, 12, 1, 8, 13, 12, 12, 9, 13, 5, 2, 0, 0, 12, 9, 12, 4, 14, 12, 11, 4, 12, 2, 5, 2, 0, 14, 13, 12, 2, 2, 5, 4, 11, 4, 5, 9, 12, 9, 12, 5, 2, 9, 9, 2, 5, 13, 9, 12, 12, 9, 12, 5, 9, 3, 2, 12, 12, 12, 12, 2, 12, 10, 12, 2, 0, 12, 5, 12, 9, 0, 0, 5, 5, 12, 0, 5, 12, 0, 14, 3, 11, 12, 9, 1, 12, 12, 13, 0, 12, 11, 4, 2, 12, 14, 12, 11, 12, 0, 12, 13, 13, 5, 2, 12, 12, 12, 7, 12, 2, 4, 5, 1, 10, 8, 5, 4, 12, 5, 2, 12, 11, 4, 6, 10, 9, 9, 4, 5, 4, 9, 2, 5, 9, 5, 11, 12, 1, 11, 3, 11, 11, 12, 12, 2, 12, 4, 9, 3, 9, 12, 0, 12, 11, 0, 12, 3, 2, 12, 0, 2, 12, 12, 12, 0, 13, 5, 9, 12, 5, 12, 2, 9, 13, 12, 13, 2, 9, 12, 11, 2, 0, 12, 12, 0, 12, 12, 11, 9, 12, 11, 12, 12, 2, 10, 0, 12, 8, 3, 11, 0, 12, 5, 2, 14, 2, 8, 12, 12, 2, 12, 12, 12, 3, 11, 2, 3, 5, 11, 5, 11, 9, 5, 5, 3, 0, 13, 12, 10, 12, 12, 12, 2, 13, 13, 12, 12, 11, 5, 5, 13, 1, 12, 5, 0, 11, 11, 5, 9, 4, 2, 9, 12, 2, 12, 12, 2, 4, 12, 11, 12, 9, 9, 0, 9, 11, 2, 0, 13, 12, 9, 11, 12, 6, 3, 12, 12, 11, 12, 3, 12, 5, 12, 1, 12, 12, 13, 11, 5, 12, 12, 3, 10, 5, 0, 10, 5, 5, 12, 11, 4, 12, 5, 11, 5, 12, 11, 12, 14, 12, 9, 2, 5, 12, 2, 9, 9, 5, 5, 3, 5, 7, 8, 12, 3, 0, 12, 12, 1, 4, 7, 5, 12, 11, 12, 0, 9, 0, 9, 12, 2, 11, 9, 5, 14, 1, 5, 12, 12, 0, 5, 2, 12, 9, 0, 1, 8, 4, 9, 12, 0, 11, 12, 12, 9, 9, 9, 4, 0, 2, 12, 0, 10, 12, 0, 5, 13, 12, 5, 12, 13, 5, 9, 12, 3, 3, 12, 11, 12, 4, 13, 12, 11, 12, 2, 10, 9, 12, 12, 12, 3, 11, 12, 5, 12, 11, 1, 5, 11, 11, 12, 2, 2, 11, 0, 5, 3, 12, 1, 12, 12, 9, 12, 3, 12, 4, 2, 3, 12, 0, 12, 11, 12, 5, 5, 5, 5, 1, 9, 4, 4, 11, 4, 12, 14, 5, 3, 2, 4, 12, 2, 12, 3, 9, 12, 3, 12, 12, 12, 9, 2, 12, 4, 14, 2, 9, 5, 12, 4, 5, 9, 12, 12, 0, 3, 0, 4, 10, 11, 0, 12, 2, 11, 3, 12, 0, 5, 12, 5, 12, 12, 9, 4, 11, 13, 12, 2, 12, 11, 5, 2, 12, 11, 12, 12, 9, 12, 5, 2, 12, 12, 0, 12, 12, 4, 12, 9, 4, 9, 2, 2, 12, 8, 5, 11, 12, 13, 11, 12, 5, 12, 9, 5, 12, 2, 5, 12, 4, 9, 3, 9, 2, 5, 11, 13, 12, 8, 4, 12, 9, 2, 12, 10, 5, 2, 9, 0, 5, 4, 12, 12, 2, 2, 5, 11, 5, 4, 5, 11, 3, 14, 9, 14, 14, 0, 12, 1, 4, 14, 0, 3, 5, 11, 3, 5, 14, 5, 12, 0, 0, 12, 3, 13, 12, 12, 12, 12, 4, 12, 12, 4, 4, 4, 12, 12, 4, 12, 12, 4, 5, 12, 12, 11, 9, 8, 0, 4, 12, 12, 12, 11, 9, 12, 9, 5, 5, 14, 2, 14, 5, 0, 13, 0, 3, 2, 12, 12, 2, 3, 11, 5, 2, 9, 5, 9, 11, 0, 11, 9, 11, 3, 2, 3, 12, 4, 12, 0, 5, 4, 9, 12, 11, 5, 4, 12, 12, 5, 5, 12, 12, 12, 9, 7, 12, 12, 5, 5, 12, 12, 11, 12, 1, 12, 12, 9, 12, 12, 12, 12, 12, 12, 5, 9, 12, 11, 12, 5, 12, 0, 12, 0, 5, 4, 8, 5, 12, 9, 12, 0, 2, 12, 12, 9, 9, 2, 12, 9, 12, 11, 10, 2, 2, 14, 5, 4, 0, 11, 12, 12, 13, 14, 9, 12, 3, 5, 4, 2, 3, 5, 3, 11, 11, 4, 12, 4, 10, 5, 11, 12, 3, 0, 9, 2, 5, 13, 11, 13, 1, 9, 5, 12, 11, 12, 12, 1, 11, 3, 14, 5, 9, 1, 12, 9, 5, 5, 13, 14, 2, 12, 4, 9, 5, 1, 5, 9, 5, 12, 9, 0, 9, 5, 11, 12, 12, 12, 12, 2, 12, 12, 12, 12, 12, 0, 13, 14, 14, 12, 9, 0, 0, 12, 5, 12, 4, 5, 2, 0, 11, 5, 14, 12, 5, 0, 11, 11, 2, 12, 1, 5, 0, 12, 12, 13, 5, 4, 12, 9, 9, 4, 5, 11, 11, 5, 3, 5, 14, 11, 12, 9, 0, 5, 9, 12, 9, 2, 13, 9, 8, 3, 12, 14, 0, 12, 3, 5, 13, 3, 11, 12, 12, 11, 5, 10, 0, 12, 11, 11, 2, 12, 14, 12, 12, 12, 0, 11, 11, 12, 9, 12, 5, 12, 12, 12, 5, 11, 12, 11, 2, 14, 11, 2, 5, 12, 12, 5, 11, 9, 4, 3, 0, 0, 4, 9, 12, 9, 12, 0, 8, 12, 9, 1, 2, 2, 11, 2, 5, 2, 11, 9, 5, 2, 1, 4, 12, 4, 11, 12, 11, 4, 14, 12, 12, 12, 12, 12, 12, 4, 2, 2, 3, 3, 5, 12, 2, 12, 3, 12, 0, 11, 2, 5, 12, 9, 0, 9, 14, 2, 4, 5, 9, 12, 3, 8, 0, 11, 12, 5, 5, 4, 2, 12, 12, 1, 7, 12, 2, 8, 11, 2, 12, 2, 7, 0, 5, 12, 7, 9, 2, 0, 3, 0, 11, 0, 0, 8, 11, 11, 11, 12, 11, 12, 12, 4, 12, 14, 2, 9, 12, 3, 12, 3, 12, 2, 11, 12, 12, 12, 11, 10, 4, 12, 12, 7, 12, 14, 12, 12, 11, 2, 10, 3, 3, 5, 2, 9, 11, 5, 14, 9, 12, 12, 11, 12, 12, 12, 12, 5, 12, 0, 11, 12, 5, 12, 5, 5, 12, 5, 0, 4, 2, 2, 12, 5, 12, 9, 9, 2, 2, 3, 9, 4, 2, 11, 2, 5, 9, 5, 2, 12, 12, 1, 0, 4, 13, 12, 0, 5, 2, 2, 2, 12, 4, 4, 5, 13, 2, 12, 2, 12, 12, 5, 2, 5, 12, 12, 5, 5, 12, 0, 5, 12, 11, 12, 12, 7, 12, 2, 0, 12, 0, 14, 0, 9, 12, 0, 9, 5, 4, 12, 4, 9, 12, 14, 11, 2, 11, 12, 4, 2, 0, 12, 12, 12, 12, 5, 3, 12, 12, 4, 4, 5, 11, 12, 0, 12, 12, 9, 9, 2, 14, 12, 2, 12, 0, 2, 5, 8, 4, 14, 0, 5, 9, 2, 12, 11, 0, 5, 12, 14, 2, 12, 11, 9, 12, 5, 11, 12, 2, 11, 12, 13, 0, 4, 5, 12, 5, 9, 12, 2, 9, 12, 12, 9, 4, 12, 8, 1, 2, 5, 12, 0, 11, 5, 2, 5, 12, 2, 2, 12, 4, 4, 2, 2, 5, 4, 12, 10, 0, 12, 7, 2, 12, 9, 0, 0, 12, 12, 4, 12, 5, 2, 12, 3, 12, 1, 9, 4, 5, 12, 14, 5, 5, 0, 0, 13, 4, 2, 3, 12, 2, 4, 12, 12, 12, 9, 5, 12, 3, 2, 12, 9, 11, 12, 9, 2, 4, 10, 4, 5, 12, 9, 0, 11, 12, 12, 9, 4, 2, 12, 9, 10, 13, 11, 11, 4, 3, 12, 11, 9, 5, 12, 5, 3, 2, 11, 12, 5, 0, 5, 9, 9, 4, 11, 12, 0, 1, 2, 12, 1, 12, 7, 14, 12, 3, 2, 5, 12, 5, 12, 11, 9, 12, 11, 9, 12, 2, 11, 0, 3, 12, 12, 7, 9, 4, 2, 12, 9, 12, 11, 12, 9, 12, 12, 12, 0, 12, 2, 2, 12, 11, 4, 2, 5, 14, 12, 9, 14, 5, 12, 12, 12, 0, 12, 5, 4, 2, 11, 4, 4, 12, 2, 5, 12, 12, 5, 6, 12, 2, 4, 4, 12, 12, 8, 12, 0, 9, 12, 12, 14, 5, 5, 11, 3, 12, 12, 14, 3, 11, 9, 2, 12, 5, 5, 3, 1, 4, 13, 9, 9, 13, 9, 12, 12, 12, 11, 4, 5, 3, 2, 12, 12, 0, 11, 12, 12, 12, 5, 9, 5, 12, 11, 12, 12, 9, 4, 4, 12, 3, 3, 9, 12, 9, 14, 12, 14, 12, 0, 11, 5, 12, 0, 4, 5, 9, 2, 12, 5, 3, 2, 11, 5, 12, 12, 5, 1, 2, 5, 1, 11, 12, 13, 14, 2, 5, 9, 2, 12, 7, 5, 11, 12, 5, 2, 2, 12, 5, 2, 0, 2, 12, 10, 11, 2, 9, 0, 12, 2, 12, 2, 9, 13, 12, 4, 12, 12, 11, 5, 11, 2, 5, 8, 9, 0, 12, 3, 12, 2, 10, 12, 11, 11, 12, 12, 2, 4, 12, 0, 12, 9, 12, 5, 11, 12, 12, 12, 3, 12, 12, 2, 12, 12, 9, 12, 11, 12, 12, 2, 4, 5, 11, 4, 9, 4, 13, 2, 11, 2, 5, 12, 5, 2, 10, 2, 9, 2, 0, 12, 0, 5, 1, 12, 13, 0, 5, 11, 12, 9, 14, 9, 5, 9, 2, 14, 2, 12, 13, 0, 12, 12, 12, 9, 9, 2, 4, 5, 12, 3, 0, 5, 9, 10, 12, 12, 0, 12, 2, 0, 0, 0, 2, 14, 10, 11, 12, 12, 12, 12, 3, 11, 9, 12, 3, 5, 12, 9, 12, 2, 11, 12, 2, 1, 9, 8, 5, 0, 5, 12, 12, 4, 2, 5, 12, 13, 2, 5, 11, 12, 2, 8, 0, 6, 5, 2, 14, 0, 9, 12, 2, 12, 11, 11, 11, 0, 12, 0, 9, 12, 12, 12, 12, 11, 4, 2, 2, 11, 4, 5, 12, 3, 0, 2, 12, 5, 9, 3, 3, 9, 7, 14, 3, 5, 5, 11, 9, 12, 11, 14, 9, 1, 5, 4, 12, 0, 3, 14, 5, 3, 2, 2, 12, 12, 9, 9, 0, 12, 4, 5, 13, 5, 9, 11, 9, 3, 11, 9, 4, 5, 12, 5, 12, 12, 2, 12, 12, 12, 9, 3, 0, 2, 9, 2, 2, 12, 5, 2, 12, 0, 12, 9, 5, 9, 12, 5, 4, 2, 2, 9, 11, 12, 12, 12, 5, 11, 5, 12, 12, 2, 9, 2, 12, 2, 12, 9, 9, 0, 3, 12, 12, 5, 2, 3, 2, 2, 12, 11, 2, 11, 12, 13, 11, 12, 2, 2, 9, 4, 12, 5, 4, 3, 5, 8, 4, 12, 9, 12, 13, 2, 3, 9, 4, 2, 2, 4, 2, 5, 5, 0, 12, 2, 2, 11, 3, 2, 12, 10, 2, 5, 12, 11, 10, 12, 12, 11, 12, 3, 12, 9, 5, 9, 11, 13, 9, 11, 0, 9, 12, 12, 11, 12, 12, 12, 9, 12, 12, 5, 4, 3, 12, 9, 12, 0, 0, 11, 12, 11, 2, 10, 11, 12, 1, 2, 2, 12, 5, 12, 12, 9, 13, 12, 4, 9, 12, 12, 11, 12, 12, 4, 5, 13, 13, 12, 12, 5, 5, 2, 12, 3, 14, 14, 4, 2, 5, 4, 12, 12, 12, 5, 12, 12, 5, 12, 12, 12, 2, 2, 12, 5, 4, 5, 12, 0, 12, 4, 5, 5, 9, 5, 11, 9, 2, 12, 9, 14, 2, 9, 12, 2, 14, 11, 12, 14, 11, 5, 1, 4, 12, 12, 14, 9, 2, 12, 12, 12, 12, 3, 12, 3, 2, 12, 9, 12, 12, 2, 12, 4, 0, 12, 11, 14, 9, 13, 14, 2, 0, 5, 5, 0, 9, 2, 11, 1, 4, 9, 11, 3, 9, 9, 12, 3, 2, 12, 12, 11, 5, 11, 12, 9, 11, 7, 12, 12, 12, 12, 9, 0, 11, 5, 5, 9, 8, 14, 13, 11, 9, 14, 4, 5, 3, 3, 2, 8, 9, 2, 12, 9, 1, 9, 4, 5, 12, 13, 2, 5, 9, 9, 12, 11, 11, 12, 5, 5, 11, 11, 5, 12, 12, 12, 4, 9, 9, 2, 12, 5, 5, 12, 11, 11, 11, 12, 2, 14, 5, 5, 12, 7, 3, 12, 5, 12, 12, 9, 12, 12, 12, 0, 9, 11, 12, 12, 9, 4, 2, 14, 0, 4, 12, 5, 5, 9, 12, 3, 12, 0, 5, 12, 12, 9, 3, 2, 0, 9, 12, 12, 11, 11, 12, 2, 9, 12, 5, 13, 11, 4, 10, 14, 12, 11, 0, 5, 13, 12, 2, 2, 0, 4, 3, 12, 12, 4, 13, 11, 12, 13, 0, 11, 12, 5, 2, 9, 9, 9, 12, 5, 2, 5, 0, 9, 3, 9, 11, 2, 5, 4, 14, 12, 11, 12, 0, 9, 9, 13, 11, 5, 5, 8, 2, 12, 4, 5, 9, 3, 5, 12, 2, 3, 5, 0, 13, 5, 4, 9, 12, 9, 9, 12, 5, 12, 12, 2, 5, 12, 1, 5, 5, 5, 11, 12, 9, 0, 11, 2, 5, 3, 11, 12, 0, 0, 8, 9, 0, 7, 12, 5, 5, 3, 0, 5, 12, 14, 14, 5, 3, 9, 4, 9, 12, 11, 5, 5, 0, 12, 12, 9, 12, 4, 2, 12, 12, 11, 14, 11, 10, 5, 14, 9, 12, 1, 14, 2, 11, 12, 5, 12, 11, 12, 9, 11, 5, 12, 0, 12, 3, 8, 4, 12, 11, 12, 11, 11, 12, 12, 11, 12, 12, 5, 9, 12, 9, 5, 13, 14, 7, 11, 14, 12, 1, 11, 14, 12, 4, 5, 5, 12, 5, 14, 10, 5, 11, 3, 12, 12, 12, 2, 12, 12, 5, 7, 2, 1, 5, 2, 2, 11, 12, 0, 12, 12, 2, 13, 9, 12, 8, 3, 8, 4, 3, 3, 4, 9, 11, 0, 12, 12, 5, 11, 4, 5, 9, 2, 9, 9, 12, 12, 1, 2, 2, 0, 0, 12, 2, 2, 5, 9, 2, 3, 2, 5, 9, 0, 12, 5, 12, 5, 12, 4, 2, 2, 12, 9, 12, 13, 9, 0, 2, 2, 12, 9, 2, 12, 0, 12, 0, 8, 12, 13, 11, 12, 5, 2, 3, 12, 11, 5, 2, 12, 14, 9, 2, 12, 11, 12, 4, 2, 9, 0, 3, 2, 14, 12, 10, 0, 12, 9, 2, 14, 3, 12, 12, 11, 0, 9, 2, 3, 12, 12, 12, 2, 2, 2, 5, 7, 11, 12, 2, 5, 12, 9, 5, 0, 4, 12, 5, 9, 12, 3, 12, 11, 5, 12, 11, 5, 12, 12, 3, 4, 11, 12, 1, 12, 11, 2, 4, 0, 11, 12, 12, 2, 0, 11, 9, 2, 12, 14, 12, 0, 11, 12, 5, 12, 4, 11, 9, 9, 5, 0, 2, 12, 11, 3, 5, 9, 13, 0, 3, 12, 5, 11, 0, 12, 9, 14, 12, 11, 9, 12, 2, 0, 2, 12, 12, 12, 0, 2, 5, 2, 0, 14, 3, 5, 12, 5, 2, 10, 12, 5, 12, 11, 13, 12, 2, 9, 12, 9, 9, 13, 0, 12, 0, 12, 2, 12, 9, 2, 5, 3, 5, 7, 12, 9, 0, 0, 5, 3, 1, 12, 5, 12, 12, 2, 2, 12, 12, 12, 4, 12, 0, 11, 12, 12, 0, 3, 0, 10, 12, 14, 12, 12, 14, 9, 12, 12, 5, 5, 13, 12, 4, 5, 5, 12, 12, 12, 12, 3, 7, 12, 12, 9, 2, 9, 2, 5, 11, 1, 11, 3, 4, 9, 1, 12, 12, 9, 12, 3, 11, 12, 9, 3, 0, 2, 4, 3, 5, 5, 2, 9, 2, 12, 12, 4, 14, 12, 5, 3, 9, 9, 14, 5, 1, 12, 12, 11, 4, 8, 9, 1, 12, 13, 14, 2, 5, 2, 5, 5, 9, 12, 4, 12, 4, 12, 12, 12, 3, 9, 11, 3, 12, 0, 4, 3, 12, 12, 10, 4, 11, 12, 5, 2, 1, 11, 12, 5, 11, 1, 12, 12, 11, 4, 0, 12, 11, 9, 0, 13, 12, 11, 4, 4, 9, 12, 11, 0, 12, 12, 12, 11, 3, 12, 12, 0, 3, 5, 3, 9, 5, 13, 12, 9, 4, 3, 11, 11, 12, 2, 14, 11, 9, 3, 3, 9, 5, 1, 5, 5, 4, 12, 2, 2, 9, 13, 12, 12, 5, 11, 1, 4, 12, 5, 8, 14, 3, 12, 9, 10, 5, 3, 12, 12, 2, 12, 0, 12, 9, 5, 3, 14, 12, 5, 2, 12, 5, 1, 6, 13, 3, 9, 12, 12, 9, 1, 2, 5, 0, 9, 7, 4, 5, 11, 11, 0, 2, 12, 5, 12, 11, 12, 12, 5, 5, 12, 12, 2, 9, 8, 12, 11, 2, 9, 5, 10, 9, 12, 13, 12, 12, 8, 12, 9, 3, 9, 12, 4, 12, 9, 12, 5, 12, 2, 5, 13, 12, 8, 9, 10, 12, 4, 3, 5, 5, 4, 4, 4, 12, 5, 5, 12, 4, 3, 9, 0, 5, 12, 13, 2, 14, 9, 12, 12, 12, 12, 3, 10, 14, 12, 8, 5, 12, 12, 5, 12, 12, 5, 11, 3, 11, 12, 12, 9, 4, 9, 5, 9, 12, 5, 14, 8, 14, 7, 5, 12, 12, 12, 5, 7, 12, 2, 9, 2, 11, 12, 2, 0, 2, 5, 5, 7, 3, 14, 9, 11, 12, 12, 12, 0, 11, 8, 4, 12, 13, 11, 11, 12, 12, 12, 12, 13, 2, 11, 5, 12, 5, 11, 14, 5, 12, 9, 9, 1, 9, 14, 12, 12, 12, 2, 11, 12, 0, 11, 5, 12, 9, 12, 12, 0, 12, 12, 12, 12, 0, 12, 9, 5, 12, 13, 1, 9, 4, 13, 4, 12, 3, 9, 12, 2, 12, 12, 12, 2, 13, 12, 5, 5, 5, 12, 3, 12, 9, 13, 12, 11, 12, 1, 0, 12, 5, 0, 11, 12, 9, 12, 5, 12, 12, 12, 5, 8, 8, 5, 12, 2, 3, 4, 9, 5, 11, 3, 14, 4, 12, 2, 0, 3, 12, 12, 12, 5, 0, 4, 1, 12, 12, 12, 9, 11, 5, 12, 12, 12, 4, 12, 12, 2, 9, 12, 0, 5, 5, 12, 4, 2, 5, 12, 5, 12, 3, 1, 5, 3, 2, 0, 5, 12, 11, 12, 13, 5, 5, 12, 5, 5, 5, 5, 12, 12, 8, 3, 9, 0, 0, 12, 12, 2, 12, 4, 3, 4, 2, 12, 11, 12, 4, 5, 14, 1, 11, 12, 5, 11, 14, 9, 12, 0, 14, 0, 4, 12, 11, 12, 2, 12, 11, 12, 10, 2, 9, 11, 0, 5, 5, 11, 4, 12, 0, 12, 12, 2, 12, 12, 12, 1, 12, 12, 12, 12, 14, 12, 12, 12, 12, 12, 5, 12, 9, 12, 12, 2, 7, 0, 4, 13, 12, 13, 5, 2, 1, 12, 5, 8, 5, 12, 12, 12, 12, 3, 0, 12, 10, 0, 2, 4, 4, 9, 9, 12, 5, 0, 12, 12, 14, 12, 4, 5, 5, 11, 2, 14, 12, 8, 0, 12, 12, 9, 12, 9, 12, 2, 2, 9, 12, 9, 9, 9, 5, 1, 12, 5, 12, 5, 5, 12, 12, 2, 3, 0, 5, 9, 12, 3, 11, 12, 0, 14, 12, 1, 12, 5, 4, 5, 9, 11, 12, 9, 11, 5, 14, 12, 5, 11, 2, 2, 0, 12, 11, 12, 2, 2, 12, 12, 1, 8, 2, 12, 14, 9, 3, 12, 12, 12, 4, 10, 9, 10, 10, 2, 2, 11, 7, 11, 2, 10, 13, 4, 4, 12, 4, 4, 5, 5, 4, 12, 12, 14, 11, 5, 0, 5, 11, 2, 9, 7, 12, 12, 12, 12, 12, 0, 12, 4, 12, 12, 3, 2, 2, 4, 0, 10, 12, 12, 11, 12, 12, 2, 12, 12, 0, 3, 12, 11, 12, 12, 11, 3, 5, 12, 11, 5, 5, 14, 12, 11, 2, 12, 11, 0, 3, 12, 11, 12, 5, 12, 13, 5, 14, 5, 12, 0, 14, 2, 9, 2, 12, 4, 11, 9, 11, 12, 12, 12, 8, 0, 13, 12, 12, 0, 13, 3, 0, 12, 12, 12, 5, 3, 11, 12, 5, 0, 0, 12, 5, 0, 2, 9, 12, 5, 12, 2, 11, 12, 12, 9, 6, 5, 9, 11, 5, 12, 3, 12, 12, 4, 9, 9, 10, 12, 12, 9, 12, 2, 12, 0, 12, 2, 0, 4, 12, 9, 12, 5, 11, 5, 2, 12, 2, 12, 3, 12, 5, 5, 9, 12, 1, 2, 12, 4, 4, 12, 5, 12, 12, 12, 2, 12, 0, 5, 12, 9, 13, 11, 11, 12, 12, 3, 5, 5, 4, 5, 13, 2, 1, 2, 12, 8, 2, 1, 12, 9, 12, 13, 5, 4, 7, 9, 4, 12, 12, 12, 5, 9, 1, 12, 3, 9, 12, 8, 12, 5, 12, 11, 5, 0, 12, 12, 14, 5, 12, 12, 12, 12, 4, 5, 12, 11, 10, 9, 0, 12, 12, 2, 9, 14, 12, 10, 9, 3, 5, 0, 3, 2, 12, 12, 9, 12, 12, 9, 5, 5, 0, 2, 5, 4, 14, 2, 2, 12, 4, 0, 12, 12, 5, 2, 12, 12, 0, 2, 12, 4, 11, 3, 2, 9, 5, 12, 5, 12, 14, 2, 5, 11, 2, 4, 14, 12, 4, 1, 5, 12, 3, 12, 3, 5, 8, 1, 12, 12, 12, 3, 12, 9, 12, 12, 0, 2, 0, 13, 12, 2, 0, 11, 11, 9, 4, 12, 13, 5, 12, 11, 8, 11, 12, 11, 9, 3, 5, 14, 12, 11, 5, 4, 12, 2, 9, 2, 5, 2, 12, 9, 4, 12, 12, 9, 0, 5, 0, 9, 2, 12, 9, 4, 5, 3, 5, 11, 4, 12, 12, 11, 5, 12, 9, 0, 12, 12, 9, 9, 9, 4, 12, 5, 5, 9, 13, 12, 11, 12, 12, 13, 5, 5, 9, 2, 9, 11, 1, 10, 12, 12, 2, 12, 13, 8, 4, 0, 11, 2, 2, 3, 5, 12, 5, 7, 12, 5, 2, 11, 1, 1, 5, 2, 12, 11, 12, 5, 10, 0, 12, 12, 11, 11, 4, 2, 9, 12, 12, 12, 12, 12, 13, 5, 12, 4, 5, 12, 12, 9, 12, 8, 11, 12, 11, 0, 12, 5, 12, 5, 3, 12, 2, 3, 12, 12, 9, 4, 12, 2, 9, 12, 13, 12, 12, 12, 5, 12, 8, 6, 5, 2, 9, 2, 0, 12, 11, 5, 4, 4, 12, 12, 3, 2, 5, 5, 12, 9, 12, 4, 12, 14, 10, 12, 12, 0, 14, 12, 5, 14, 5, 13, 11, 0, 12, 2, 5, 11, 5, 7, 4, 11, 3, 12, 11, 2, 12, 9, 12, 5, 0, 5, 12, 0, 12, 12, 14, 12, 11, 9, 11, 12, 12, 12, 7, 13, 1, 0, 12, 12, 3, 9, 3, 10, 8, 12, 0, 14, 5, 1, 2, 9, 1, 4, 9, 9, 4, 12, 12, 5, 12, 12, 12, 12, 12, 2, 3, 9, 5, 12, 12, 9, 2, 11, 9, 5, 5, 14, 12, 12, 9, 0, 2, 2, 12, 0, 11, 2, 12, 11, 0, 2, 5, 12, 4, 12, 5, 3, 5, 9, 5, 12, 12, 9, 3, 2, 5, 14, 11, 9, 2, 12, 7, 3, 2, 10, 1, 12, 5, 9, 9, 12, 12, 12, 11, 12, 9, 11, 11, 5, 12, 5, 11, 0, 2, 8, 12, 2, 12, 0, 5, 12, 10, 12, 5, 9, 5, 12, 2, 11, 2, 5, 4, 12, 3, 2, 11, 11, 10, 4, 11, 13, 0, 12, 12, 12, 12, 12, 9, 5, 5, 9, 2, 2, 11, 0, 12, 11, 0, 5, 3, 12, 12, 5, 14, 5, 2, 11, 11, 0, 13, 0, 5, 14, 9, 12, 11, 12, 11, 9, 4, 2, 5, 12, 3, 9, 2, 5, 11, 2, 12, 3, 12, 4, 9, 5, 3, 12, 3, 2, 9, 5, 11, 0, 12, 0, 12, 12, 5, 4, 1, 12, 9, 2, 12, 11, 12, 12, 5, 5, 0, 11, 5, 5, 14, 3, 12, 12, 9, 11, 11, 12, 2, 8, 11, 9, 11, 14, 12, 13, 6, 14, 12, 3, 13, 13, 3, 12, 12, 0, 4, 12, 11, 4, 12, 5, 0, 10, 0, 2, 12, 9, 12, 0, 12, 2, 0, 12, 12, 2, 12, 14, 12, 12, 0, 3, 2, 2, 2, 12, 9, 12, 3, 12, 12, 9, 11, 9, 9, 14, 0, 9, 13, 12, 2, 11, 9, 0, 11, 10, 4, 9, 12, 9, 8, 5, 0, 2, 12, 0, 11, 0, 12, 9, 14, 2, 2, 14, 4, 4, 12, 12, 2, 12, 11, 12, 12, 2, 12, 12, 12, 3, 12, 1, 0, 5, 3, 3, 12, 3, 7, 0, 12, 12, 12, 11, 11, 13, 0, 2, 2, 9, 3, 4, 9, 12, 12, 12, 12, 2, 9, 5, 2, 5, 9, 12, 4, 4, 12, 11, 11, 2, 12, 12, 9, 12, 6, 11, 0, 13, 12, 2, 9, 14, 0, 5, 0, 9, 2, 5, 9, 5, 12, 10, 12, 0, 1, 2, 2, 12, 8, 2, 11, 9, 12, 12, 5, 0, 9, 12, 2, 12, 9, 11, 5, 9, 9, 2, 5, 0, 10, 12, 9, 9, 12, 4, 12, 3, 11, 2, 2, 0, 4, 11, 11, 4, 0, 11, 5, 14, 11, 1, 12, 5, 12, 12, 5, 12, 12, 12, 9, 12, 12, 13, 12, 11, 12, 12, 12, 0, 9, 12, 5, 9, 2, 5, 5, 2, 5, 9, 12, 9, 3, 4, 2, 12, 12, 12, 0, 0, 12, 0, 0, 12, 0, 12, 0, 12, 9, 2, 9, 5, 2, 12, 2, 12, 2, 5, 12, 5, 2, 12, 4, 12, 12, 12, 12, 8, 5, 0, 8, 9, 12, 5, 11, 0, 12, 3, 12, 5, 12, 2, 3, 12, 11, 9, 0, 12, 12, 12, 12, 1, 2, 1, 12, 12, 9, 9, 9, 12, 4, 12, 2, 9, 2, 4, 5, 0, 2, 0, 11, 11, 14, 12, 12, 1, 5, 12, 2, 12, 12, 12, 12, 9, 12, 12, 13, 11, 0, 0, 2, 1, 2, 14, 12, 9, 5, 12, 5, 11, 2, 9, 11, 5, 3, 9, 9, 2, 2, 12, 13, 2, 2, 9, 12, 5, 12, 11, 7, 5, 12, 2, 0, 11, 2, 13, 12, 5, 11, 12, 4, 5, 4, 3, 12, 12, 3, 11, 9, 12, 5, 9, 2, 2, 12, 12, 2, 2, 2, 2, 12, 11, 0, 12, 5, 3, 2, 12, 12, 14, 12, 9, 9, 12, 10, 1, 12, 12, 5, 12, 12, 11, 8, 12, 5, 12, 12, 12, 10, 5, 5, 8, 4, 5, 12, 0, 5, 9, 5, 13, 4, 2, 12, 3, 5, 0, 5, 11, 2, 9, 12, 4, 2, 2, 11, 4, 12, 10, 5, 12, 11, 13, 12, 2, 2, 12, 0, 9, 7, 12, 1, 12, 0, 2, 14, 5, 12, 12, 0, 6, 12, 13, 9, 2, 14, 12, 4, 9, 2, 11, 2, 12, 4, 5, 12, 12, 2, 5, 9, 10, 5, 5, 12, 0, 3, 13, 3, 2, 12, 5, 11, 0, 4, 9, 12, 13, 9, 12, 2, 9, 14, 14, 0, 9, 13, 12, 12, 12, 12, 12, 4, 9, 12, 11, 12, 12, 14, 9, 9, 2, 11, 13, 12, 12, 3, 5, 12, 9, 12, 4, 12, 2, 3, 3, 12, 5, 9, 5, 2, 8, 0, 12, 5, 2, 1, 13, 2, 9, 0, 0, 9, 5, 12, 12, 12, 9, 0, 4, 9, 5, 14, 12, 5, 7, 2, 2, 1, 3, 12, 12, 5, 3, 12, 2, 2, 5, 4, 2, 12, 12, 2, 12, 14, 2, 9, 9, 0, 4, 9, 11, 11, 3, 2, 12, 3, 4, 5, 12, 2, 3, 12, 12, 7, 11, 5, 0, 12, 5, 12, 12, 5, 12, 12, 10, 3, 12, 3, 0, 2, 5, 12, 5, 4, 5, 2, 12, 12, 12, 0, 2, 12, 12, 12, 9, 11, 9, 2, 5, 12, 12, 5, 12, 9, 2, 9, 0, 12, 12, 12, 2, 3, 12, 12, 5, 2, 11, 14, 0, 8, 12, 2, 5, 12, 12, 2, 12, 8, 5, 2, 2, 12, 5, 0, 12, 12, 12, 12, 2, 2, 3, 2, 9, 12, 0, 2, 11, 2, 2, 2, 12, 12, 2, 14, 5, 5, 2, 11, 12, 4, 9, 2, 14, 9, 4, 2, 11, 12, 12, 2, 0, 4, 0, 5, 12, 2, 2, 9, 5, 3, 11, 4, 0, 9, 11, 11, 12, 9, 11, 12, 12, 0, 5, 12, 12, 11, 12, 11, 12, 11, 1, 12, 13, 12, 8, 11, 2, 9, 12, 1, 2, 2, 0, 3, 12, 9, 1, 12, 9, 2, 9, 4, 5, 12, 12, 11, 0, 13, 12, 5, 14, 12, 2, 12, 12, 5, 3, 9, 11, 14, 9, 2, 2, 9, 12, 12, 9, 12, 5, 0, 2, 9, 2, 2, 14, 2, 12, 10, 5, 3, 9, 10, 9, 12, 12, 2, 2, 12, 11, 11, 12, 12, 9, 5, 5, 12, 5, 2, 2, 9, 5, 5, 12, 11, 11, 5, 2, 5, 0, 9, 12, 0, 0, 12, 12, 12, 11, 9, 12, 3, 5, 11, 9, 12, 1, 2, 0, 2, 2, 12, 10, 11, 2, 9, 4, 0, 11, 9, 14, 12, 9, 12, 2, 2, 11, 9, 12, 9, 11, 8, 3, 0, 11, 12, 9, 12, 1, 3, 5, 12, 9, 5, 11, 12, 0, 12, 5, 4, 9, 2, 12, 5, 9, 3, 12, 12, 4, 5, 4, 12, 12, 4, 13, 2, 10, 5, 5, 12, 5, 11, 2, 2, 0, 0, 12, 12, 12, 12, 1, 12, 0, 12, 12, 11, 1, 2, 12, 5, 12, 2, 12, 1, 9, 14, 5, 12, 0, 12, 13, 12, 2, 4, 10, 12, 12, 2, 12, 5, 0, 5, 4, 0, 2, 12, 0, 12, 0, 11, 12, 0, 2, 12, 12, 3, 5, 0, 6, 0, 9, 9, 5, 9, 11, 5, 1, 0, 9, 0, 3, 9, 11, 0, 12, 9, 12, 13, 2, 11, 12, 3, 11, 2, 3, 14, 3, 12, 10, 9, 11, 14, 10, 12, 1, 8, 1, 12, 9, 9, 12, 14, 5, 5, 2, 2, 12, 12, 9, 2, 12, 0, 12, 3, 3, 2, 5, 12, 12, 11, 13, 5, 11, 10, 9, 2, 13, 12, 1, 13, 11, 1, 11, 0, 12, 11, 12, 12, 11, 11, 5, 5, 5, 2, 2, 2, 2, 9, 12, 12, 12, 12, 3, 9, 12, 2, 12, 2, 9, 5, 11, 1, 3, 5, 2, 4, 9, 2, 9, 0, 13, 2, 9, 11, 9, 12, 4, 12, 1, 2, 12, 12, 12, 5, 11, 9, 12, 12, 5, 12, 3, 5, 12, 12, 12, 2, 3, 11, 9, 2, 5, 12, 12, 14, 2, 9, 12, 11, 12, 9, 12, 9, 0, 12, 0, 9, 5, 14, 12, 5, 11, 4, 7, 11, 12, 2, 5, 12, 2, 12, 5, 12, 11, 11, 12, 2, 5, 5, 4, 12, 5, 2, 12, 5, 2, 1, 0, 4, 1, 12, 11, 11, 9, 9, 5, 2, 8, 8, 2, 12, 2, 2, 12, 1, 12, 1, 0, 12, 14, 5, 9, 5, 7, 0, 12, 2, 12, 12, 12, 7, 10, 5, 2, 12, 12, 14, 4, 9, 2, 9, 12, 11, 0, 1, 12, 11, 3, 0, 3, 12, 9, 3, 11, 12, 12, 5, 12, 0, 12, 9, 9, 12, 12, 9, 5, 5, 5, 0, 5, 13, 1, 2, 9, 2, 12, 0, 12, 12, 5, 9, 9, 14, 12, 3, 12, 12, 12, 12, 5, 11, 11, 2, 12, 5, 2, 2, 9, 0, 9, 3, 11, 11, 11, 2, 11, 13, 5, 12, 1, 9, 5, 12, 2, 0, 11, 12, 9, 9, 5, 4, 12, 12, 12, 8, 14, 12, 2, 5, 5, 9, 12, 13, 12, 9, 9, 0, 12, 12, 12, 13, 12, 0, 12, 6, 11, 12, 5, 9, 2, 2, 2, 2, 11, 12, 9, 8, 12, 12, 5, 4, 11, 11, 5, 12, 5, 4, 5, 2, 5, 12, 11, 12, 0, 4, 5, 9, 12, 12, 12, 12, 9, 0, 3, 12, 3, 0, 9, 12, 11, 11, 12, 12, 0, 12, 11, 3, 2, 12, 12, 3, 12, 9, 12, 12, 5, 12, 0, 12, 9, 12, 4, 12, 5, 5, 4, 5, 1, 2, 11, 12, 5, 12, 12, 2, 0, 12, 1, 4, 12, 12, 12, 5, 14, 14, 12, 12, 7, 5, 9, 3, 12, 13, 5, 5, 12, 12, 5, 5, 12, 13, 2, 12, 12, 12, 0, 11, 1, 9, 12, 12, 12, 12, 12, 11, 12, 3, 5, 12, 12, 8, 2, 11, 13, 12, 12, 9, 12, 5, 12, 0, 12, 11, 12, 3, 12, 4, 14, 12, 2, 14, 9, 12, 12, 4, 5, 4, 4, 12, 12, 12, 9, 14, 12, 4, 5, 12, 12, 12, 1, 12, 1, 5, 2, 9, 9, 12, 2, 2, 0, 3, 2, 5, 2, 3, 11, 2, 12, 12, 2, 9, 11, 0, 2, 12, 3, 4, 1, 2, 9, 12, 12, 4, 2, 12, 0, 3, 5, 14, 12, 12, 12, 5, 11, 2, 4, 12, 9, 0, 9, 5, 12, 14, 5, 1, 12, 4, 12, 12, 14, 12, 12, 5, 12, 12, 4, 5, 4, 5, 12, 12, 7, 2, 9, 2, 0, 11, 0, 12, 5, 14, 12, 12, 2, 2, 13, 2, 3, 12, 11, 8, 12, 5, 12, 10, 5, 5, 5, 5, 3, 4, 11, 5, 12, 12, 13, 3, 11, 4, 4, 0, 9, 12, 12, 12, 5, 3, 12, 13, 2, 14, 12, 9, 5, 12, 12, 12, 5, 5, 11, 2, 5, 12, 5, 9, 9, 9, 12, 11, 12, 10, 12, 14, 2, 5, 11, 12, 9, 11, 12, 2, 1, 5, 5, 9, 5, 12, 11, 9, 12, 3, 12, 11, 12, 14, 5, 5, 12, 12, 12, 4, 5, 4, 0, 11, 9, 2, 12, 2, 12, 0, 0, 12, 5, 12, 5, 5, 9, 9, 9, 12, 12, 5, 12, 11, 2, 14, 5, 12, 3, 10, 5, 2, 8, 5, 11, 9, 12, 12, 9, 12, 9, 11, 5, 11, 3, 10, 5, 2, 0, 12, 9, 11, 9, 9, 12, 0, 5, 5, 11, 4, 12, 12, 12, 9, 2, 12, 12, 1, 0, 2, 12, 12, 1, 4, 9, 9, 0, 12, 12, 5, 5, 5, 11, 5, 12, 12, 14, 12, 13, 2, 13, 5, 5, 4, 0, 5, 12, 2, 12, 1, 0, 8, 1, 12, 8, 4, 1, 12, 2, 1, 14, 12, 12, 12, 12, 12, 4, 5, 13, 12, 11, 6, 12, 13, 11, 9, 9, 9, 0, 12, 9, 13, 4, 3, 2, 5, 5, 14, 9, 12, 5, 5, 13, 7, 2, 0, 3, 2, 12, 12, 12, 4, 9, 3, 1, 9, 12, 2, 3, 11, 3, 11, 11, 14, 9, 0, 4, 12, 12, 1, 0, 9, 2, 12, 9, 2, 12, 12, 9, 12, 9, 9, 3, 2, 12, 5, 12, 12, 0, 1, 12, 9, 11, 4, 12, 5, 12, 2, 14, 0, 9, 2, 5, 5, 0, 12, 9, 12, 5, 2, 3, 11, 12, 5, 12, 12, 4, 12, 12, 12, 11, 0, 0, 2, 9, 12, 12, 4, 9, 11, 12, 3, 3, 2, 14, 0, 12, 5, 7, 11, 4, 12, 12, 11, 12, 11, 2, 12, 12, 5, 11, 5, 12, 14, 12, 4, 11, 5, 14, 2, 2, 9, 5, 9, 5, 2, 5, 12, 3, 12, 12, 0, 5, 0, 2, 3, 1, 12, 6, 0, 0, 0, 14, 2, 13, 12, 9, 0, 12, 9, 11, 5, 5, 0, 12, 2, 2, 12, 5, 5, 11, 9, 12, 12, 12, 12, 5, 5, 5, 4, 4, 5, 4, 2, 12, 10, 1, 12, 2, 10, 0, 14, 12, 12, 2, 2, 2, 12, 12, 9, 12, 5, 11, 12, 12, 9, 12, 1, 11, 9, 5, 0, 11, 11, 11, 2, 12, 5, 9, 12, 0, 7, 9, 5, 1, 14, 9, 9, 11, 5, 11, 2, 0, 11, 12, 13, 4, 3, 3, 13, 11, 5, 0, 3, 12, 12, 3, 12, 12, 5, 4, 5, 11, 12, 3, 4, 14, 14, 9, 12, 4, 12, 2, 9, 2, 9, 3, 0, 12, 9, 11, 12, 11, 9, 9, 12, 9, 12, 2, 9, 5, 0, 5, 12, 9, 1, 12, 12, 12, 12, 14, 12, 2, 12, 12, 2, 5, 11, 12, 3, 13, 12, 4, 2, 0, 12, 9, 12, 5, 5, 5, 0, 2, 12, 8, 9, 11, 0, 12, 9, 11, 5, 3, 9, 12, 2, 0, 5, 5, 9, 2, 0, 12, 12, 5, 2, 5, 2, 14, 12, 12, 2, 9, 12, 2, 14, 10, 11, 12, 11, 5, 7, 9, 1, 5, 12, 13, 12, 9, 12, 2, 11, 12, 12, 2, 12, 13, 11, 5, 3, 5, 12, 12, 12, 3, 13, 4, 5, 5, 12, 9, 2, 5, 12, 12, 9, 3, 14, 14, 14, 2, 4, 12, 14, 12, 0, 0, 12, 12, 1, 12, 10, 8, 2, 5, 2, 0, 5, 4, 12, 0, 4, 2, 3, 12, 12, 12, 2, 11, 3, 12, 11, 11, 3, 10, 2, 12, 9, 12, 6, 9, 9, 12, 0, 0, 9, 2, 2, 12, 9, 14, 0, 9, 11, 3, 9, 5, 3, 12, 12, 9, 11, 2, 12, 11, 12, 3, 12, 12, 12, 5, 12, 9, 0, 12, 11, 0, 11, 12, 4, 9, 12, 5, 11, 1, 4, 5, 11, 5, 11, 11, 5, 12, 5, 5, 0, 6, 5, 0, 12, 9, 2, 4, 12, 9, 12, 5, 0, 5, 4, 5, 4, 12, 0, 14, 11, 5, 12, 11, 1, 12, 13, 12, 9, 12, 12, 11, 12, 14, 12, 5, 9, 5, 0, 12, 5, 12, 3, 3, 4, 5, 10, 12, 0, 5, 12, 0, 0, 12, 9, 12, 12, 5, 2, 11, 12, 11, 12, 10, 0, 11, 12, 12, 2, 12, 0, 14, 12, 2, 9, 2, 12, 9, 12, 5, 11, 4, 5, 9, 5, 5, 5, 12, 12, 0, 5, 3, 0, 3, 9, 12, 5, 2, 11, 2, 11, 11, 12, 2, 2, 2, 3, 1, 9, 14, 2, 11, 4, 4, 11, 5, 2, 12, 13, 12, 6, 9, 11, 9, 12, 12, 5, 12, 4, 2, 13, 4, 8, 5, 9, 12, 4, 11, 5, 11, 5, 0, 5, 2, 12, 11, 2, 2, 2, 9, 9, 5, 12, 12, 3, 12, 14, 12, 12, 13, 11, 9, 5, 5, 4, 11, 13, 3, 2, 12, 4, 9, 12, 9, 12, 12, 12, 2, 0, 5, 5, 12, 9, 2, 2, 5, 14, 12, 12, 12, 5, 9, 11, 5, 11, 13, 0, 2, 12, 12, 7, 4, 0, 2, 3, 5, 5, 2, 3, 5, 12, 12, 12, 5, 12, 12, 12, 3, 10, 1, 4, 0, 0, 0, 12, 12, 4, 9, 12, 11, 0, 0, 11, 13, 5, 11, 5, 11, 1, 0, 9, 11, 2, 12, 12, 12, 12, 5, 9, 0, 5, 12, 12, 12, 3, 9, 2, 12, 12, 2, 9, 8, 5, 12, 9, 0, 2, 13, 12, 12, 9, 12, 3, 12, 11, 9, 10, 11, 14, 4, 12, 14, 0, 5, 11, 2, 12, 11, 4, 5, 0, 11, 11, 2, 0, 9, 7, 5, 12, 9, 2, 0, 12, 0, 2, 12, 9, 2, 6, 12, 2, 2, 1, 3, 0, 9, 2, 13, 12, 14, 0, 9, 0, 12, 9, 12, 12, 12, 11, 12, 9, 11, 12, 12, 13, 5, 2, 12, 0, 2, 12, 11, 2, 7, 12, 4, 11, 12, 2, 3, 4, 9, 7, 4, 2, 4, 5, 12, 2, 0, 9, 3, 12, 11, 9, 5, 12, 12, 12, 2, 9, 12, 2, 3, 3, 12, 5, 1, 11, 4, 11, 12, 12, 9, 3, 9, 3, 1, 5, 11, 0, 11, 12, 12, 0, 10, 9, 12, 2, 3, 5, 10, 5, 5, 0, 5, 9, 12, 13, 11, 2, 11, 0, 5, 11, 5, 12, 12, 11, 12, 5, 14, 10, 4, 5, 11, 4, 5, 11, 5, 0, 9, 2, 11, 12, 12, 5, 13, 5, 9, 4, 0, 5, 12, 12, 13, 12, 12, 14, 14, 10, 12, 3, 5, 0, 2, 3, 12, 0, 9, 9, 5, 11, 11, 12, 9, 5, 5, 13, 5, 9, 3, 4, 0, 10, 3, 5, 8, 10, 14, 5, 3, 13, 11, 9, 0, 0, 9, 4, 9, 3, 3, 12, 12, 12, 5, 1, 12, 5, 0, 4, 5, 9, 0, 12, 13, 11, 9, 12, 12, 2, 12, 10, 12, 11, 2, 2, 11, 2, 5, 9, 11, 4, 11, 2, 1, 0, 12, 13, 5, 0, 0, 5, 12, 4, 3, 3, 12, 12, 5, 0, 9]\n",
      "38100\n"
     ]
    }
   ],
   "source": [
    "label_pred = get_prediction_labels(model_test, test_set)\n",
    "\n",
    "print(label_pred)\n",
    "print(len(label_pred))"
   ]
  },
  {
   "cell_type": "code",
   "execution_count": 59,
   "metadata": {},
   "outputs": [
    {
     "name": "stdout",
     "output_type": "stream",
     "text": [
      "   id                                           sentence  \\\n",
      "0   1  గత 15 సంవత్సరాలుగా ఆర్లింగ్టన్ కౌంటీ బోర్డ్ సభ...   \n",
      "1   2  Soll illegalen Einwanderern der Führerschein v...   \n",
      "2   3  由 D-San Francisco 议员 Mark Leno 赞助。大会司法委员会于 4 月...   \n",
      "3   4  एक वरिष्ठ प्रशासनिक अधिकारीले भने कि रेनो घोषण...   \n",
      "4   5  The panel Wednesday approved the resolution in...   \n",
      "\n",
      "                      predicted_label  label_ID language  \n",
      "0                     Quality of Life         9       te  \n",
      "1                            Morality         2       de  \n",
      "2  Policy Prescription and Evaluation         5    zh-CN  \n",
      "3                           Political        12       ne  \n",
      "4                           Political        12       en  \n"
     ]
    }
   ],
   "source": [
    "# Fill in the unlabeled dataset\n",
    "unlabelled_test_df[\"label_ID\"] = label_pred\n",
    "unlabelled_test_df[\"predicted_label\"] = unlabelled_test_df[\"label_ID\"].apply(\n",
    "    lambda x: labels_dict[x])\n",
    "\n",
    "print(unlabelled_test_df.head())\n"
   ]
  },
  {
   "cell_type": "code",
   "execution_count": 61,
   "metadata": {},
   "outputs": [],
   "source": [
    "unlabelled_test_df.to_json(\"class_output.json\", orient=\"records\")"
   ]
  },
  {
   "attachments": {},
   "cell_type": "markdown",
   "metadata": {
    "id": "6XyBdAup-e6Z"
   },
   "source": [
    "### *DESCRIBE YOUR QUALITATIVE ANALYSIS OF THE ABOVE EXAMPLES IN YOUR REPORT*"
   ]
  },
  {
   "attachments": {},
   "cell_type": "markdown",
   "metadata": {
    "id": "szIkBDiQ_Mkv"
   },
   "source": [
    "\n",
    "\n",
    "---\n",
    "\n",
    "Finished? Remember to upload the PDF file of this notebook, report and your three dataset files (annotator1.tsv, annotator2.tsv, and final_data.tsv) to Gradescope with the filename line formatted as **Firstname_Lastname_HW2**.\n"
   ]
  }
 ],
 "metadata": {
  "accelerator": "GPU",
  "colab": {
   "collapsed_sections": [
    "SgNZTjrhcHa0"
   ],
   "provenance": []
  },
  "kernelspec": {
   "display_name": "Python 3 (ipykernel)",
   "language": "python",
   "name": "python3"
  },
  "language_info": {
   "codemirror_mode": {
    "name": "ipython",
    "version": 3
   },
   "file_extension": ".py",
   "mimetype": "text/x-python",
   "name": "python",
   "nbconvert_exporter": "python",
   "pygments_lexer": "ipython3",
   "version": "3.11.5"
  },
  "widgets": {
   "application/vnd.jupyter.widget-state+json": {
    "08dd1578798a455b987ea8b97a006e1b": {
     "model_module": "@jupyter-widgets/controls",
     "model_module_version": "1.5.0",
     "model_name": "HTMLModel",
     "state": {
      "_dom_classes": [],
      "_model_module": "@jupyter-widgets/controls",
      "_model_module_version": "1.5.0",
      "_model_name": "HTMLModel",
      "_view_count": null,
      "_view_module": "@jupyter-widgets/controls",
      "_view_module_version": "1.5.0",
      "_view_name": "HTMLView",
      "description": "",
      "description_tooltip": null,
      "layout": "IPY_MODEL_84b32485e3ef43ce80ff4923e24402e9",
      "placeholder": "​",
      "style": "IPY_MODEL_6d454a2fd3bb4b5ab1d58f73c0e36740",
      "value": " 440M/440M [00:09&lt;00:00, 75.3MB/s]"
     }
    },
    "59edfe839ac84e4499b1442a8d4da766": {
     "model_module": "@jupyter-widgets/controls",
     "model_module_version": "1.5.0",
     "model_name": "ProgressStyleModel",
     "state": {
      "_model_module": "@jupyter-widgets/controls",
      "_model_module_version": "1.5.0",
      "_model_name": "ProgressStyleModel",
      "_view_count": null,
      "_view_module": "@jupyter-widgets/base",
      "_view_module_version": "1.2.0",
      "_view_name": "StyleView",
      "bar_color": null,
      "description_width": ""
     }
    },
    "6656d28a9ab045e39e9c02011ea46a55": {
     "model_module": "@jupyter-widgets/base",
     "model_module_version": "1.2.0",
     "model_name": "LayoutModel",
     "state": {
      "_model_module": "@jupyter-widgets/base",
      "_model_module_version": "1.2.0",
      "_model_name": "LayoutModel",
      "_view_count": null,
      "_view_module": "@jupyter-widgets/base",
      "_view_module_version": "1.2.0",
      "_view_name": "LayoutView",
      "align_content": null,
      "align_items": null,
      "align_self": null,
      "border": null,
      "bottom": null,
      "display": null,
      "flex": null,
      "flex_flow": null,
      "grid_area": null,
      "grid_auto_columns": null,
      "grid_auto_flow": null,
      "grid_auto_rows": null,
      "grid_column": null,
      "grid_gap": null,
      "grid_row": null,
      "grid_template_areas": null,
      "grid_template_columns": null,
      "grid_template_rows": null,
      "height": null,
      "justify_content": null,
      "justify_items": null,
      "left": null,
      "margin": null,
      "max_height": null,
      "max_width": null,
      "min_height": null,
      "min_width": null,
      "object_fit": null,
      "object_position": null,
      "order": null,
      "overflow": null,
      "overflow_x": null,
      "overflow_y": null,
      "padding": null,
      "right": null,
      "top": null,
      "visibility": null,
      "width": null
     }
    },
    "6d454a2fd3bb4b5ab1d58f73c0e36740": {
     "model_module": "@jupyter-widgets/controls",
     "model_module_version": "1.5.0",
     "model_name": "DescriptionStyleModel",
     "state": {
      "_model_module": "@jupyter-widgets/controls",
      "_model_module_version": "1.5.0",
      "_model_name": "DescriptionStyleModel",
      "_view_count": null,
      "_view_module": "@jupyter-widgets/base",
      "_view_module_version": "1.2.0",
      "_view_name": "StyleView",
      "description_width": ""
     }
    },
    "773ef9da4400420ba043853a1070a283": {
     "model_module": "@jupyter-widgets/base",
     "model_module_version": "1.2.0",
     "model_name": "LayoutModel",
     "state": {
      "_model_module": "@jupyter-widgets/base",
      "_model_module_version": "1.2.0",
      "_model_name": "LayoutModel",
      "_view_count": null,
      "_view_module": "@jupyter-widgets/base",
      "_view_module_version": "1.2.0",
      "_view_name": "LayoutView",
      "align_content": null,
      "align_items": null,
      "align_self": null,
      "border": null,
      "bottom": null,
      "display": null,
      "flex": null,
      "flex_flow": null,
      "grid_area": null,
      "grid_auto_columns": null,
      "grid_auto_flow": null,
      "grid_auto_rows": null,
      "grid_column": null,
      "grid_gap": null,
      "grid_row": null,
      "grid_template_areas": null,
      "grid_template_columns": null,
      "grid_template_rows": null,
      "height": null,
      "justify_content": null,
      "justify_items": null,
      "left": null,
      "margin": null,
      "max_height": null,
      "max_width": null,
      "min_height": null,
      "min_width": null,
      "object_fit": null,
      "object_position": null,
      "order": null,
      "overflow": null,
      "overflow_x": null,
      "overflow_y": null,
      "padding": null,
      "right": null,
      "top": null,
      "visibility": null,
      "width": null
     }
    },
    "84b32485e3ef43ce80ff4923e24402e9": {
     "model_module": "@jupyter-widgets/base",
     "model_module_version": "1.2.0",
     "model_name": "LayoutModel",
     "state": {
      "_model_module": "@jupyter-widgets/base",
      "_model_module_version": "1.2.0",
      "_model_name": "LayoutModel",
      "_view_count": null,
      "_view_module": "@jupyter-widgets/base",
      "_view_module_version": "1.2.0",
      "_view_name": "LayoutView",
      "align_content": null,
      "align_items": null,
      "align_self": null,
      "border": null,
      "bottom": null,
      "display": null,
      "flex": null,
      "flex_flow": null,
      "grid_area": null,
      "grid_auto_columns": null,
      "grid_auto_flow": null,
      "grid_auto_rows": null,
      "grid_column": null,
      "grid_gap": null,
      "grid_row": null,
      "grid_template_areas": null,
      "grid_template_columns": null,
      "grid_template_rows": null,
      "height": null,
      "justify_content": null,
      "justify_items": null,
      "left": null,
      "margin": null,
      "max_height": null,
      "max_width": null,
      "min_height": null,
      "min_width": null,
      "object_fit": null,
      "object_position": null,
      "order": null,
      "overflow": null,
      "overflow_x": null,
      "overflow_y": null,
      "padding": null,
      "right": null,
      "top": null,
      "visibility": null,
      "width": null
     }
    },
    "a8b54d415fad4c08a2fd092ede957007": {
     "model_module": "@jupyter-widgets/controls",
     "model_module_version": "1.5.0",
     "model_name": "DescriptionStyleModel",
     "state": {
      "_model_module": "@jupyter-widgets/controls",
      "_model_module_version": "1.5.0",
      "_model_name": "DescriptionStyleModel",
      "_view_count": null,
      "_view_module": "@jupyter-widgets/base",
      "_view_module_version": "1.2.0",
      "_view_name": "StyleView",
      "description_width": ""
     }
    },
    "c9e7226f646849789fbab6a9fbab4acd": {
     "model_module": "@jupyter-widgets/base",
     "model_module_version": "1.2.0",
     "model_name": "LayoutModel",
     "state": {
      "_model_module": "@jupyter-widgets/base",
      "_model_module_version": "1.2.0",
      "_model_name": "LayoutModel",
      "_view_count": null,
      "_view_module": "@jupyter-widgets/base",
      "_view_module_version": "1.2.0",
      "_view_name": "LayoutView",
      "align_content": null,
      "align_items": null,
      "align_self": null,
      "border": null,
      "bottom": null,
      "display": null,
      "flex": null,
      "flex_flow": null,
      "grid_area": null,
      "grid_auto_columns": null,
      "grid_auto_flow": null,
      "grid_auto_rows": null,
      "grid_column": null,
      "grid_gap": null,
      "grid_row": null,
      "grid_template_areas": null,
      "grid_template_columns": null,
      "grid_template_rows": null,
      "height": null,
      "justify_content": null,
      "justify_items": null,
      "left": null,
      "margin": null,
      "max_height": null,
      "max_width": null,
      "min_height": null,
      "min_width": null,
      "object_fit": null,
      "object_position": null,
      "order": null,
      "overflow": null,
      "overflow_x": null,
      "overflow_y": null,
      "padding": null,
      "right": null,
      "top": null,
      "visibility": null,
      "width": null
     }
    },
    "d7bb05e9fd0f4481b4f31f23592c81bb": {
     "model_module": "@jupyter-widgets/controls",
     "model_module_version": "1.5.0",
     "model_name": "HTMLModel",
     "state": {
      "_dom_classes": [],
      "_model_module": "@jupyter-widgets/controls",
      "_model_module_version": "1.5.0",
      "_model_name": "HTMLModel",
      "_view_count": null,
      "_view_module": "@jupyter-widgets/controls",
      "_view_module_version": "1.5.0",
      "_view_name": "HTMLView",
      "description": "",
      "description_tooltip": null,
      "layout": "IPY_MODEL_773ef9da4400420ba043853a1070a283",
      "placeholder": "​",
      "style": "IPY_MODEL_a8b54d415fad4c08a2fd092ede957007",
      "value": "Downloading: 100%"
     }
    },
    "f84338bb2e9d444eb7733efdb63bb487": {
     "model_module": "@jupyter-widgets/controls",
     "model_module_version": "1.5.0",
     "model_name": "HBoxModel",
     "state": {
      "_dom_classes": [],
      "_model_module": "@jupyter-widgets/controls",
      "_model_module_version": "1.5.0",
      "_model_name": "HBoxModel",
      "_view_count": null,
      "_view_module": "@jupyter-widgets/controls",
      "_view_module_version": "1.5.0",
      "_view_name": "HBoxView",
      "box_style": "",
      "children": [
       "IPY_MODEL_d7bb05e9fd0f4481b4f31f23592c81bb",
       "IPY_MODEL_fe84965ca2dc4121aadd69ba7f70fc58",
       "IPY_MODEL_08dd1578798a455b987ea8b97a006e1b"
      ],
      "layout": "IPY_MODEL_c9e7226f646849789fbab6a9fbab4acd"
     }
    },
    "fe84965ca2dc4121aadd69ba7f70fc58": {
     "model_module": "@jupyter-widgets/controls",
     "model_module_version": "1.5.0",
     "model_name": "FloatProgressModel",
     "state": {
      "_dom_classes": [],
      "_model_module": "@jupyter-widgets/controls",
      "_model_module_version": "1.5.0",
      "_model_name": "FloatProgressModel",
      "_view_count": null,
      "_view_module": "@jupyter-widgets/controls",
      "_view_module_version": "1.5.0",
      "_view_name": "ProgressView",
      "bar_style": "success",
      "description": "",
      "description_tooltip": null,
      "layout": "IPY_MODEL_6656d28a9ab045e39e9c02011ea46a55",
      "max": 440473133,
      "min": 0,
      "orientation": "horizontal",
      "style": "IPY_MODEL_59edfe839ac84e4499b1442a8d4da766",
      "value": 440473133
     }
    }
   }
  }
 },
 "nbformat": 4,
 "nbformat_minor": 1
}
